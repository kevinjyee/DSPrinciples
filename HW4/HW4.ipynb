{
 "cells": [
  {
   "cell_type": "markdown",
   "metadata": {
    "collapsed": true
   },
   "source": [
    "\n",
    "# <p style=\"text-align: center;\">EE 461P: Data Science Principles</p>\n",
    "# <p style=\"text-align: center;\">Assignment 4</p>\n",
    "## <p style=\"text-align: center;\">Total points: 60</p>\n",
    "## <p style=\"text-align: center;\">Due: Thursday, November 9th, submitted via Canvas by 11:59 pm</p>\n",
    "### <p style=\"text-align: center;\">Jayaj Poudel and Kevin Yee</p>\n",
    "### <p style=\"text-align: center;\">Jp49672 and kjy252</p>\n",
    "\n",
    "Your homework should be written in a **Jupyter notebook**. You may work in groups of two if you wish. Only one student per team needs to submit the assignment on Canvas.  But be sure to include name and UTID for both students.  Homework groups will be created and managed through Canvas, so please do not arbitrarily change your homework group.  \n",
    "\n",
    "Also, please make sure your code runs and the graphics (and anything else) are displayed in your notebook before submitting. (%matplotlib inline)"
   ]
  },
  {
   "cell_type": "markdown",
   "metadata": {},
   "source": [
    "# Question 1 - Bayesian Classifiers (15 pts)\n",
    "\n",
    "In this problem, you will classify between digits 8 and 9 of the MNIST dataset using Bayesian classifiers (LDA, QDA and Naive Bayes) The code below loads the dataset and all necessary sklearn modules. Look up any module on the scikit-learn website for a full description.\n",
    "\n",
    "1. Train Linear Discriminant Analysis, Quadratic Discriminant Analysis, and (Gaussian) Naive Bayes. Extract the probability of the class being digits 8 or digits 9 for every row. \n",
    "2. Use this to plot the receiver operating characteristic (ROC) curve. (one figure for all 3 models, with a label for each line) \n",
    "3. Report the area under the ROC curve (AUC) for each model. (5 pts for each model. Total of 15 pts)"
   ]
  },
  {
   "cell_type": "code",
   "execution_count": 1,
   "metadata": {
    "collapsed": true
   },
   "outputs": [],
   "source": [
    "%matplotlib inline\n",
    "import pandas as pd\n",
    "from sklearn.model_selection import train_test_split\n",
    "from sklearn.metrics import roc_curve, roc_auc_score, auc\n",
    "from sklearn.naive_bayes import GaussianNB\n",
    "from sklearn.discriminant_analysis import LinearDiscriminantAnalysis as LDA\n",
    "from sklearn.discriminant_analysis import QuadraticDiscriminantAnalysis as QDA\n",
    "import numpy as np\n",
    "import matplotlib.pyplot as plt"
   ]
  },
  {
   "cell_type": "code",
   "execution_count": 2,
   "metadata": {
    "collapsed": true
   },
   "outputs": [],
   "source": [
    "import matplotlib.pyplot as plt\n",
    "from sklearn.datasets import fetch_mldata\n",
    "\n",
    "mnist = fetch_mldata(\"MNIST original\", data_home='./dataset/')  # data downloaded in'./dataset/', change if necessary\n",
    "\n",
    "X= (mnist.data / 255.)\n",
    "y = mnist.target\n",
    "\n",
    "X_train = X[:60000]\n",
    "y_train = y[:60000]\n",
    "\n",
    "X_test = X[60000:]\n",
    "y_test = y[60000:]"
   ]
  },
  {
   "cell_type": "code",
   "execution_count": 3,
   "metadata": {
    "collapsed": false
   },
   "outputs": [
    {
     "name": "stdout",
     "output_type": "stream",
     "text": [
      "((11800L, 784L), (11800L,), (1983L, 784L), (1983L,))\n"
     ]
    }
   ],
   "source": [
    "idx = (y_train == 8) + (y_train==9)\n",
    "X_train = X_train[idx]\n",
    "y_train = y_train[idx]\n",
    "y_train = (y_train-8)\n",
    "\n",
    "idx = (y_test == 8) + (y_test==9)\n",
    "X_test = X_test[idx]\n",
    "y_test = y_test[idx]\n",
    "\n",
    "# Binary Classification\n",
    "# Where 0 means 8 and 1 means 9\n",
    "y_test = (y_test-8)\n",
    "\n",
    "print(X_train.shape, y_train.shape, X_test.shape, y_test.shape)"
   ]
  },
  {
   "cell_type": "markdown",
   "metadata": {},
   "source": [
    "## Solutions"
   ]
  },
  {
   "cell_type": "markdown",
   "metadata": {},
   "source": [
    "## 1.1 Probability of 8 or 9 using LDA, QDA, and Naive Bayes"
   ]
  },
  {
   "cell_type": "code",
   "execution_count": 19,
   "metadata": {
    "collapsed": false
   },
   "outputs": [
    {
     "name": "stdout",
     "output_type": "stream",
     "text": [
      "\n",
      "LDA Prediction\n",
      "Average Probability of being 8: 48.734 percent\n",
      "Average Probability of being 9: 51.266 percent\n",
      "\n",
      "QDA Prediction\n",
      "Average Probability of being 8: 45.182 percent\n",
      "Average Probability of being 9: 54.818 percent\n",
      "\n",
      "Naive Bayes Prediction\n",
      "Average Probability of being 8: 39.448 percent\n",
      "Average Probability of being 9: 60.552 percent\n"
     ]
    }
   ],
   "source": [
    "# Train LDA model \n",
    "lda = LDA()\n",
    "lda.fit(X_train, y_train)\n",
    "lda_preds = lda.predict_proba(X_test)\n",
    "print(\"\\nLDA Prediction\")\n",
    "print(\"Average Probability of being 8: %0.3f percent\"%(lda_preds[:,0].mean()*100))\n",
    "print(\"Average Probability of being 9: %0.3f percent\"%(lda_preds[:,1].mean()*100))\n",
    "\n",
    "# Train QDA model\n",
    "qda = QDA()\n",
    "qda.fit(X_train, y_train)\n",
    "qda_preds = qda.predict_proba(X_test)\n",
    "print(\"\\nQDA Prediction\")\n",
    "print(\"Average Probability of being 8: %0.3f percent\"%(qda_preds[:,0].mean()*100))\n",
    "print(\"Average Probability of being 9: %0.3f percent\"%(qda_preds[:,1].mean()*100))\n",
    "\n",
    "# Train Naive Bayes model\n",
    "NB = GaussianNB()\n",
    "NB.fit(X_train, y_train)\n",
    "NB_preds = NB.predict_proba(X_test)\n",
    "print(\"\\nNaive Bayes Prediction\")\n",
    "print(\"Average Probability of being 8: %0.3f percent\"%(NB_preds[:,0].mean()*100))\n",
    "print(\"Average Probability of being 9: %0.3f percent\"%(NB_preds[:,1].mean()*100))"
   ]
  },
  {
   "cell_type": "markdown",
   "metadata": {},
   "source": [
    "## 1.2 ROC Curves"
   ]
  },
  {
   "cell_type": "code",
   "execution_count": 45,
   "metadata": {
    "collapsed": false
   },
   "outputs": [],
   "source": [
    "LDA_fpr, LDA_tpr, LDA_thresholds = roc_curve(y_test, lda_preds[:,1])\n",
    "QDA_fpr, QDA_tpr, QDA_thresholds = roc_curve(y_test, qda_preds[:,1])\n",
    "NB_fpr, NB_tpr, NB_thresholds = roc_curve(y_test, NB_preds[:,1])"
   ]
  },
  {
   "cell_type": "code",
   "execution_count": 57,
   "metadata": {
    "collapsed": false
   },
   "outputs": [
    {
     "data": {
      "text/plain": [
       "<matplotlib.legend.Legend at 0x58508668>"
      ]
     },
     "execution_count": 57,
     "metadata": {},
     "output_type": "execute_result"
    },
    {
     "data": {
      "image/png": "[encoded data removed]",
      "text/plain": [
       "<matplotlib.figure.Figure at 0x581bcb00>"
      ]
     },
     "metadata": {},
     "output_type": "display_data"
    }
   ],
   "source": [
    "plt.figure(figsize=(16,4))\n",
    "\n",
    "\n",
    "plt.subplot(131)\n",
    "plt.plot(LDA_fpr, LDA_tpr, label = 'ROC curve (area = {0:0.2f})'\n",
    "               ''.format(auc(LDA_fpr,LDA_tpr)))\n",
    "plt.plot([0, 1], [0, 1], 'k--')\n",
    "plt.title('LDA ROC Curve')\n",
    "plt.xlabel('False Positive Rate')\n",
    "plt.ylabel('True Positive Rate')\n",
    "plt.legend()\n",
    "\n",
    "plt.subplot(132)\n",
    "plt.plot(QDA_fpr, QDA_tpr,label = 'ROC curve (area = {0:0.2f})'\n",
    "               ''.format(auc(QDA_fpr,QDA_tpr)))\n",
    "\n",
    "plt.plot([0, 1], [0, 1], 'k--')\n",
    "plt.title('QDA ROC Curve')\n",
    "plt.xlabel('False Positive Rate')\n",
    "plt.ylabel('True Positive Rate')\n",
    "plt.legend()\n",
    "\n",
    "plt.subplot(133)\n",
    "plt.plot(NB_fpr, NB_tpr)\n",
    "plt.plot(NB_fpr, NB_tpr,label = 'ROC curve (area = {0:0.2f})'\n",
    "               ''.format(auc(NB_fpr,NB_tpr)))\n",
    "plt.plot([0, 1], [0, 1], 'k--')\n",
    "plt.title('Naive Bayes ROC Curve')\n",
    "plt.xlabel('False Positive Rate')\n",
    "plt.ylabel('True Positive Rate')\n",
    "plt.legend()"
   ]
  },
  {
   "cell_type": "markdown",
   "metadata": {},
   "source": [
    "## 1.3 AUC Score"
   ]
  },
  {
   "cell_type": "code",
   "execution_count": 60,
   "metadata": {
    "collapsed": false
   },
   "outputs": [
    {
     "name": "stdout",
     "output_type": "stream",
     "text": [
      "AUC Scores\n",
      "LDA: 0.994\n",
      "QDA: 0.940\n",
      "Naive Bayes: 0.902\n"
     ]
    }
   ],
   "source": [
    "print(\"AUC Scores\")\n",
    "print(\"LDA: %0.3f\"%(auc(LDA_fpr,LDA_tpr)))\n",
    "print(\"QDA: %0.3f\"%(auc(QDA_fpr,QDA_tpr)))\n",
    "print(\"Naive Bayes: %0.3f\"%(auc(NB_fpr,NB_tpr)))"
   ]
  },
  {
   "cell_type": "markdown",
   "metadata": {},
   "source": [
    "# Question 2: Bayesian Networks (10 pts)\n",
    "In the Bayesian Network shown below, the nodes represent the following random variables: S stands for \"Smoking\", LC for \"Lung Cancer\", B for \"Bronchitis\", T for \"Tuberculosis\", D for \"Dyspnea\". The necessary conditional probabilities are provided alongside. "
   ]
  },
  {
   "cell_type": "code",
   "execution_count": 7,
   "metadata": {
    "collapsed": false
   },
   "outputs": [
    {
     "data": {
      "image/png": "[encoded data removed]",
      "text/plain": [
       "<IPython.core.display.Image object>"
      ]
     },
     "execution_count": 7,
     "metadata": {},
     "output_type": "execute_result"
    }
   ],
   "source": [
    "from IPython.display import Image\n",
    "Image(filename='BayesianNetworks.png')"
   ]
  },
  {
   "cell_type": "markdown",
   "metadata": {},
   "source": [
    "$$Pr(S = yes) = 0.1$$\n",
    "$$Pr(LC = yes | S = yes) = 0.03$$\n",
    "$$Pr(LC = yes | S = no) = 0.01$$\n",
    "$$Pr(B = yes | S = yes) = 0.06$$\n",
    "$$Pr(B = yes | S = no) = 0.02$$\n",
    "$$Pr(T = yes | LC = yes, B = yes) = 0.8$$\n",
    "$$Pr(T = yes | LC = yes, B = no) = 0.5$$\n",
    "$$Pr(T = yes | LC = no, B = yes) = 0.1$$\n",
    "$$Pr(T = yes | LC = no, B = no) = 0.04$$\n",
    "$$Pr(D = yes | T = yes, B = yes) = 0.9$$\n",
    "$$Pr(D = yes | T = yes, B = no) = 0.7$$\n",
    "$$Pr(D = yes | T = no, B = yes) = 0.65$$\n",
    "$$Pr(D = yes | T = no, B = no) = 0.015$$"
   ]
  },
  {
   "cell_type": "markdown",
   "metadata": {},
   "source": [
    "## Compute the following probabilities:\n",
    "\n",
    "### (a) (2 pts) $Pr(D = yes)$\n",
    "\n",
    "Using Law of Total Probability, we have that: \n",
    "\n",
    "$$Pr(D = yes) = \\sum_{i=1}^nPr(D = yes | A_i)P(A_i) $$ where $A_i$ is the partitions in the sample space.\n",
    "\n",
    "We thus have \n",
    "\n",
    "$$Pr(D = yes) = $$\n",
    "$$Pr(D = yes | T = yes, B = yes) * P(T = yes, B = yes)$$ \n",
    "$$ + Pr(D = yes | T = yes, B = no) * P(T = yes, B = no) $$\n",
    "$$ + Pr(D = yes | T = no, B = yes)*Pr(T = no, B = yes)$$ \n",
    "$$ + Pr(D = yes | T = no, B = no) * P(T = no, B = no)$$\n",
    "\n",
    "\n",
    "Notice we have to solve for $P(T , B)$\n",
    "\n",
    "This can be given by decomposing the joint probability to the following:\n",
    "\n",
    "$$P(T,B) = P(B|T) *  P(T) = P(T|B) * P(B)$$\n",
    "\n",
    "First let's compute $P(B)$\n",
    "\n",
    "$$ P(B) = P(B = yes | S = yes) * P( S = yes) + P(B = yes | S = no)*P(S = no) $$\n",
    "\n",
    "$$\\therefore P(B) = 0.06 * 0.1 + 0.02  * 0.9 = 0.024 $$\n",
    "\n",
    "Now, let's compute $P(T|B)$\n",
    "\n",
    "$$P(T = yes, B = yes) = P(T = yes | LC = yes, B = yes)*P(B=yes) + P(T = yes | LC = no, B = yes) * P(B=no) $$\n",
    "\n",
    "This gives us the following:\n",
    "$$P(T = yes, B = yes) = (0.8 + 0.1) * 0.024 = 0.0216 $$\n",
    "$$P(T = yes, B = no) = (0.5 + 0.04) * 0.976 = 0.527$$\n",
    "$$P(T = no, B = yes) = (0.1) * 0.024 = 0.0024 $$\n",
    "$$P(T = no, B = no) = (0.46) * 0.976 = 0.449$$\n",
    "\n",
    "We can finally plug in and evaluate the following:\n",
    "\n",
    "$$Pr(D = yes) = $$\n",
    "$$0.9 * 0.0216$$ \n",
    "$$ + 0.7 * 0.527 $$\n",
    "$$ + 0.65*0.0024$$ \n",
    "$$ + 0.015 * 0.449$$\n",
    "\n",
    "$$\\Rightarrow P(D = yes) = 0.397$$"
   ]
  },
  {
   "cell_type": "markdown",
   "metadata": {},
   "source": [
    "### (b) (2 pts) $Pr(LC = no, B = yes, D = yes)$\n",
    "\n",
    "Intersection via Conditioning:\n",
    "\n",
    "$$P(LC, B, D) = P(LC)* P(B|LC)*P(D|LC,B)$$\n",
    "\n",
    "$$P(LC, B, D) = P(LC,B) * P(D|LC, B) $$\n"
   ]
  },
  {
   "cell_type": "markdown",
   "metadata": {},
   "source": [
    "###(c) (3 pts) Given that a person has Bronchitis (B = yes) and no Lung Cancer (LC = no), the probability he will has symptoms of Dyspnea (D = yes).\n",
    "\n"
   ]
  },
  {
   "cell_type": "markdown",
   "metadata": {},
   "source": [
    "### (d) (3 pts) Given that a person is a smoker (S = yes), the probability he will get infected with Tuberculosis (T = yes)."
   ]
  },
  {
   "cell_type": "markdown",
   "metadata": {},
   "source": [
    "## Solutions"
   ]
  },
  {
   "cell_type": "markdown",
   "metadata": {},
   "source": [
    "# Question 3 - Logistic Regression Classification (15pts)\n",
    "\n",
    "Using the MNIST dataset in Q1, the goal is to build a Logistic Regression classifier to classify between digits $\\textbf{8 and 9}$.  Note that the imported MNIST dataset has 10 labels, from digits 0 to 9.  Use the code below to access the data set and extract the MNIST data."
   ]
  },
  {
   "cell_type": "code",
   "execution_count": 36,
   "metadata": {
    "collapsed": false
   },
   "outputs": [],
   "source": [
    "# Use code from Q1 to import the data"
   ]
  },
  {
   "cell_type": "code",
   "execution_count": 4,
   "metadata": {
    "collapsed": false
   },
   "outputs": [
    {
     "name": "stderr",
     "output_type": "stream",
     "text": [
      "C:\\Users\\Kevin\\Anaconda\\lib\\site-packages\\matplotlib\\__init__.py:913: UserWarning: axes.color_cycle is deprecated and replaced with axes.prop_cycle; please use the latter.\n",
      "  warnings.warn(self.msg_depr % (key, alt_key))\n"
     ]
    }
   ],
   "source": [
    "from sklearn.linear_model import LogisticRegression\n",
    "from sklearn.metrics import mean_squared_error, confusion_matrix, make_scorer, classification_report\n",
    "from sklearn.model_selection import GridSearchCV\n",
    "import seaborn as sns"
   ]
  },
  {
   "cell_type": "markdown",
   "metadata": {},
   "source": [
    "1. Train a logistic regression with almost no regularization (pass l2 (ridge) to penalty and 1,000,000 to the C parameter which is the inverse of regularization strength lambda. This essentially does l2 regularization but applies very little weight to the penalty term) and report the [confusion matrix](http://scikit-learn.org/stable/modules/generated/sklearn.metrics.confusion_matrix.html) on the test data. Also report the accuracy for the \"y = 0\" class, the \"y = 1\" class, and the average per-class accuracy on the test data. Average per-class accuracy is described in this [post](http://rasbt.github.io/mlxtend/user_guide/evaluate/scoring/). You can use your confusion matrix to calculate this.  (4pts)\n",
    "2. Repeat step 1 except use l2 penalty with Cs of [0.01, 0.1, 1, 10 ,100]. You will want to use 3-fold cross validation to select the best parameter. To evaluate which parameter is best, maximize the average per-class accuracy. To help with this task, check out [GridSearchCV](http://scikit-learn.org/stable/modules/generated/sklearn.model_selection.GridSearchCV.html#sklearn.model_selection.GridSearchCV) and how to make your own [custom scorer](http://scikit-learn.org/stable/modules/model_evaluation.html).  (4pts)\n",
    "3. Repeat question 2 except use l1 instead of l2 as the penalty type, use Cs of  [0.01, ..., 100].  Compare the performances of the models (no regularization, l2, l1) using the average per-class accuracy.  (3pts)\n",
    "4. Using the optimal regularization parameter obtained in step 2, train a logistic regression classifier with ridge penalty to clasify $\\textbf{all 10 digits}$ (digits 0,1,2,3,...9) of the MNIST dataset.  Use 'newton-cg' and 'multinomial' options for solver and multi_class parameters, respectively. Report the average per-class accuracy and confusion matrix (10 X 10) on the test data. (4pts)"
   ]
  },
  {
   "cell_type": "markdown",
   "metadata": {},
   "source": [
    "## Solutions"
   ]
  },
  {
   "cell_type": "markdown",
   "metadata": {
    "collapsed": true
   },
   "source": [
    "## 3.1 Logistic Regression + Confusion Matrix"
   ]
  },
  {
   "cell_type": "code",
   "execution_count": 6,
   "metadata": {
    "collapsed": false
   },
   "outputs": [
    {
     "name": "stdout",
     "output_type": "stream",
     "text": [
      "[[939  35]\n",
      " [ 35 974]]\n"
     ]
    }
   ],
   "source": [
    "# Logistic Regression\n",
    "logit = LogisticRegression(penalty='l2', C=1e6)\n",
    "logit.fit(X_train, y_train)\n",
    "\n",
    "# Use classifier to predict test set\n",
    "preds = logit.predict(X_test)\n",
    "\n",
    "# Determine confusion matrix \n",
    "conf_matrix = confusion_matrix(y_test,preds)\n",
    "print conf_matrix"
   ]
  },
  {
   "cell_type": "code",
   "execution_count": 12,
   "metadata": {
    "collapsed": false
   },
   "outputs": [
    {
     "data": {
      "text/plain": [
       "<matplotlib.text.Text at 0xc9244a8>"
      ]
     },
     "execution_count": 12,
     "metadata": {},
     "output_type": "execute_result"
    },
    {
     "data": {
      "image/png": "[encoded data removed]",
      "text/plain": [
       "<matplotlib.figure.Figure at 0xc81c860>"
      ]
     },
     "metadata": {},
     "output_type": "display_data"
    }
   ],
   "source": [
    "sns.heatmap(conf_matrix,annot=True)\n",
    "plt.xlabel('Predicted')\n",
    "plt.ylabel('True')"
   ]
  },
  {
   "cell_type": "markdown",
   "metadata": {},
   "source": [
    "The confusion matrix tells us the following about logistic regression:\n",
    "    * 939 '9' correctly predicted\n",
    "    * 974 '8' correctly predicted\n",
    "    * 35 '9' incorrectly predicted as '8'\n",
    "    * 35 '8' incorrectly predicted as '9'"
   ]
  },
  {
   "cell_type": "code",
   "execution_count": 14,
   "metadata": {
    "collapsed": false
   },
   "outputs": [
    {
     "name": "stdout",
     "output_type": "stream",
     "text": [
      "             precision    recall  f1-score   support\n",
      "\n",
      "        0.0       0.96      0.96      0.96       974\n",
      "        1.0       0.97      0.97      0.97      1009\n",
      "\n",
      "avg / total       0.96      0.96      0.96      1983\n",
      "\n"
     ]
    }
   ],
   "source": [
    "print(classification_report(y_test, preds))"
   ]
  },
  {
   "cell_type": "markdown",
   "metadata": {},
   "source": [
    "### Accuracy\n",
    "\n",
    "\n",
    "\n",
    "Accuracy for \"y = 0\" class, correctly predicting 8:\n",
    "\n",
    "$$\\frac{TN}{TN + FN}$$\n",
    "$$ $$\n",
    "$$\\frac{974}{974 + 35} = 0.965$$\n",
    "\n",
    "Accuracy for \"y = 1\" class, correctly predicting 9:\n",
    "$$\\frac{TP}{TP + FP}$$\n",
    "$ $\n",
    "$$\\frac{937}{937 + 35} = 0.964$$\n",
    "\n",
    "Average per class Accuracy\n",
    "\n",
    "$$\\frac{TP + TN}{FP+FN+TP+TN} $$\n",
    "$ $\n",
    "$$\\frac{937 + 974}{35+35+937+974} = 0.9647$$"
   ]
  },
  {
   "cell_type": "markdown",
   "metadata": {},
   "source": [
    "## 3.2 Finding optimal hyperparameters in Logistic Regression"
   ]
  },
  {
   "cell_type": "code",
   "execution_count": 7,
   "metadata": {
    "collapsed": true
   },
   "outputs": [],
   "source": [
    "def per_class_avgScore(ground_truth, predictions):\n",
    "    conf_mat = confusion_matrix(ground_truth, predictions);\n",
    "    TN = float(conf_mat[0][0])\n",
    "    FN = float(conf_mat[1][0])\n",
    "    TP = float(conf_mat[1][1])\n",
    "    FP = float(conf_mat[0][1])\n",
    "    return (TP + TN)/(FP + FN + TP + TN)"
   ]
  },
  {
   "cell_type": "code",
   "execution_count": 8,
   "metadata": {
    "collapsed": false
   },
   "outputs": [
    {
     "name": "stdout",
     "output_type": "stream",
     "text": [
      "LogisticRegression(C=1, class_weight=None, dual=False, fit_intercept=True,\n",
      "          intercept_scaling=1, max_iter=100, multi_class='ovr', n_jobs=1,\n",
      "          penalty='l2', random_state=None, solver='liblinear', tol=0.0001,\n",
      "          verbose=0, warm_start=False)\n",
      "0.982542372881\n",
      "{'C': 1}\n"
     ]
    }
   ],
   "source": [
    "# Custom scorer, default greater is better is true\n",
    "score = make_scorer(per_class_avgScore)\n",
    "\n",
    "#  params to GridCV over [0.01, 0.1, 1, 10 ,100]\n",
    "params = {'C': [0.01, 0.1, 1, 10 ,100]}\n",
    "\n",
    "# Gridsearch CV with Logistic Regression\n",
    "grid_search = GridSearchCV(LogisticRegression(penalty ='l2'),params,cv=3,scoring = score)\n",
    "grid_search.fit(X_train,y_train)\n",
    "\n",
    "print grid_search.best_estimator_\n",
    "print grid_search.best_score_\n",
    "print grid_search.best_params_\n"
   ]
  },
  {
   "cell_type": "markdown",
   "metadata": {},
   "source": [
    "* Optimal Hyperparameter for l2 penalty: C = 1\n",
    "\n",
    "* Best per class Average Score: 0.98254"
   ]
  },
  {
   "cell_type": "markdown",
   "metadata": {},
   "source": [
    "## 3.3 Finding optimal hyperparameters in Logisitic Regression with L1 Loss"
   ]
  },
  {
   "cell_type": "code",
   "execution_count": 9,
   "metadata": {
    "collapsed": false
   },
   "outputs": [
    {
     "name": "stdout",
     "output_type": "stream",
     "text": [
      "Grid Search Results for l1 loss:\n",
      "LogisticRegression(C=1, class_weight=None, dual=False, fit_intercept=True,\n",
      "          intercept_scaling=1, max_iter=100, multi_class='ovr', n_jobs=1,\n",
      "          penalty='l1', random_state=None, solver='liblinear', tol=0.0001,\n",
      "          verbose=0, warm_start=False)\n",
      "0.980847457627\n",
      "{'C': 1}\n",
      "('Best per class Average score:', 0.98084745762711867)\n",
      "('Optimal Parameter for l1 penalty:', {'C': 1})\n"
     ]
    }
   ],
   "source": [
    "# Gridsearch CV with Logistic Regression\n",
    "grid_search = GridSearchCV(LogisticRegression(penalty ='l1'),params,cv=3,scoring = score)\n",
    "grid_search.fit(X_train,y_train)\n",
    "\n",
    "print \"Grid Search Results for l1 loss:\"\n",
    "print grid_search.best_estimator_\n",
    "print grid_search.best_score_\n",
    "print grid_search.best_params_\n",
    "\n",
    "print (\"Best per class Average score:\",grid_search.best_score_)\n",
    "print (\"Optimal Parameter for l1 penalty:\",grid_search.best_params_)"
   ]
  },
  {
   "cell_type": "markdown",
   "metadata": {},
   "source": [
    "* Optimal Hyperparameter for l1 penalty: C = 1\n",
    "\n",
    "* Best per class Average Score: 0.98084"
   ]
  },
  {
   "cell_type": "markdown",
   "metadata": {},
   "source": [
    "### No Regularization vs L2 penalty vs L1 penalty"
   ]
  },
  {
   "cell_type": "markdown",
   "metadata": {},
   "source": [
    "#### Results\n",
    "\n",
    "1) **Per Class Avg of No Regularization, C = 100000**: 0.9647\n",
    "\n",
    "2) **Per Class Avg of L2 Penalty, C = 1**: 0.98254\n",
    "\n",
    "3) **Per Class Avg of L1 Penalty, C = 1**: 0.98084\n",
    "\n",
    "The results above indicates that the initial model was overfitting. With very little regularization, the best per class average score was 0.9647\n",
    "\n",
    "After putting high regularization, with C = 1, for both ridge(l2) and lasso(l1), the best per class average score were both ~0.98.\n",
    "\n",
    "However, ridge regularization with C = 1 performed the best overall, indicating that some important coefficients in lasso may have gone to zero. A higher fold cross validation might be used to confirm this."
   ]
  },
  {
   "cell_type": "markdown",
   "metadata": {},
   "source": [
    "## 3.4 Classify all 10 digits in MNIST with Logistic Regression with Ridge Penalty"
   ]
  },
  {
   "cell_type": "code",
   "execution_count": 12,
   "metadata": {
    "collapsed": true
   },
   "outputs": [],
   "source": [
    "import matplotlib.pyplot as plt\n",
    "from sklearn.datasets import fetch_mldata\n",
    "\n",
    "# Fetch original MNIST Data before modifying them to a binary classification\n",
    "\n",
    "mnist = fetch_mldata(\"MNIST original\", data_home='./dataset/')  # data downloaded in'./dataset/', change if necessary\n",
    "\n",
    "X= (mnist.data / 255.)\n",
    "y = mnist.target\n",
    "\n",
    "X_train = X[:60000]\n",
    "y_train = y[:60000]\n",
    "\n",
    "X_test = X[60000:]\n",
    "y_test = y[60000:]"
   ]
  },
  {
   "cell_type": "code",
   "execution_count": 14,
   "metadata": {
    "collapsed": false
   },
   "outputs": [
    {
     "data": {
      "text/plain": [
       "<matplotlib.text.Text at 0x1b3b1668>"
      ]
     },
     "execution_count": 14,
     "metadata": {},
     "output_type": "execute_result"
    },
    {
     "data": {
      "image/png": "[encoded data removed]",
      "text/plain": [
       "<matplotlib.figure.Figure at 0x3195320>"
      ]
     },
     "metadata": {},
     "output_type": "display_data"
    }
   ],
   "source": [
    "multi_class_logit = LogisticRegression(penalty='l2',\n",
    "                                       C=1,solver ='newton-cg',\n",
    "                                       multi_class='multinomial')\n",
    "# Train and Fit model\n",
    "multi_class_logit.fit(X_train,y_train)\n",
    "preds = multi_class_logit.predict(X_test)\n",
    "\n",
    "# Determine confusion matrix \n",
    "conf_matrix = confusion_matrix(y_test,preds)\n",
    "\n",
    "# Print heatmap\n",
    "sns.heatmap(conf_matrix,annot=True)\n",
    "plt.xlabel('Predicted')\n",
    "plt.ylabel('True')\n"
   ]
  },
  {
   "cell_type": "code",
   "execution_count": 15,
   "metadata": {
    "collapsed": false
   },
   "outputs": [
    {
     "name": "stdout",
     "output_type": "stream",
     "text": [
      "Average Accuracy:  0.9256\n"
     ]
    }
   ],
   "source": [
    "# Determine the score\n",
    "print \"Average Accuracy: \", multi_class_logit.score(X_test, y_test)"
   ]
  },
  {
   "cell_type": "markdown",
   "metadata": {},
   "source": [
    "### Observation\n",
    "As expected, the most misclassifcations occured in classifying the following:\n",
    "\n",
    "* Misclassifying 3 for 5\n",
    "* Misclassifting 8 for 2\n",
    "* Misclassifying 8 for 5\n",
    "* Misclassifying 9 for 7\n",
    "* Misclassifying 9 for 4"
   ]
  },
  {
   "cell_type": "markdown",
   "metadata": {},
   "source": [
    "# Question 4: Regression Trees (6+5+4 = 15 points)\n",
    "In this question, we will be exploring the application of regression tree (RT) using sklearn package in Python. \n",
    "\n",
    "You will be using an NBA dataset (nbasalariesfull.csv) to predict a player’s Salary using all the numeric performance variables available ( so everything but Player, Team, and Position ). \n",
    "\n",
    "- a. Use a random state of 42 and a test size of 1/3 to split the data into training and test.\n",
    "     \n",
    "         Build a regression using DecisionTreeRegressor with max_depth = 6. \n",
    "         Report the mean squared errors on both training and test datasets.( 6 points )\n",
    "\n",
    "\n",
    "- b. Repeat Part-1 with max_depth = 2. (5 points )\n",
    "\n",
    "\n",
    "- c. Briefly explain what you observe from these MSE values obtained by using maximum tree depths 6 and 2? \n",
    "         Which tree is better and why? ( 4 points )"
   ]
  },
  {
   "cell_type": "code",
   "execution_count": 16,
   "metadata": {
    "collapsed": true
   },
   "outputs": [],
   "source": [
    "%matplotlib inline\n",
    "import pandas as pd\n",
    "from sklearn.tree import DecisionTreeRegressor\n",
    "from sklearn.metrics import mean_squared_error\n",
    "from sklearn.model_selection import train_test_split\n",
    "from sklearn.metrics import roc_curve, roc_auc_score, auc\n",
    "from sklearn.naive_bayes import GaussianNB\n",
    "from sklearn.discriminant_analysis import LinearDiscriminantAnalysis as LDA\n",
    "from sklearn.discriminant_analysis import QuadraticDiscriminantAnalysis as QDA\n",
    "import numpy as np\n",
    "import matplotlib.pyplot as plt"
   ]
  },
  {
   "cell_type": "code",
   "execution_count": 17,
   "metadata": {
    "collapsed": false
   },
   "outputs": [
    {
     "data": {
      "text/html": [
       "<div>\n",
       "<style>\n",
       "    .dataframe thead tr:only-child th {\n",
       "        text-align: right;\n",
       "    }\n",
       "\n",
       "    .dataframe thead th {\n",
       "        text-align: left;\n",
       "    }\n",
       "\n",
       "    .dataframe tbody tr th {\n",
       "        vertical-align: top;\n",
       "    }\n",
       "</style>\n",
       "<table border=\"1\" class=\"dataframe\">\n",
       "  <thead>\n",
       "    <tr style=\"text-align: right;\">\n",
       "      <th></th>\n",
       "      <th>Player</th>\n",
       "      <th>Tm</th>\n",
       "      <th>Pos</th>\n",
       "      <th>Age</th>\n",
       "      <th>G</th>\n",
       "      <th>GS</th>\n",
       "      <th>MP</th>\n",
       "      <th>FG</th>\n",
       "      <th>FGA</th>\n",
       "      <th>FG%</th>\n",
       "      <th>...</th>\n",
       "      <th>ORB</th>\n",
       "      <th>DRB</th>\n",
       "      <th>TRB</th>\n",
       "      <th>AST</th>\n",
       "      <th>STL</th>\n",
       "      <th>BLK</th>\n",
       "      <th>TOV</th>\n",
       "      <th>PF</th>\n",
       "      <th>PSG</th>\n",
       "      <th>SALARY</th>\n",
       "    </tr>\n",
       "  </thead>\n",
       "  <tbody>\n",
       "    <tr>\n",
       "      <th>0</th>\n",
       "      <td>Stephen Curry</td>\n",
       "      <td>GSW</td>\n",
       "      <td>PG</td>\n",
       "      <td>27.0</td>\n",
       "      <td>79.0</td>\n",
       "      <td>79.0</td>\n",
       "      <td>34.2</td>\n",
       "      <td>10.2</td>\n",
       "      <td>20.2</td>\n",
       "      <td>0.504</td>\n",
       "      <td>...</td>\n",
       "      <td>0.9</td>\n",
       "      <td>4.6</td>\n",
       "      <td>5.4</td>\n",
       "      <td>6.7</td>\n",
       "      <td>2.1</td>\n",
       "      <td>0.2</td>\n",
       "      <td>3.3</td>\n",
       "      <td>2.0</td>\n",
       "      <td>30.1</td>\n",
       "      <td>11370786</td>\n",
       "    </tr>\n",
       "    <tr>\n",
       "      <th>1</th>\n",
       "      <td>James Harden</td>\n",
       "      <td>HOU</td>\n",
       "      <td>SG</td>\n",
       "      <td>26.0</td>\n",
       "      <td>82.0</td>\n",
       "      <td>82.0</td>\n",
       "      <td>38.1</td>\n",
       "      <td>8.7</td>\n",
       "      <td>19.7</td>\n",
       "      <td>0.439</td>\n",
       "      <td>...</td>\n",
       "      <td>0.8</td>\n",
       "      <td>5.3</td>\n",
       "      <td>6.1</td>\n",
       "      <td>7.5</td>\n",
       "      <td>1.7</td>\n",
       "      <td>0.6</td>\n",
       "      <td>4.6</td>\n",
       "      <td>2.8</td>\n",
       "      <td>29.0</td>\n",
       "      <td>15756438</td>\n",
       "    </tr>\n",
       "    <tr>\n",
       "      <th>2</th>\n",
       "      <td>Kevin Durant</td>\n",
       "      <td>OKC</td>\n",
       "      <td>SF</td>\n",
       "      <td>27.0</td>\n",
       "      <td>72.0</td>\n",
       "      <td>72.0</td>\n",
       "      <td>35.8</td>\n",
       "      <td>9.7</td>\n",
       "      <td>19.2</td>\n",
       "      <td>0.505</td>\n",
       "      <td>...</td>\n",
       "      <td>0.6</td>\n",
       "      <td>7.6</td>\n",
       "      <td>8.2</td>\n",
       "      <td>5.0</td>\n",
       "      <td>1.0</td>\n",
       "      <td>1.2</td>\n",
       "      <td>3.5</td>\n",
       "      <td>1.9</td>\n",
       "      <td>28.2</td>\n",
       "      <td>20158622</td>\n",
       "    </tr>\n",
       "    <tr>\n",
       "      <th>3</th>\n",
       "      <td>DeMarcus Cousins</td>\n",
       "      <td>SAC</td>\n",
       "      <td>C</td>\n",
       "      <td>25.0</td>\n",
       "      <td>65.0</td>\n",
       "      <td>65.0</td>\n",
       "      <td>34.6</td>\n",
       "      <td>9.2</td>\n",
       "      <td>20.5</td>\n",
       "      <td>0.451</td>\n",
       "      <td>...</td>\n",
       "      <td>2.4</td>\n",
       "      <td>9.1</td>\n",
       "      <td>11.5</td>\n",
       "      <td>3.3</td>\n",
       "      <td>1.6</td>\n",
       "      <td>1.4</td>\n",
       "      <td>3.8</td>\n",
       "      <td>3.6</td>\n",
       "      <td>26.9</td>\n",
       "      <td>15851950</td>\n",
       "    </tr>\n",
       "    <tr>\n",
       "      <th>4</th>\n",
       "      <td>LeBron James</td>\n",
       "      <td>CLE</td>\n",
       "      <td>SF</td>\n",
       "      <td>31.0</td>\n",
       "      <td>76.0</td>\n",
       "      <td>76.0</td>\n",
       "      <td>35.6</td>\n",
       "      <td>9.7</td>\n",
       "      <td>18.6</td>\n",
       "      <td>0.520</td>\n",
       "      <td>...</td>\n",
       "      <td>1.5</td>\n",
       "      <td>6.0</td>\n",
       "      <td>7.4</td>\n",
       "      <td>6.8</td>\n",
       "      <td>1.4</td>\n",
       "      <td>0.6</td>\n",
       "      <td>3.3</td>\n",
       "      <td>1.9</td>\n",
       "      <td>25.3</td>\n",
       "      <td>22970500</td>\n",
       "    </tr>\n",
       "  </tbody>\n",
       "</table>\n",
       "<p>5 rows × 30 columns</p>\n",
       "</div>"
      ],
      "text/plain": [
       "             Player   Tm Pos   Age     G    GS    MP    FG   FGA    FG%  \\\n",
       "0     Stephen Curry  GSW  PG  27.0  79.0  79.0  34.2  10.2  20.2  0.504   \n",
       "1      James Harden  HOU  SG  26.0  82.0  82.0  38.1   8.7  19.7  0.439   \n",
       "2      Kevin Durant  OKC  SF  27.0  72.0  72.0  35.8   9.7  19.2  0.505   \n",
       "3  DeMarcus Cousins  SAC   C  25.0  65.0  65.0  34.6   9.2  20.5  0.451   \n",
       "4      LeBron James  CLE  SF  31.0  76.0  76.0  35.6   9.7  18.6  0.520   \n",
       "\n",
       "     ...     ORB  DRB   TRB  AST  STL  BLK  TOV   PF   PSG    SALARY  \n",
       "0    ...     0.9  4.6   5.4  6.7  2.1  0.2  3.3  2.0  30.1  11370786  \n",
       "1    ...     0.8  5.3   6.1  7.5  1.7  0.6  4.6  2.8  29.0  15756438  \n",
       "2    ...     0.6  7.6   8.2  5.0  1.0  1.2  3.5  1.9  28.2  20158622  \n",
       "3    ...     2.4  9.1  11.5  3.3  1.6  1.4  3.8  3.6  26.9  15851950  \n",
       "4    ...     1.5  6.0   7.4  6.8  1.4  0.6  3.3  1.9  25.3  22970500  \n",
       "\n",
       "[5 rows x 30 columns]"
      ]
     },
     "execution_count": 17,
     "metadata": {},
     "output_type": "execute_result"
    }
   ],
   "source": [
    "nbasalaries = pd.read_csv('nbasalariesfull.csv')\n",
    "nbasalaries.head()"
   ]
  },
  {
   "cell_type": "markdown",
   "metadata": {},
   "source": [
    "## Solutions"
   ]
  },
  {
   "cell_type": "markdown",
   "metadata": {},
   "source": [
    "## Preprocessing"
   ]
  },
  {
   "cell_type": "code",
   "execution_count": 18,
   "metadata": {
    "collapsed": true
   },
   "outputs": [],
   "source": [
    "# Predict player's salary\n",
    "# Exclude non numeric values.\n",
    "# e.g Player, Team, and Position\n",
    "\n",
    "X = nbasalaries.drop(['Player', 'Tm', 'Pos', 'SALARY'], axis = 1)\n",
    "y = nbasalaries.SALARY\n",
    "X_train, X_test, y_train, y_test = train_test_split(X,y,test_size = 0.33, random_state = 42)"
   ]
  },
  {
   "cell_type": "markdown",
   "metadata": {},
   "source": [
    "## 4.a) DecisionTreeRegressor, max_depth = 6"
   ]
  },
  {
   "cell_type": "code",
   "execution_count": 20,
   "metadata": {
    "collapsed": false
   },
   "outputs": [
    {
     "name": "stdout",
     "output_type": "stream",
     "text": [
      "('MSE on Training Set', 3108983856351.2788)\n",
      "('MSE on Testing Set', 18779196437218.406)\n"
     ]
    }
   ],
   "source": [
    "# Fit Decision Tree\n",
    "dTree6 = DecisionTreeRegressor(max_depth = 6)\n",
    "dTree6.fit(X_train,y_train)\n",
    "\n",
    "# Report Metrics on Training Set\n",
    "trainpreds = dTree6.predict(X_train)\n",
    "train_mse = mean_squared_error(y_train,trainpreds)\n",
    "\n",
    "print(\"MSE on Training Set\", train_mse)\n",
    "\n",
    "# Report Metrics on Testing Set \n",
    "testpreds = dTree6.predict(X_test)\n",
    "test_mse = mean_squared_error(y_test,testpreds)\n",
    "\n",
    "print(\"MSE on Testing Set\", test_mse)"
   ]
  },
  {
   "cell_type": "markdown",
   "metadata": {},
   "source": [
    "## 4.b) DecisionTreeRegressor, max_depth = 2"
   ]
  },
  {
   "cell_type": "code",
   "execution_count": 21,
   "metadata": {
    "collapsed": false
   },
   "outputs": [
    {
     "name": "stdout",
     "output_type": "stream",
     "text": [
      "('MSE on Training Set', 12138163555466.166)\n",
      "('MSE on Testing Set', 16855575167270.082)\n"
     ]
    }
   ],
   "source": [
    "# Fit Decision Tree\n",
    "dTree2 = DecisionTreeRegressor(max_depth = 2)\n",
    "dTree2.fit(X_train,y_train)\n",
    "\n",
    "# Report Metrics on Training Set\n",
    "trainpreds = dTree2.predict(X_train)\n",
    "train_mse = mean_squared_error(y_train,trainpreds)\n",
    "\n",
    "print(\"MSE on Training Set\", train_mse)\n",
    "\n",
    "# Report Metrics on Testing Set \n",
    "testpreds = dTree2.predict(X_test)\n",
    "test_mse = mean_squared_error(y_test,testpreds)\n",
    "\n",
    "print(\"MSE on Testing Set\", test_mse)"
   ]
  },
  {
   "cell_type": "markdown",
   "metadata": {},
   "source": [
    "## 4.c) Comparison on Trees with differing depths"
   ]
  },
  {
   "cell_type": "markdown",
   "metadata": {},
   "source": [
    "Overall, the tree with max_depth = 2 performed better than max_depth = 6.\n",
    "\n",
    "With max_depth = 6, the tree is overfitting and has higher variance.\n",
    "\n",
    "We can see this in the MSE scores for the training set:\n",
    "\n",
    "$$MSE~of~Depth~6~Training < MSE~of~Depth~2~Training$$\n",
    "\n",
    "The MSE of the training set of a deeper tree was significantly better than that of the test set.\n",
    "\n",
    "However,\n",
    "\n",
    "$$MSE~of~Depth~6~Test > MSE~of~Depth~2~Test$$\n",
    "\n",
    "This shows, the tree with max_depth 2 performs better because of it's ability to generalize to the data and not overfit"
   ]
  },
  {
   "cell_type": "markdown",
   "metadata": {},
   "source": [
    "# Question 5.  AUC vs Lift Curve ( 5 points )\n",
    "Describe the similarities and differences between AUC and Lift Curves."
   ]
  },
  {
   "cell_type": "markdown",
   "metadata": {},
   "source": [
    "## Solution"
   ]
  },
  {
   "cell_type": "markdown",
   "metadata": {},
   "source": [
    "Source:  http://chem-eng.utoronto.ca/~datamining/dmc/model_evaluation_c.htm\n",
    "\n",
    "Similarities\n",
    "\n",
    "1. AUC and Lift Curves are both model evaluation for classification problems\n",
    "2. Both help visualize performance of model in comparison to a random guess.\n",
    "\n",
    "Differences\n",
    "\n",
    "1. Lift/Gain Chart measures the effectiveness of a model using the **ratio** between the results obtained with and without the model.\n",
    "In contrast to the confusion matrix that evaluates models on the whole population, the gain/lift chart evaluates model performance in a portion for the population.\n",
    "\n",
    "For instance of Gain Chart:\n",
    "![](http://i.markdownnotes.com/image_8dhy7Oa.png)\n",
    "\n",
    "We determine how much better the model performs better than a random guess.\n",
    "\n",
    "A Lift Chart measures how much better our model is at a particular ratio in comparison the a random guess:\n",
    "![](http://i.markdownnotes.com/image_QaH4dJe.png)\n",
    "\n",
    "Example here demonstrates how much **better** the model performs.\n",
    "\n",
    "\n",
    "2. AUC Charts on the other hand measures how well a model is performing. This is an absolute score in comparison to the Lift Chart.\n",
    "The ROC chart shows false potive rates on X-axis and true positive rate on Y-Axis.\n",
    "Area under ROC curve is often used a measure of quality of the classification model. A random classifier has an area under the curve of 0.5, while AUC has a perfect classifier is equal to 1.\n",
    "Example:\n",
    "\n",
    "![](http://i.markdownnotes.com/image_ZNui0ah.png)"
   ]
  },
  {
   "cell_type": "code",
   "execution_count": null,
   "metadata": {
    "collapsed": true
   },
   "outputs": [],
   "source": []
  }
 ],
 "metadata": {
  "kernelspec": {
   "display_name": "Python 2",
   "language": "python",
   "name": "python2"
  },
  "language_info": {
   "codemirror_mode": {
    "name": "ipython",
    "version": 2
   },
   "file_extension": ".py",
   "mimetype": "text/x-python",
   "name": "python",
   "nbconvert_exporter": "python",
   "pygments_lexer": "ipython2",
   "version": "2.7.13"
  }
 },
 "nbformat": 4,
 "nbformat_minor": 0
}
