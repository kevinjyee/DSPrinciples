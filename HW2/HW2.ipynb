{
 "cells": [
  {
   "cell_type": "markdown",
   "metadata": {},
   "source": [
    "\n",
    "# <p style=\"text-align: center;\">EE 461P: Data Science Principles</p>\n",
    "# <p style=\"text-align: center;\">Assignment 2</p>\n",
    "## <p style=\"text-align: center;\">Total points: 55</p>\n",
    "## <p style=\"text-align: center;\">Due: Tuesday, October 3rd, submitted via Canvas by 11:59 pm</p>\n",
    "\n",
    "Your homework should be written in a **Jupyter notebook**. You may work in groups of two if you wish. Only one student per team needs to submit the assignment on Canvas.  But be sure to include name and UTID for both students.  Homework groups will be created and managed through Canvas, so please do not arbitrarily change your homework group.  \n",
    "\n",
    "Also, please make sure your code runs and the graphics (and anything else) are displayed in your notebook before submitting. (%matplotlib inline)"
   ]
  },
  {
   "cell_type": "markdown",
   "metadata": {},
   "source": [
    "# Question 1: Ridge and Lasso Regression (15 points)\n",
    "Use the following codes to import the diabetes dataset."
   ]
  },
  {
   "cell_type": "code",
   "execution_count": 170,
   "metadata": {
    "collapsed": false
   },
   "outputs": [],
   "source": [
    "%matplotlib inline\n",
    "from sklearn import datasets\n",
    "diabetes = datasets.load_diabetes()\n",
    "X = diabetes.data\n",
    "y = diabetes.target"
   ]
  },
  {
   "cell_type": "markdown",
   "metadata": {},
   "source": [
    "The dataset consists of ten features and one target variable.  More information is found at http://scikit-learn.org/stable/datasets/index.html#diabetes-dataset\n",
    "\n",
    "After importing the datasets, use the following code to add additional second-order polynomial and interaction variables to the features matrix.  You should have 65 variables and one target variable. Note that this code adds all combinations of the features with degree less than or equal to two; in practice one may introduce only a few based on domain knowledge or experimentation.\n",
    "\n",
    "PolynomialFeatures class adds the square (2nd degree polynomial) of each feature in the training set as new features. X contains the original feature of X plus the square of this feature. Now you can fit a LinearRegression model to this extended training set"
   ]
  },
  {
   "cell_type": "code",
   "execution_count": 171,
   "metadata": {
    "collapsed": false
   },
   "outputs": [],
   "source": [
    "from sklearn.preprocessing import PolynomialFeatures\n",
    "X = PolynomialFeatures(2, include_bias=False).fit_transform(X)"
   ]
  },
  {
   "cell_type": "markdown",
   "metadata": {},
   "source": [
    "In this question, you will explore the application of Lasso and Ridge regression using sklearn package in Python. The following code will split the data into training and test set using [train_test_split](http://scikit-learn.org/stable/modules/generated/sklearn.model_selection.train_test_split.html) with **random state 20** and **test_size = 0.33**.  Note: lambda is called alpha in sklearn."
   ]
  },
  {
   "cell_type": "code",
   "execution_count": 172,
   "metadata": {
    "collapsed": true
   },
   "outputs": [],
   "source": [
    "from sklearn.model_selection import train_test_split\n",
    "X_train, X_test, y_train, y_test = train_test_split(X,y,test_size = 0.33, random_state=20)"
   ]
  },
  {
   "cell_type": "markdown",
   "metadata": {},
   "source": [
    "1) Use sklearn.linear_model.Lasso and sklearn.linear_model.Ridge classes to do a [5-fold cross validation](http://scikit-learn.org/stable/auto_examples/exercises/plot_cv_diabetes.html#example-exercises-plot-cv-diabetes-py) using sklearn's [KFold](http://scikit-learn.org/stable/modules/generated/sklearn.model_selection.KFold.html#sklearn.model_selection.KFold). For the sweep of the regularization parameter, we will look at a grid of values ranging from $\\lambda = 10^{10}$ to $\\lambda = 10^{-2}$. In Python, you can consider this range of values as follows:\n",
    "\n",
    "      import numpy as np\n",
    "\n",
    "      alphas =  10**np.linspace(10,-2,100)*0.5\n",
    "\n",
    "  Report the best chosen $\\lambda$ based on cross validation. The cross validation should happen on your training data using  average MSE as the scoring metric. (5pts)\n",
    "\n",
    "2) Run ridge and lasso for all of the alphas specified above (on training data), and plot the coefficients learned for each of them - there should be one plot each for lasso and ridge, so a total of two plots; the plots for different features for a method should be on the same plot (e.g. Fig 6.6 of JW). What do you qualitatively observe when value of the regularization parameter is changed? (4pts)\n",
    "\n",
    "3) Run least squares regression, ridge, and lasso on the training data. For ridge and lasso, use only the best regularization parameter. Report the prediction error (MSE) on the test data for each. (3pts)\n",
    "\n",
    "4) Run lasso again with cross validation using [sklearn.linear_model.LassoCV](http://scikit-learn.org/stable/modules/generated/sklearn.linear_model.LassoCV.html). Set the cross validation parameters as follows:\n",
    "\n",
    "    LassoCV(alphas=None, cv=10, max_iter=10000)\n",
    "\n",
    "Report the best $\\lambda$ based on cross validation. Run lasso on the training data using the best $\\lambda$ and report the coefficeints for 65 variables. What do you observe from these coefficients? (3pts)\n",
    "\n",
    "## Answer"
   ]
  },
  {
   "cell_type": "markdown",
   "metadata": {},
   "source": [
    "## 1.1 Find best chosen $\\lambda$"
   ]
  },
  {
   "cell_type": "code",
   "execution_count": 173,
   "metadata": {
    "collapsed": false
   },
   "outputs": [],
   "source": [
    "#perform 5-fold cross validation\n",
    "import numpy as np\n",
    "import matplotlib.pyplot as plt\n",
    "\n",
    "from sklearn.linear_model import LassoCV, RidgeCV, Lasso, Ridge, LinearRegression\n",
    "from sklearn.model_selection import KFold\n",
    "from sklearn.model_selection import GridSearchCV\n",
    "\n",
    "# returns num evenly spaced samples, calculated over the interval [start, stop,num]\n",
    "# initalizes range of values for our hyperparameters\n",
    "alphas =  10**np.linspace(10,-2,100)*0.5\n",
    "\n",
    "#initialize models\n",
    "lasso = Lasso()\n",
    "ridge = Ridge()\n",
    "\n",
    "#initilialize tuning parameters\n",
    "tuned_parameters = [{'alpha':alphas}]\n",
    "\n",
    "#define n folds\n",
    "n_folds = 5\n",
    "\n",
    "#train lasso scores\n",
    "lassoclf=GridSearchCV(lasso,tuned_parameters,cv = n_folds,scoring = 'neg_mean_squared_error')\n",
    "lassoclf.fit(X_train, y_train)\n",
    "lassoscores = lassoclf.cv_results_['mean_test_score']\n",
    "lassoscores_std = lassoclf.cv_results_['std_test_score']\n",
    "\n",
    "#train Ridge scores\n",
    "ridgeclf=GridSearchCV(ridge,tuned_parameters,cv = n_folds,scoring = 'neg_mean_squared_error')\n",
    "ridgeclf.fit(X_train, y_train)\n",
    "ridgescores = ridgeclf.cv_results_['mean_test_score']\n",
    "ridgescores_std = ridgeclf.cv_results_['std_test_score']\n",
    "\n",
    "#change to mean squared error (as opposed to neg mean squared error)\n",
    "lassoscores = np.array(lassoscores) * -1\n",
    "ridgescores = np.array(ridgescores) * -1"
   ]
  },
  {
   "cell_type": "code",
   "execution_count": 174,
   "metadata": {
    "collapsed": false,
    "scrolled": true
   },
   "outputs": [
    {
     "data": {
      "text/plain": [
       "<matplotlib.text.Text at 0x1b4eaa20>"
      ]
     },
     "execution_count": 174,
     "metadata": {},
     "output_type": "execute_result"
    },
    {
     "data": {
      "image/png": "[encoded data removed]",
      "text/plain": [
       "<matplotlib.figure.Figure at 0x1d70b9e8>"
      ]
     },
     "metadata": {},
     "output_type": "display_data"
    }
   ],
   "source": [
    "plt.figure().set_size_inches(20,6)\n",
    "\n",
    "#Lasso plot\n",
    "plt.subplot(121)\n",
    "plt.semilogx(alphas, lassoscores)\n",
    "#plot error lines showing +/- std errors of the scores \n",
    "lassostd_error = lassoscores_std/np.sqrt(n_folds)\n",
    "plt.semilogx(alphas, lassoscores + lassostd_error, 'b--')\n",
    "plt.semilogx(alphas, lassoscores - lassostd_error, 'b--')\n",
    "# alpha=0.2 controls the translucency of the fill color\n",
    "plt.fill_between(alphas, lassoscores + lassostd_error, lassoscores - lassostd_error, alpha=0.2)\n",
    "plt.ylabel('Mean Squared Error +/- std error')\n",
    "plt.xlabel('alpha')\n",
    "plt.axhline(np.max(lassoscores), linestyle='--', color='.5')\n",
    "plt.xlim([alphas[0], alphas[-1]])\n",
    "plt.title('Lasso Regression')\n",
    "\n",
    "#Ridge plot\n",
    "plt.subplot(122)\n",
    "plt.semilogx(alphas, ridgescores)\n",
    "#plot error lines showing +/- std errors of the scores \n",
    "ridgestd_error = ridgescores_std/np.sqrt(n_folds)\n",
    "plt.semilogx(alphas, ridgescores + ridgestd_error, 'b--')\n",
    "plt.semilogx(alphas, ridgescores - ridgestd_error, 'b--')\n",
    "# alpha=0.2 controls the translucency of the fill color\n",
    "plt.fill_between(alphas, ridgescores + ridgestd_error, ridgescores - ridgestd_error, alpha=0.2)\n",
    "plt.ylabel('Mean Squared Error +/- std error')\n",
    "plt.xlabel('alpha')\n",
    "plt.axhline(np.max(ridgescores), linestyle='--', color='.5')\n",
    "plt.xlim([alphas[0], alphas[-1]])\n",
    "plt.title('Ridge Regression')"
   ]
  },
  {
   "cell_type": "code",
   "execution_count": 175,
   "metadata": {
    "collapsed": false
   },
   "outputs": [
    {
     "name": "stdout",
     "output_type": "stream",
     "text": [
      "Best alpha for lasso:  10^-2.058606\n",
      "Best alpha for ridge:  10^-2.301030\n"
     ]
    }
   ],
   "source": [
    "import math\n",
    "lassoAlpha = alphas[np.argmin(lassoscores)]\n",
    "ridgeAlpha = alphas[np.argmin(ridgescores)]\n",
    "\n",
    "print \"Best alpha for lasso: \", '10^%f' % math.log10(lassoAlpha)\n",
    "print \"Best alpha for ridge: \", '10^%f' % math.log10(ridgeAlpha)"
   ]
  },
  {
   "cell_type": "markdown",
   "metadata": {},
   "source": [
    "## 1.2 Plot coefficients of features for Ridge and Lasso\n",
    "Source: http://scikit-learn.org/stable/auto_examples/linear_model/plot_ridge_path.html"
   ]
  },
  {
   "cell_type": "code",
   "execution_count": 176,
   "metadata": {
    "collapsed": false,
    "scrolled": true
   },
   "outputs": [
    {
     "data": {
      "image/png": "[encoded data removed]",
      "text/plain": [
       "<matplotlib.figure.Figure at 0x1b229ef0>"
      ]
     },
     "metadata": {},
     "output_type": "display_data"
    }
   ],
   "source": [
    "import numpy as np\n",
    "import matplotlib.pyplot as plt\n",
    "from sklearn import linear_model\n",
    "\n",
    "# #############################################################################\n",
    "# Attributes\n",
    "\n",
    "labels = ['Age','Sex', 'BMI', 'Avg Blood Pressure', 'S1', 'S2', 'S3', 'S4', 'S5', 'S6']\n",
    "\n",
    "# #############################################################################\n",
    "# Compute paths\n",
    "\n",
    "# returns num evenly spaced samples, calculated over the interval [start, stop,num]\n",
    "# initalizes range of values for our hyperparameters\n",
    "alphas =  10**np.linspace(10,-2,100)*0.5\n",
    "\n",
    "coefs = []\n",
    "for a in alphas:\n",
    "    ridge = linear_model.Ridge(alpha=a, fit_intercept=False)\n",
    "    ridge.fit(X_train, y_train)\n",
    "    coefs.append(ridge.coef_)\n",
    "\n",
    "# #############################################################################\n",
    "# Display results\n",
    "\n",
    "plt.figure(figsize=(16,6))\n",
    "ax = plt.gca()\n",
    "ax.plot(alphas, coefs)\n",
    "ax.set_xscale('log')\n",
    "ax.set_xlim(ax.get_xlim())\n",
    "\n",
    "plt.xlabel('alpha')\n",
    "plt.ylabel('weights')\n",
    "plt.title('Ridge coefficients as a function of the regularization')\n",
    "plt.axis('tight')\n",
    "plt.show()"
   ]
  },
  {
   "cell_type": "code",
   "execution_count": 177,
   "metadata": {
    "collapsed": false
   },
   "outputs": [
    {
     "data": {
      "image/png": "[encoded data removed]",
      "text/plain": [
       "<matplotlib.figure.Figure at 0x1b998080>"
      ]
     },
     "metadata": {},
     "output_type": "display_data"
    }
   ],
   "source": [
    "#https://stackoverflow.com/questions/31290976/sklearn-how-to-get-coefficients-of-polynomial-features\n",
    "# #############################################################################\n",
    "# Attributes\n",
    "\n",
    "labels = ['Age','Sex', 'BMI', 'Avg Blood Pressure', 'S1', 'S2', 'S3', 'S4', 'S5', 'S6']\n",
    "\n",
    "# #############################################################################\n",
    "# Compute paths\n",
    "\n",
    "# returns num evenly spaced samples, calculated over the interval [start, stop,num]\n",
    "# initalizes range of values for our hyperparameters\n",
    "alphas =  10**np.linspace(10,-2,100)*0.5\n",
    "\n",
    "coefs = []\n",
    "for a in alphas:\n",
    "    lasso = linear_model.Lasso(alpha=a, fit_intercept=False)\n",
    "    lasso.fit(X_train, y_train)\n",
    "    coefs.append(lasso.coef_)\n",
    "\n",
    "# #############################################################################\n",
    "# Display results\n",
    "\n",
    "plt.figure(figsize=(16,6))\n",
    "ax = plt.gca()\n",
    "ax.plot(alphas, coefs)\n",
    "ax.set_xscale('log')\n",
    "ax.set_xlim(ax.get_xlim())\n",
    "\n",
    "plt.xlabel('alpha')\n",
    "plt.ylabel('weights')\n",
    "plt.title('Lasso coefficients as a function of the regularization')\n",
    "plt.axis('tight')\n",
    "plt.show()"
   ]
  },
  {
   "cell_type": "markdown",
   "metadata": {},
   "source": [
    "###  Observation of coefficients as a function of the regularization\n",
    "\n",
    "*Similarities:* As alpha approaches $\\infty$, the weights of the coefficients decreases and approaches 0 for both Ridge and Lasso Regression. At very low values, the features still each hold a lot of weight. (This is especially true for Ridge according to the charts above).\n",
    "\n",
    "*Differences:* However, we see that Lasso coefficients approaches zero a lot faster due to the penalty given on the feautures from the $l_1$ norm. Meanwhile, Ridge coefficients approaches zero, at a much slower rate.\n",
    "\n",
    "From the qualitiative observation, we also see the Age holds the most weight in relation to diabetes. This is seen especially in the weights of coefficients provided by Lasso Regression\n",
    "\n"
   ]
  },
  {
   "cell_type": "markdown",
   "metadata": {},
   "source": [
    "## 1.3  MSE of 3 Different Models"
   ]
  },
  {
   "cell_type": "markdown",
   "metadata": {},
   "source": [
    "Note to self: LSE is a method that builds a model and MSE is a metric that evaluate your model's performances."
   ]
  },
  {
   "cell_type": "code",
   "execution_count": 178,
   "metadata": {
    "collapsed": false
   },
   "outputs": [
    {
     "name": "stdout",
     "output_type": "stream",
     "text": [
      "Least Square Linear Regression MSE: 3501.51672513\n",
      "Least Square Ridge Regression MSE: 2946.79477072\n",
      "Least Square Lasso Regression MSE: 2961.43759012\n"
     ]
    }
   ],
   "source": [
    "# #############################################################################\n",
    "# Initialize Models\n",
    "\n",
    "lin = LinearRegression()\n",
    "ridge = Ridge(alpha = ridgeAlpha)\n",
    "lasso = Lasso(alpha  = lassoAlpha)\n",
    "\n",
    "# Least Squares\n",
    "lin.fit(X_train, y_train)\n",
    "lin_pred = lin.predict(X_test)\n",
    "linmse = ((lin_pred - y_test) ** 2).mean()\n",
    "print \"Least Square Linear Regression MSE: \" + str(linmse)\n",
    "\n",
    "# Ridge\n",
    "ridge.fit(X_train, y_train)\n",
    "ridge_pred = ridge.predict(X_test)\n",
    "ridgemse = ((ridge_pred - y_test) ** 2).mean()\n",
    "print \"Least Square Ridge Regression MSE: \" + str(ridgemse)\n",
    "\n",
    "# Lasso\n",
    "lasso.fit(X_train, y_train)\n",
    "lasso_pred = lasso.predict(X_test)\n",
    "lassomse = ((lasso_pred - y_test) ** 2).mean()\n",
    "print \"Least Square Lasso Regression MSE: \" + str(lassomse)"
   ]
  },
  {
   "cell_type": "markdown",
   "metadata": {},
   "source": [
    "## 1.4 LassoCV to find $\\lambda$"
   ]
  },
  {
   "cell_type": "code",
   "execution_count": 179,
   "metadata": {
    "collapsed": false
   },
   "outputs": [
    {
     "name": "stdout",
     "output_type": "stream",
     "text": [
      "Best alpha from LassoCV:  10^0.006421\n"
     ]
    }
   ],
   "source": [
    "lassoCV = LassoCV(alphas=None, cv=10, max_iter=10000)\n",
    "lassoCV.fit(X_train, y_train)\n",
    "\n",
    "print \"Best alpha from LassoCV: \", '10^%f' % lassoCV.alpha_"
   ]
  },
  {
   "cell_type": "code",
   "execution_count": 180,
   "metadata": {
    "collapsed": false
   },
   "outputs": [
    {
     "name": "stdout",
     "output_type": "stream",
     "text": [
      "Least Square Lasso Regression MSE: 2971.81006562\n"
     ]
    }
   ],
   "source": [
    "# Run this on Lasso\n",
    "lasso = Lasso(alpha  = lassoCV.alpha_)\n",
    "lasso.fit(X_train, y_train)\n",
    "lasso_pred = lasso.predict(X_test)\n",
    "lassomse = ((lasso_pred - y_test) ** 2).mean()\n",
    "\n",
    "print \"Least Square Lasso Regression MSE: \" + str(lassomse)"
   ]
  },
  {
   "cell_type": "code",
   "execution_count": 181,
   "metadata": {
    "collapsed": false
   },
   "outputs": [
    {
     "name": "stdout",
     "output_type": "stream",
     "text": [
      "11    2527.811727\n",
      "18    1554.851419\n",
      "36     875.450075\n",
      "61     875.268858\n",
      "8      817.158342\n",
      "5      726.913837\n",
      "30     724.095066\n",
      "29     664.164437\n",
      "2      546.984638\n",
      "53     546.680659\n",
      "22     496.504509\n",
      "40     374.647620\n",
      "55     369.983547\n",
      "3      348.238823\n",
      "37     151.458509\n",
      "38      66.593847\n",
      "64      54.676438\n",
      "6       31.984626\n",
      "9        5.940870\n",
      "15      -0.000000\n",
      "10       0.000000\n",
      "28       0.000000\n",
      "27       0.000000\n",
      "25       0.000000\n",
      "24       0.000000\n",
      "23       0.000000\n",
      "17       0.000000\n",
      "12       0.000000\n",
      "13       0.000000\n",
      "21       0.000000\n",
      "         ...     \n",
      "31       0.000000\n",
      "48       0.000000\n",
      "62      -0.000000\n",
      "60      -0.000000\n",
      "59      -0.000000\n",
      "58       0.000000\n",
      "57       0.000000\n",
      "56      -0.000000\n",
      "54       0.000000\n",
      "52      -0.000000\n",
      "51      -0.000000\n",
      "50      -0.000000\n",
      "63       0.000000\n",
      "49       0.000000\n",
      "47      -0.000000\n",
      "46       0.000000\n",
      "45       0.000000\n",
      "44       0.000000\n",
      "43      -0.000000\n",
      "42       0.000000\n",
      "41      -0.000000\n",
      "39       0.000000\n",
      "35       0.000000\n",
      "34       0.000000\n",
      "33       0.000000\n",
      "0       -6.410335\n",
      "7      -14.809549\n",
      "1     -197.576959\n",
      "4     -920.201147\n",
      "26   -1188.611690\n",
      "Length: 65, dtype: float64\n"
     ]
    }
   ],
   "source": [
    "# Look at coefficients at this singe hyperparameter\n",
    "import pandas as pd\n",
    "print pd.Series(lasso.coef_).sort_values(ascending=False)"
   ]
  },
  {
   "cell_type": "code",
   "execution_count": 182,
   "metadata": {
    "collapsed": false
   },
   "outputs": [
    {
     "name": "stdout",
     "output_type": "stream",
     "text": [
      "Of the 64 features from Polynomial Regression, only 24 were useful\n"
     ]
    }
   ],
   "source": [
    "nonZeroCoef = len(lasso.coef_.nonzero()[0])\n",
    "\n",
    "print \"Of the 64 features from Polynomial Regression, only\", nonZeroCoef, \"were useful\""
   ]
  },
  {
   "cell_type": "markdown",
   "metadata": {},
   "source": [
    "###  Observation of LassoCV effect on coefficients\n",
    "\n",
    "A hyperparemter of 10^0.006421 yielded 25 nonzero coeffs (relevant features). The other features were zeroed out by the l1 norm of Lasso Regression "
   ]
  },
  {
   "cell_type": "markdown",
   "metadata": {},
   "source": [
    "# Question 2  (5 pts)\n",
    "\n",
    "A regression model that includes \"interaction terms\" (i.e. quadratic terms of the form $x_ix_j$) as predictors in addition to the linear terms is clearly more general than a corresponding model that employs the same independent variables but only uses the linear terms. Outline two situations where the simpler (less general) model would be preferred to the more powerful model that includes interactive terms.\n",
    "\n",
    "## Answer\n",
    "\n",
    "Polynomial Regression is used to fit more complex model to fit non-linear datasets. Since this model has more parameters than Linear Regression, it is more prone to overfitting the training data:\n",
    "\n",
    "1. A simpler model would be preferred when you have less features. (i.e 2). It would be more reasonable to fit a linear model on a dataset with fewer features to avoid overfitting. In other words, if you know your model is linear, use linear. Overall, linear regression would be used for better interpretatbility.\n",
    "\n",
    "2. Linear Regression might be more beneificial if you want to find the correlation between 2 variables to see how related they are to one another."
   ]
  },
  {
   "cell_type": "markdown",
   "metadata": {},
   "source": [
    "# Question 3 - Bias-variance Trandeoff (2pts)\n",
    "How does the choice of K in the K-nearest neighbor classifier reflect a bias-variance tradeoff?\n",
    "\n",
    "## Answer\n",
    "\n",
    "A model with high dimensionality is likely to have high variance, and thus will overfit the training data.\n",
    "\n",
    "K-nearest neighbor reduces dimensionality by grouping instances that are close to each other.\n",
    "\n",
    "\n",
    "As a result, the larger the K value, the higher the bias and smaller the variance. Unfortunately, grouping with a large K value will result in a generalization error and underfit the data.\n",
    "\n",
    "Meanwhile, a smaller K value will keep the data at a higher dimension and will increase susceptibility to overfitting. This is described as lower bias but higher variance"
   ]
  },
  {
   "cell_type": "markdown",
   "metadata": {},
   "source": [
    "# Question 4: Data Exploration and Regression Analysis (4+3+4+4=15pts)\n",
    "\n",
    "Consider the dataset provided (russett_full_v2.csv) about agricultural inequality, industrial development and political instability in different countries. More information about it can be found [here](https://www.rdocumentation.org/packages/plspm/versions/0.4.9/topics/russett) though the data itself is slightly different than that referenced in the link.\n",
    "\n",
    "a) (4 points) Generate box-plots of the \"rent\" (% of farmers that rent all their land) and \"demo_score\" ( derived measure of the level of a country's democracy from 1945 to 61 ) and identify the cutoff values for outliers. \n",
    "\n",
    "Generate 2 scatterplots of \"rent\" against \"demo_score\", and \"inst\" against \"demo_score\" with the identified outliers colored differently than non-outliers in each; comment on how inclusion of the outliers would affect a predictive model for the \"demo_score\" response.  \n",
    "\n",
    "b) (3 points) Let us try to fit an MLR, using ordinary least squares, to this dataset with \"demo_score\" as the dependent variable using only the predictors 'rent','inst', and 'ecks' . \n",
    "\n",
    "    from sklearn.model_selection import train_test_split\n",
    "    X_train, X_test, y_train, y_test = train_test_split(X,y,test_size = 0.25, random_state=10)   \n",
    "\n",
    "Report the RMSE obtained on both X_train and X_test. How much does this increase when you score your model on X_test?\n",
    "\n",
    "c) (4 points ) Try to predict ”demo_score” using a robust regression using Huber loss.  You can use the [sklearn package](  http://scikit-learn.org/stable/modules/generated/sklearn.linear_model.HuberRegressor.html).  Set regularization parameter alpha to 0.0 and all other parameters as default.\n",
    "Report RMSE obtained on both X_train and X_test.\n",
    "\n",
    "d) (4 points ) Compare and comment on the model fits obtained in (b) and (c) and plot the residual plots using all data for each model. How do outliers affect the relative performance of ordinary least squares regression, and robust regression with Huber loss in general? \n",
    "\n",
    "## Answer"
   ]
  },
  {
   "cell_type": "markdown",
   "metadata": {},
   "source": [
    "## 4.1 Boxplots and Scatterplot"
   ]
  },
  {
   "cell_type": "code",
   "execution_count": 183,
   "metadata": {
    "collapsed": false
   },
   "outputs": [],
   "source": [
    "%matplotlib inline\n",
    "import numpy as np\n",
    "import matplotlib.pyplot as plt\n",
    "import matplotlib.pyplot as plt\n",
    "import seaborn as sns\n",
    "import pandas as pd"
   ]
  },
  {
   "cell_type": "code",
   "execution_count": 184,
   "metadata": {
    "collapsed": false
   },
   "outputs": [
    {
     "data": {
      "text/html": [
       "<div>\n",
       "<style>\n",
       "    .dataframe thead tr:only-child th {\n",
       "        text-align: right;\n",
       "    }\n",
       "\n",
       "    .dataframe thead th {\n",
       "        text-align: left;\n",
       "    }\n",
       "\n",
       "    .dataframe tbody tr th {\n",
       "        vertical-align: top;\n",
       "    }\n",
       "</style>\n",
       "<table border=\"1\" class=\"dataframe\">\n",
       "  <thead>\n",
       "    <tr style=\"text-align: right;\">\n",
       "      <th></th>\n",
       "      <th>country</th>\n",
       "      <th>gini</th>\n",
       "      <th>farm</th>\n",
       "      <th>rent</th>\n",
       "      <th>gnpr</th>\n",
       "      <th>labo</th>\n",
       "      <th>inst</th>\n",
       "      <th>ecks</th>\n",
       "      <th>death</th>\n",
       "      <th>demo_class</th>\n",
       "      <th>demo_score</th>\n",
       "    </tr>\n",
       "  </thead>\n",
       "  <tbody>\n",
       "    <tr>\n",
       "      <th>0</th>\n",
       "      <td>Argentina</td>\n",
       "      <td>86.3</td>\n",
       "      <td>98.2</td>\n",
       "      <td>47.9</td>\n",
       "      <td>374</td>\n",
       "      <td>25</td>\n",
       "      <td>16.6</td>\n",
       "      <td>47.0</td>\n",
       "      <td>217</td>\n",
       "      <td>2</td>\n",
       "      <td>35</td>\n",
       "    </tr>\n",
       "    <tr>\n",
       "      <th>1</th>\n",
       "      <td>Australia</td>\n",
       "      <td>92.9</td>\n",
       "      <td>99.6</td>\n",
       "      <td>30.0</td>\n",
       "      <td>1215</td>\n",
       "      <td>14</td>\n",
       "      <td>19.3</td>\n",
       "      <td>0.0</td>\n",
       "      <td>0</td>\n",
       "      <td>1</td>\n",
       "      <td>89</td>\n",
       "    </tr>\n",
       "    <tr>\n",
       "      <th>2</th>\n",
       "      <td>Austria</td>\n",
       "      <td>74.0</td>\n",
       "      <td>97.4</td>\n",
       "      <td>25.7</td>\n",
       "      <td>532</td>\n",
       "      <td>32</td>\n",
       "      <td>15.8</td>\n",
       "      <td>4.0</td>\n",
       "      <td>0</td>\n",
       "      <td>2</td>\n",
       "      <td>52</td>\n",
       "    </tr>\n",
       "    <tr>\n",
       "      <th>3</th>\n",
       "      <td>Belgium</td>\n",
       "      <td>58.7</td>\n",
       "      <td>85.8</td>\n",
       "      <td>98.3</td>\n",
       "      <td>1015</td>\n",
       "      <td>10</td>\n",
       "      <td>23.5</td>\n",
       "      <td>8.0</td>\n",
       "      <td>1</td>\n",
       "      <td>1</td>\n",
       "      <td>98</td>\n",
       "    </tr>\n",
       "    <tr>\n",
       "      <th>4</th>\n",
       "      <td>Bolivia</td>\n",
       "      <td>93.8</td>\n",
       "      <td>97.7</td>\n",
       "      <td>35.0</td>\n",
       "      <td>66</td>\n",
       "      <td>72</td>\n",
       "      <td>18.3</td>\n",
       "      <td>43.0</td>\n",
       "      <td>663</td>\n",
       "      <td>3</td>\n",
       "      <td>19</td>\n",
       "    </tr>\n",
       "  </tbody>\n",
       "</table>\n",
       "</div>"
      ],
      "text/plain": [
       "     country  gini  farm  rent  gnpr  labo  inst  ecks  death  demo_class  \\\n",
       "0  Argentina  86.3  98.2  47.9   374    25  16.6  47.0    217           2   \n",
       "1  Australia  92.9  99.6  30.0  1215    14  19.3   0.0      0           1   \n",
       "2    Austria  74.0  97.4  25.7   532    32  15.8   4.0      0           2   \n",
       "3    Belgium  58.7  85.8  98.3  1015    10  23.5   8.0      1           1   \n",
       "4    Bolivia  93.8  97.7  35.0    66    72  18.3  43.0    663           3   \n",
       "\n",
       "   demo_score  \n",
       "0          35  \n",
       "1          89  \n",
       "2          52  \n",
       "3          98  \n",
       "4          19  "
      ]
     },
     "execution_count": 184,
     "metadata": {},
     "output_type": "execute_result"
    }
   ],
   "source": [
    "df = pd.read_csv(\"russett_full_v2.csv\")\n",
    "df.head()"
   ]
  },
  {
   "cell_type": "code",
   "execution_count": 185,
   "metadata": {
    "collapsed": false
   },
   "outputs": [
    {
     "data": {
      "image/png": "[encoded data removed]",
      "text/plain": [
       "<matplotlib.figure.Figure at 0x1d034cf8>"
      ]
     },
     "metadata": {},
     "output_type": "display_data"
    }
   ],
   "source": [
    "# reference http://seaborn.pydata.org/tutorial/categorical.html\n",
    "\n",
    "fig, (ax1, ax2,ax3) = plt.subplots(1, 3)\n",
    "fig.tight_layout(pad=0.7)\n",
    "\n",
    "#Rent\n",
    "plt.title(\"Rent\")\n",
    "sns.boxplot(y= df['rent'],data =df, ax = ax1)\n",
    "sns.stripplot(y=df['rent'], jitter = True, ax = ax1);\n",
    "\n",
    "#Democracy\n",
    "plt.title(\"Democracy Score\")\n",
    "sns.boxplot(y= df['demo_score'], data =df, color = 'g', ax = ax2)\n",
    "sns.stripplot(y=df['demo_score'], jitter = True, color = 'g', ax = ax2);\n",
    "\n",
    "#Inst\n",
    "plt.title(\"Inst\")\n",
    "sns.boxplot(y= df['inst'], data =df, color = 'r', ax = ax3)\n",
    "sns.stripplot(y=df['inst'], jitter = True, color = 'r', ax = ax3);"
   ]
  },
  {
   "cell_type": "code",
   "execution_count": 194,
   "metadata": {
    "collapsed": false,
    "scrolled": true
   },
   "outputs": [
    {
     "data": {
      "text/plain": [
       "<matplotlib.collections.PathCollection at 0x1d88a630>"
      ]
     },
     "execution_count": 194,
     "metadata": {},
     "output_type": "execute_result"
    },
    {
     "data": {
      "image/png": "[encoded data removed]",
      "text/plain": [
       "<matplotlib.figure.Figure at 0x1bbfff98>"
      ]
     },
     "metadata": {},
     "output_type": "display_data"
    }
   ],
   "source": [
    "#Scatterplots\n",
    "#source https://stackoverflow.com/questions/40333033/how-to-change-outliers-to-some-other-colors-in-a-scatter-plot\n",
    "\n",
    "#Outliers defined as rent > 60 as seen in boxpplot\n",
    "#Rent vs Democracy score\n",
    "plt.figure(figsize=(20,6))\n",
    "plt.xlabel('Rent')\n",
    "plt.ylabel('Democracy Score')\n",
    "plt.title('Rent vs Democracy Score')\n",
    "nonoutLiers = df[df['rent']<=60]\n",
    "outLiers = df[df['rent'] > 60]\n",
    "plt.scatter(nonoutLiers['rent'],nonoutLiers['demo_score'],marker = \"s\",color=\"#2e91be\")\n",
    "plt.scatter(outLiers['rent'],outLiers['demo_score'],marker = \"d\",color=\"#d46f9f\")\n",
    "\n"
   ]
  },
  {
   "cell_type": "code",
   "execution_count": 196,
   "metadata": {
    "collapsed": false
   },
   "outputs": [
    {
     "data": {
      "text/plain": [
       "<matplotlib.collections.PathCollection at 0x143a7668>"
      ]
     },
     "execution_count": 196,
     "metadata": {},
     "output_type": "execute_result"
    },
    {
     "data": {
      "image/png": "[encoded data removed]",
      "text/plain": [
       "<matplotlib.figure.Figure at 0x1cb74630>"
      ]
     },
     "metadata": {},
     "output_type": "display_data"
    }
   ],
   "source": [
    "#Inst vs Democracy score\n",
    "plt.figure(figsize=(20,6))\n",
    "plt.xlabel('Inst')\n",
    "plt.ylabel('Democracy Score')\n",
    "plt.title('Instability vs Democracy Score')\n",
    "nonoutLiers = df[(df['inst'] >=14) & (df['inst']<=23)]\n",
    "outLiers = df[(df['inst'] <14) | (df['inst'] > 23)]\n",
    "plt.scatter(nonoutLiers['inst'],nonoutLiers['demo_score'],marker = \"s\",color=\"#2e91be\")\n",
    "plt.scatter(outLiers['inst'],outLiers['demo_score'],marker = \"d\",color=\"#d46f9f\")"
   ]
  },
  {
   "cell_type": "markdown",
   "metadata": {},
   "source": [
    "### Observation: How would inclusion of outlier affect democracy score?\n",
    "\n",
    "The inclusion of outliers will negatively impact models predicitng our democracy score (especially in Instability vs Democracy Score)\n",
    "Taking a look above in the graph, the instability of 0 leads to a distribution of democracy scores that will skew the data.\n",
    "\n",
    "There is a negative correlation of rent to democracy score and positive correlation between instability and democracy score. \n",
    "A linear model using the data set (inclusive of outliers), will result in a poor prediction"
   ]
  },
  {
   "cell_type": "markdown",
   "metadata": {},
   "source": [
    "\n",
    "##4.2 MLR using Linear Regression"
   ]
  },
  {
   "cell_type": "code",
   "execution_count": 187,
   "metadata": {
    "collapsed": false
   },
   "outputs": [],
   "source": [
    "from sklearn.model_selection import train_test_split\n",
    "df = pd.read_csv(\"russett_full_v2.csv\")\n",
    "X = df.filter(items = ['rent','inst','ecks'])\n",
    "y = df['demo_score']\n",
    "\n",
    "\n",
    "X_train, X_test, y_train, y_test = train_test_split(X,y,test_size = 0.25, random_state=10)   \n"
   ]
  },
  {
   "cell_type": "code",
   "execution_count": 197,
   "metadata": {
    "collapsed": false
   },
   "outputs": [
    {
     "name": "stdout",
     "output_type": "stream",
     "text": [
      "Linear Regression RMSE when scoring on X_train:  25.559001845\n",
      "Linear Regression RMSE when scoring on X_test:  3501.51672513\n"
     ]
    }
   ],
   "source": [
    "from sklearn.metrics import mean_squared_error\n",
    "from math import sqrt\n",
    "#use linear regression with just 3 variables\n",
    "\n",
    "#train model\n",
    "lin = LinearRegression()\n",
    "lin.fit(X_train, y_train)\n",
    "\n",
    "#predict on X_train (overfit)\n",
    "y_predicted_lin = lin.predict(X_train)\n",
    "rmse = sqrt(mean_squared_error(y_train, y_predicted_lin))\n",
    "\n",
    "print \"Linear Regression RMSE when scoring on X_train: \", rmse\n",
    "\n",
    "\n",
    "#predict on X_test\n",
    "y_predicted_lin = lin.predict(X_test)\n",
    "rmse = sqrt(mean_squared_error(y_test, y_predicted_lin))\n",
    "\n",
    "\n",
    "print \"Linear Regression RMSE when scoring on X_test: \", linmse\n"
   ]
  },
  {
   "cell_type": "markdown",
   "metadata": {},
   "source": [
    "### Observation of MSE from Training to Test:\n",
    "The RMSE when scoring on X_train was 25 while the RMSE on X_test was 3501.\n",
    "\n",
    "We see that linear regression does well (overfits) when simply predicitng on the training set but is a poor predictor elsewise"
   ]
  },
  {
   "cell_type": "markdown",
   "metadata": {},
   "source": [
    "## 4.3 Robust model with Huber Loss"
   ]
  },
  {
   "cell_type": "code",
   "execution_count": 198,
   "metadata": {
    "collapsed": false
   },
   "outputs": [
    {
     "name": "stdout",
     "output_type": "stream",
     "text": [
      "RMSE using Huber Regressor:  30.9543526403\n"
     ]
    }
   ],
   "source": [
    "from sklearn.linear_model import HuberRegressor\n",
    "huber = HuberRegressor(alpha = 0.0)\n",
    "huber.fit(X_train,y_train)\n",
    "huber_pred = huber.predict(X_test)\n",
    "hubermse = sqrt(mean_squared_error(y_test, huber_pred))\n",
    "\n",
    "print \"RMSE using Huber Regressor: \", hubermse"
   ]
  },
  {
   "cell_type": "markdown",
   "metadata": {},
   "source": [
    "## 4.4 Comparing models\n",
    "Compare and comment on the model fits obtained in (b) and (c) and plot the residual plots using all data for each model. How do outliers affect the relative performance of ordinary least squares regression, and robust regression with Huber loss in general?"
   ]
  },
  {
   "cell_type": "markdown",
   "metadata": {},
   "source": [
    "**Least Square Linear Regression:** Using this model, the RMSE on the training test was 3501 (pretty horrendous prediction)\n",
    "\n",
    "**Huber Regression:** Huber Regression ignores outliers in a data set, and creates a linear model accordingly. The result was a RMSE of 30.95\n",
    "\n",
    "Outliers poorly impact the performance of ordinary least squares regression but is ignored on robust regression with Huber loss"
   ]
  },
  {
   "cell_type": "code",
   "execution_count": 208,
   "metadata": {
    "collapsed": false
   },
   "outputs": [
    {
     "data": {
      "text/plain": [
       "(array([ 2.,  1.,  2.,  0.,  1.,  1.,  3.,  1.,  0.,  1.]),\n",
       " array([-42.36746629, -31.86296328, -21.35846026, -10.85395725,\n",
       "         -0.34945423,  10.15504879,  20.6595518 ,  31.16405482,\n",
       "         41.66855783,  52.17306085,  62.67756386]),\n",
       " <a list of 10 Patch objects>)"
      ]
     },
     "execution_count": 208,
     "metadata": {},
     "output_type": "execute_result"
    },
    {
     "data": {
      "image/png": "[encoded data removed]",
      "text/plain": [
       "<matplotlib.figure.Figure at 0x204a7828>"
      ]
     },
     "metadata": {},
     "output_type": "display_data"
    }
   ],
   "source": [
    "plt.figure().set_size_inches(20,6)\n",
    "# plot residual error of OLS Regression\n",
    "plt.subplot(121)\n",
    "residual_error_lin = y_test - y_predicted_lin\n",
    "plt.title(\"Residual Error of OLS Prediction\")\n",
    "plt.hist(residual_error_lin)\n",
    "\n",
    "# plot residual error of Huber Regresssion\n",
    "plt.subplot(122)\n",
    "plt.title(\"Residual Error of Huber Prediction\")\n",
    "residual_error_huber = y_test - huber_pred\n",
    "plt.hist(residual_error_huber)"
   ]
  },
  {
   "cell_type": "markdown",
   "metadata": {},
   "source": [
    "From the residual plots of Ordinary least square prediction and Huber prediction, we see that the shape of the distribution appears gaussian and (relatively) centered at zero. (with Huber performing better and being centered at zero). \n",
    "\n",
    "As a result, MLR is a reasonable model for this data set."
   ]
  },
  {
   "cell_type": "markdown",
   "metadata": {},
   "source": [
    "# Question 5 - Sampling (4+4=8pts)\n",
    "\n",
    "1. NBC has come up with an extreme TV show, and each of its viewers either likes or hates it. (no middle ground here; we are in a “black and white age”). NBC wants to estimate what fraction p of its audience like the show by “randomly” calling n viewers and tallying their responses so as to estimate the true value of p to a fractional accuracy of within ±ε%, with a confidence of (1 − α) × 100%. For α = 0.10, ε = 0.03 (i.e. your answer will be $\\hat{p}$± 0.02), what is the minimum value of n needed if true value (i) p = 0.5, (ii) p=0.25? \n",
    "\n",
    "2. Suppose for a certain value of p and choice of ε, you calculate that you will need 1000 samples for α = 0.02. You now decide to obtain a more accurate answer by either (i) reducing α to 0.01, keeping the same ε or by (ii) reducing ε by a factor of 2 from the original value, and increasing α to 0.05. In each case how many samples would you need now?\n",
    "\n",
    "## Answer"
   ]
  },
  {
   "cell_type": "markdown",
   "metadata": {},
   "source": [
    "Minimum sample size needed is:\n",
    "\n",
    "$$n \\geq p(1-p)(z_{\\alpha/2}/\\epsilon)^2$$\n",
    "\n",
    "Normals:\n",
    "\n",
    "$ \\alpha = .1$ : $$z_{\\alpha/2} +/- 1.65 \\delta$$\n",
    "$ \\alpha = .05$ : $$z_{\\alpha/2} +/- 1.96 \\delta$$\n",
    "$ \\alpha = .01$ : $$z_{\\alpha/2} +/- 2.58 \\delta$$"
   ]
  },
  {
   "cell_type": "markdown",
   "metadata": {},
   "source": [
    "![](http://i.markdownnotes.com/image_CQCOxr8.png)"
   ]
  },
  {
   "cell_type": "markdown",
   "metadata": {},
   "source": [
    "## 5.1 Minimum value of n needed:\n",
    "\n",
    "### (i) $p = 0.5$\n",
    "\n",
    "$$n = 0.5(1 - 0.5)(1.65/0.03)^2 $$\n",
    "\n",
    "$ n = 757 $, 757 samples needed to determine that a user has 50% chance of liking the show with 90% confidence and only 3% margin of error\n",
    "\n",
    "### (ii) $p = 0.25$\n",
    "\n",
    "$$n = 0.25(1 - 0.25)(1.65/0.03)^2 $$\n",
    "\n",
    "$ n = 738 $, 738 samples needed to determine that a user has 25% chance of liking the show with 90% confidence and only 3% margin of error"
   ]
  },
  {
   "cell_type": "markdown",
   "metadata": {},
   "source": [
    "## 5.2 Obtaining a more accurate answer:\n",
    "### (i) Change $\\alpha = 0.02$ to $\\alpha = 0.01$\n",
    "\n",
    "Step 1) Solve for p\n",
    "$$\\frac{p(1-p)(z_{2.33}/\\epsilon)^2}{p(1-p)(z_{2.575}/\\epsilon)^2} = \\frac{1000}{\\hat{n}} $$\n",
    "\n",
    "This yields \n",
    "$$\\frac{2.33}{2.575} = \\frac{\\sqrt{1000}}{\\sqrt{\\hat{n}}} $$\n",
    "\n",
    "Solve for new sample size\n",
    "\n",
    "$$\\hat{n} = 1222 $$\n",
    "\n",
    "We will now need a sample of 1221 instead of 1000 to increase our confidence by 1%\n",
    "\n",
    "### (i) Change $\\alpha = 0.02$ to $\\alpha = 0.05$ but decrease $ \\epsilon = \\epsilon/2$\n",
    "\n",
    "Modifying above formulas:\n",
    "$$\\frac{2.33}{1.96/0.5} = \\frac{\\sqrt{1000}}{\\sqrt{\\hat{n}}} $$\n",
    "\n",
    "Solve for n:\n",
    "\n",
    "$$\\hat{n} = 2831 $$\n",
    "\n",
    "We will now need a sample of 2831 instead of 1000 to decrease our margin of error by a factor of 2 (while also decreasing our confidence by 5%)"
   ]
  },
  {
   "cell_type": "markdown",
   "metadata": {},
   "source": [
    "# Question 6 - Principal Component Analysis (10 points)\n",
    "\n",
    "Import the diabetes dataset as in Q1 and add the interaction variables.\n",
    "You should have 65 variables and one target variable."
   ]
  },
  {
   "cell_type": "code",
   "execution_count": 52,
   "metadata": {
    "collapsed": true
   },
   "outputs": [],
   "source": [
    "from sklearn import datasets\n",
    "diabetes = datasets.load_diabetes()\n",
    "X = diabetes.data\n",
    "y = diabetes.target\n",
    "\n",
    "from sklearn.preprocessing import PolynomialFeatures\n",
    "X = PolynomialFeatures(2, include_bias=False).fit_transform(X)"
   ]
  },
  {
   "cell_type": "markdown",
   "metadata": {},
   "source": [
    "Next, use [StandardScaler](http://scikit-learn.org/stable/modules/generated/sklearn.preprocessing.StandardScaler.html) to center and scale each feature as follows."
   ]
  },
  {
   "cell_type": "code",
   "execution_count": 53,
   "metadata": {
    "collapsed": true
   },
   "outputs": [],
   "source": [
    "from sklearn.preprocessing import StandardScaler\n",
    "stdScaler = StandardScaler()\n",
    "X = stdScaler.fit_transform(X)"
   ]
  },
  {
   "cell_type": "markdown",
   "metadata": {},
   "source": [
    "(a) Perform PCA using the sklearn [PCA](http://scikit-learn.org/stable/modules/generated/sklearn.decomposition.PCA.html) package.  Create i) a scree plot depicting the proportion of variance and ii) a cumulative proportion of variance explained by the principal components of the data (X matrix).  Refer to Figure 10.4 of JW for an example.  You may use the output attribute *explained variance ratio*. (3pts)\n",
    "\n",
    "(b) How many principal components (N1, N2, N3) are required to explain cumulative variance of 30%, 60%, and 90%, respectively? (3pts)\n",
    "\n",
    "(c) Fit an ordinary least squares linear regression using N1, N2, and N3 number of principal components, respectively.  (This is called Principal Components Regression). Use entire dataset, e.g. 442 rows. Evaluate the models using mean squared error (MSE). (4pts)\n",
    "\n",
    "## Answer"
   ]
  },
  {
   "cell_type": "code",
   "execution_count": 54,
   "metadata": {
    "collapsed": true
   },
   "outputs": [],
   "source": [
    "from sklearn.decomposition import PCA\n",
    "import pandas as pd\n",
    "import matplotlib.pyplot as plt\n",
    "import numpy as np\n",
    "%matplotlib inline"
   ]
  },
  {
   "cell_type": "code",
   "execution_count": 27,
   "metadata": {
    "collapsed": true
   },
   "outputs": [],
   "source": [
    "# https://www.analyticsvidhya.com/blog/2016/03/practical-guide-principal-component-analysis-python/\n",
    "pca = PCA(n_components=44)"
   ]
  },
  {
   "cell_type": "code",
   "execution_count": 10,
   "metadata": {
    "collapsed": false
   },
   "outputs": [
    {
     "data": {
      "text/plain": [
       "PCA(copy=True, iterated_power='auto', n_components=44, random_state=None,\n",
       "  svd_solver='auto', tol=0.0, whiten=False)"
      ]
     },
     "execution_count": 10,
     "metadata": {},
     "output_type": "execute_result"
    }
   ],
   "source": [
    "pca.fit(X)"
   ]
  },
  {
   "cell_type": "code",
   "execution_count": 11,
   "metadata": {
    "collapsed": true
   },
   "outputs": [],
   "source": [
    "#The amount of variance that each PC explains\n",
    "var= pca.explained_variance_ratio_"
   ]
  },
  {
   "cell_type": "code",
   "execution_count": 26,
   "metadata": {
    "collapsed": false
   },
   "outputs": [],
   "source": [
    "#Cumulative Variance explains\n",
    "var1=np.cumsum(np.round(pca.explained_variance_ratio_, decimals=4)*100)"
   ]
  },
  {
   "cell_type": "code",
   "execution_count": 25,
   "metadata": {
    "collapsed": false
   },
   "outputs": [
    {
     "data": {
      "text/plain": [
       "<matplotlib.text.Text at 0x10947eb8>"
      ]
     },
     "execution_count": 25,
     "metadata": {},
     "output_type": "execute_result"
    },
    {
     "data": {
      "image/png": "[encoded data removed]",
      "text/plain": [
       "<matplotlib.figure.Figure at 0x104ff160>"
      ]
     },
     "metadata": {},
     "output_type": "display_data"
    }
   ],
   "source": [
    "xVals = [n for n in range(0,44)]\n",
    "\n",
    "plt.figure().set_size_inches(20,6)\n",
    "plt.subplot(121)\n",
    "plt.scatter(xVals,var)\n",
    "plt.plot(var)\n",
    "plt.title('Scree Plot Prop Variance vs Principal Component')\n",
    "plt.xlabel('Principal Component')\n",
    "plt.ylabel('Prop. Variance Explained')\n",
    "\n",
    "plt.subplot(122)\n",
    "plt.scatter(xVals,var1)\n",
    "plt.plot(var1)\n",
    "plt.title('Scree Plot Cum Prop Variance vs Principal Component')\n",
    "plt.xlabel('Principal Component')\n",
    "plt.ylabel('Cumulative. Variance Explained')"
   ]
  },
  {
   "cell_type": "markdown",
   "metadata": {},
   "source": [
    "## 5.2 30%, 60%, 90%"
   ]
  },
  {
   "cell_type": "code",
   "execution_count": 46,
   "metadata": {
    "collapsed": false
   },
   "outputs": [
    {
     "name": "stdout",
     "output_type": "stream",
     "text": [
      "Number of components needed to capture 30% of data: 2\n",
      "Number of components needed to capture 60% of data: 8\n",
      "Number of components needed to capture 90% of data: 26\n"
     ]
    }
   ],
   "source": [
    "thirty = xVals[np.argwhere((var1 > 30) & (var1 < 35))[0][0]]\n",
    "sixty = xVals[np.argwhere((var1 >= 60) & (var1 < 61))[0][0]]\n",
    "ninety = xVals[np.argwhere((var1 >= 90) & (var1 < 91))[0][0]]\n",
    "\n",
    "print \"Number of components needed to capture 30% of data:\", thirty\n",
    "print \"Number of components needed to capture 60% of data:\", sixty\n",
    "print \"Number of components needed to capture 90% of data:\", ninety"
   ]
  },
  {
   "cell_type": "markdown",
   "metadata": {},
   "source": [
    "## 5.3 Fit linear regression on N1, N2, N3"
   ]
  },
  {
   "cell_type": "code",
   "execution_count": 70,
   "metadata": {
    "collapsed": false
   },
   "outputs": [
    {
     "name": "stdout",
     "output_type": "stream",
     "text": [
      "MSE of Linear Regression of PCA of n=2 components capturing 30%: 5860.65663725\n",
      "MSE of Linear Regression of PCA of n=8 components capturing 60%: 3916.84420427\n",
      "MSE of Linear Regression of PCA of n=26 components capturing 90%: 3030.431801\n",
      "Least Square Linear Regression MSE: 3424.65140859\n"
     ]
    }
   ],
   "source": [
    "from sklearn.model_selection import train_test_split\n",
    "from sklearn.linear_model import LassoCV, RidgeCV, Lasso, Ridge, LinearRegression \n",
    "N1 = 2\n",
    "N2 = 8\n",
    "N3 = 26\n",
    "\n",
    "\n",
    "\n",
    "\n",
    "#30% variance captured and data split\n",
    "pca = PCA(n_components=2)\n",
    "thirtyPercentData = pca.fit_transform(X)\n",
    "X_train, X_test, y_train, y_test = train_test_split(thirtyPercentData,y,test_size = 0.33, random_state=20)\n",
    "\n",
    "#fit model\n",
    "linear = LinearRegression()\n",
    "linear.fit(X_train,y_train)\n",
    "ypred = linear.predict(X_test)\n",
    "linmse = ((ypred - y_test) ** 2).mean()\n",
    "print \"MSE of Linear Regression of PCA of n=2 components capturing 30%:\", linmse\n",
    "\n",
    "#60% variance captured and data split \n",
    "pca = PCA(n_components=8)\n",
    "sixtyPercentData = pca.fit_transform(X)\n",
    "X_train, X_test, y_train, y_test = train_test_split(sixtyPercentData,y,test_size = 0.33, random_state=20)\n",
    "linear = LinearRegression()\n",
    "linear.fit(X_train,y_train)\n",
    "ypred = linear.predict(X_test)\n",
    "linmse = ((ypred - y_test) ** 2).mean()\n",
    "print \"MSE of Linear Regression of PCA of n=8 components capturing 60%:\", linmse\n",
    "\n",
    "\n",
    "#90% variance captured and data split \n",
    "pca = PCA(n_components=26)\n",
    "ninetyPercentData = pca.fit_transform(X)\n",
    "X_train, X_test, y_train, y_test = train_test_split(ninetyPercentData,y,test_size = 0.33, random_state=20)\n",
    "linear = LinearRegression()\n",
    "linear.fit(X_train,y_train)\n",
    "ypred = linear.predict(X_test)\n",
    "linmse = ((ypred - y_test) ** 2).mean()\n",
    "print \"MSE of Linear Regression of PCA of n=26 components capturing 90%:\", linmse\n",
    "\n",
    "#Original data set\n",
    "# Least Squares\n",
    "X_train, X_test, y_train, y_test = train_test_split(X,y,test_size = 0.33, random_state=20)\n",
    "linear.fit(X_train, y_train)\n",
    "lin_pred = linear.predict(X_test)\n",
    "linmse = ((lin_pred - y_test) ** 2).mean()\n",
    "print \"Least Square Linear Regression MSE: \" + str(linmse)"
   ]
  },
  {
   "cell_type": "markdown",
   "metadata": {},
   "source": [
    "### Observation\n",
    "As the number of components increases, the lower the MSE.\n",
    "\n",
    "We recognize that LassoCV also deemed that 26 features were important and we also have n=26 for PCA.\n",
    "\n",
    "Reducing the dimensionality to capture 90% of the data results in a better predictive model than performing linear regression on the original dataset"
   ]
  },
  {
   "cell_type": "code",
   "execution_count": null,
   "metadata": {
    "collapsed": true
   },
   "outputs": [],
   "source": []
  }
 ],
 "metadata": {
  "kernelspec": {
   "display_name": "Python 2",
   "language": "python",
   "name": "python2"
  },
  "language_info": {
   "codemirror_mode": {
    "name": "ipython",
    "version": 2
   },
   "file_extension": ".py",
   "mimetype": "text/x-python",
   "name": "python",
   "nbconvert_exporter": "python",
   "pygments_lexer": "ipython2",
   "version": "2.7.13"
  }
 },
 "nbformat": 4,
 "nbformat_minor": 1
}
