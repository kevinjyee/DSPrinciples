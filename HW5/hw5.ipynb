{
 "cells": [
  {
   "cell_type": "markdown",
   "metadata": {},
   "source": [
    "\n",
    "# <p style=\"text-align: center;\">EE 461P: Data Science Principles</p>\n",
    "# <p style=\"text-align: center;\">Assignment 5</p>\n",
    "## <p style=\"text-align: center;\">Total points: 40</p>\n",
    "## <p style=\"text-align: center;\">Due: Thursday, November 30th, submitted via Canvas by 11:59 pm</p>\n",
    "### <p style=\"text-align: center;\">Jayaj Poudel and Kevin Yee</p>\n",
    "### <p style=\"text-align: center;\">Jp49672 and kjy252</p>\n",
    "Your homework should be written in a **Jupyter notebook**. You may work in groups of two if you wish. Only one student per team needs to submit the assignment on Canvas.  But be sure to include name and UTID for both students.  Homework groups will be created and managed through Canvas, so please do not arbitrarily change your homework group.  \n",
    "\n",
    "Also, please make sure your code runs and the graphics (and anything else) are displayed in your notebook before submitting. (%matplotlib inline)"
   ]
  },
  {
   "cell_type": "markdown",
   "metadata": {},
   "source": [
    "# Question 1: Ensembles (1+12+2 = 15pts)\n",
    "In this question, we will compare performance of different ensemble methods: [Random Forest](http://scikit-learn.org/stable/modules/generated/sklearn.ensemble.RandomForestClassifier.html), [Gradient Boosting Decision Tree](http://scikit-learn.org/stable/modules/generated/sklearn.ensemble.GradientBoostingClassifier.html) (GBDT), and [XGBoost](http://xgboost.readthedocs.io/en/latest/).  Note that you have to install xgboost package in addition to scikit-learn.  You can see installation guides [here](http://xgboost.readthedocs.io/en/latest/build.html).\n",
    "\n",
    "\n",
    "\n",
    "\n",
    "Two  datasets are provided for this problem. For **each of the datasets ((X1.csv, y1.csv), (X2.csv, y2.csv))**, do the following:\n",
    "\n",
    "1. Load the data and partition it into features (X) and the target label (y) for classification task. Then, use [train_test_split](http://scikit-learn.org/stable/modules/generated/sklearn.model_selection.train_test_split.html) to split data into training and testing: test_size=0.33, random_state=42.\n",
    "\n",
    "2. Build a classifier using [Random Forest](http://scikit-learn.org/stable/modules/generated/sklearn.ensemble.RandomForestClassifier.html), [Gradient Boosting Decision Tree](http://scikit-learn.org/stable/modules/generated/sklearn.ensemble.GradientBoostingClassifier.html), and [XGBoost](http://xgboost.readthedocs.io/en/latest/), respectively, and answer the following for each classifier.\n",
    "\n",
    " - Mention any design choices (with reasoning/justification) that you made, e.g. the hyperparameters considered for each classifier.\n",
    " - Report the mean error rate (fraction of incorrect labels) and the confusion matrix on test data. <br>\n",
    " - Report the feature importance and time of execution (training and predicting times).\n",
    "\n",
    "3. Compare the three classifiers for the two different datasets ((X1.csv, y1.csv), (X2.csv, y2.csv)) in terms of the misclassification rate.  What are the characteristics of the dataset and the classifiers that resulted in somewhat different comparative results?"
   ]
  },
  {
   "cell_type": "code",
   "execution_count": 25,
   "metadata": {
    "collapsed": false
   },
   "outputs": [],
   "source": [
    "import numpy as np\n",
    "import pandas as pd\n",
    "import timeit\n",
    "import seaborn as sns\n",
    "from sklearn.ensemble import RandomForestClassifier\n",
    "from sklearn.metrics import confusion_matrix\n",
    "from sklearn.ensemble import GradientBoostingClassifier\n",
    "from sklearn.model_selection import GridSearchCV\n",
    "from sklearn.metrics import zero_one_loss\n",
    "from xgboost.sklearn import XGBClassifier\n",
    "from time import time\n",
    "import matplotlib.pyplot as plt\n",
    "from sklearn.model_selection import train_test_split\n",
    "%matplotlib inline"
   ]
  },
  {
   "cell_type": "markdown",
   "metadata": {},
   "source": [
    "## Dataset 1"
   ]
  },
  {
   "cell_type": "markdown",
   "metadata": {},
   "source": [
    "### Load data in"
   ]
  },
  {
   "cell_type": "code",
   "execution_count": 34,
   "metadata": {
    "collapsed": false
   },
   "outputs": [
    {
     "data": {
      "text/html": [
       "<div>\n",
       "<style>\n",
       "    .dataframe thead tr:only-child th {\n",
       "        text-align: right;\n",
       "    }\n",
       "\n",
       "    .dataframe thead th {\n",
       "        text-align: left;\n",
       "    }\n",
       "\n",
       "    .dataframe tbody tr th {\n",
       "        vertical-align: top;\n",
       "    }\n",
       "</style>\n",
       "<table border=\"1\" class=\"dataframe\">\n",
       "  <thead>\n",
       "    <tr style=\"text-align: right;\">\n",
       "      <th></th>\n",
       "      <th>0</th>\n",
       "      <th>1</th>\n",
       "      <th>2</th>\n",
       "      <th>3</th>\n",
       "      <th>4</th>\n",
       "      <th>5</th>\n",
       "      <th>6</th>\n",
       "      <th>7</th>\n",
       "      <th>8</th>\n",
       "      <th>9</th>\n",
       "      <th>...</th>\n",
       "      <th>20</th>\n",
       "      <th>21</th>\n",
       "      <th>22</th>\n",
       "      <th>23</th>\n",
       "      <th>24</th>\n",
       "      <th>25</th>\n",
       "      <th>26</th>\n",
       "      <th>27</th>\n",
       "      <th>28</th>\n",
       "      <th>29</th>\n",
       "    </tr>\n",
       "  </thead>\n",
       "  <tbody>\n",
       "    <tr>\n",
       "      <th>8371</th>\n",
       "      <td>-1.649719</td>\n",
       "      <td>1.176245</td>\n",
       "      <td>-2.039881</td>\n",
       "      <td>-0.478870</td>\n",
       "      <td>-0.070298</td>\n",
       "      <td>-0.762115</td>\n",
       "      <td>-0.795423</td>\n",
       "      <td>-2.306197</td>\n",
       "      <td>-1.982519</td>\n",
       "      <td>0.032758</td>\n",
       "      <td>...</td>\n",
       "      <td>-1.511817</td>\n",
       "      <td>-0.298953</td>\n",
       "      <td>0.150190</td>\n",
       "      <td>0.097169</td>\n",
       "      <td>0.107654</td>\n",
       "      <td>-2.494602</td>\n",
       "      <td>0.015803</td>\n",
       "      <td>2.469424</td>\n",
       "      <td>0.290024</td>\n",
       "      <td>0.585001</td>\n",
       "    </tr>\n",
       "    <tr>\n",
       "      <th>5027</th>\n",
       "      <td>-2.800194</td>\n",
       "      <td>0.683859</td>\n",
       "      <td>-0.177587</td>\n",
       "      <td>-0.496900</td>\n",
       "      <td>1.200335</td>\n",
       "      <td>-1.024381</td>\n",
       "      <td>0.871439</td>\n",
       "      <td>-1.783368</td>\n",
       "      <td>0.149218</td>\n",
       "      <td>-0.487374</td>\n",
       "      <td>...</td>\n",
       "      <td>-0.526128</td>\n",
       "      <td>0.093952</td>\n",
       "      <td>-3.155403</td>\n",
       "      <td>0.537268</td>\n",
       "      <td>-0.449454</td>\n",
       "      <td>-0.834588</td>\n",
       "      <td>0.138224</td>\n",
       "      <td>1.262711</td>\n",
       "      <td>-0.939828</td>\n",
       "      <td>0.036371</td>\n",
       "    </tr>\n",
       "    <tr>\n",
       "      <th>9234</th>\n",
       "      <td>-1.930278</td>\n",
       "      <td>-1.485537</td>\n",
       "      <td>1.326368</td>\n",
       "      <td>-1.032879</td>\n",
       "      <td>1.113461</td>\n",
       "      <td>0.752487</td>\n",
       "      <td>-0.511190</td>\n",
       "      <td>1.756748</td>\n",
       "      <td>1.241512</td>\n",
       "      <td>-1.043416</td>\n",
       "      <td>...</td>\n",
       "      <td>-1.481338</td>\n",
       "      <td>0.104191</td>\n",
       "      <td>0.126290</td>\n",
       "      <td>-0.923395</td>\n",
       "      <td>-0.813220</td>\n",
       "      <td>0.507418</td>\n",
       "      <td>0.299762</td>\n",
       "      <td>0.837458</td>\n",
       "      <td>0.360729</td>\n",
       "      <td>0.637715</td>\n",
       "    </tr>\n",
       "    <tr>\n",
       "      <th>3944</th>\n",
       "      <td>-0.890298</td>\n",
       "      <td>2.057592</td>\n",
       "      <td>0.294119</td>\n",
       "      <td>-0.041669</td>\n",
       "      <td>-0.279400</td>\n",
       "      <td>-0.939085</td>\n",
       "      <td>-1.869124</td>\n",
       "      <td>-1.165352</td>\n",
       "      <td>-0.711337</td>\n",
       "      <td>1.593815</td>\n",
       "      <td>...</td>\n",
       "      <td>0.228440</td>\n",
       "      <td>-1.205651</td>\n",
       "      <td>-2.591204</td>\n",
       "      <td>-0.035392</td>\n",
       "      <td>-1.299204</td>\n",
       "      <td>0.666743</td>\n",
       "      <td>0.342322</td>\n",
       "      <td>0.455440</td>\n",
       "      <td>-0.868818</td>\n",
       "      <td>0.698854</td>\n",
       "    </tr>\n",
       "    <tr>\n",
       "      <th>6862</th>\n",
       "      <td>-2.341212</td>\n",
       "      <td>-0.861124</td>\n",
       "      <td>-0.166122</td>\n",
       "      <td>0.596955</td>\n",
       "      <td>-0.397331</td>\n",
       "      <td>-1.196161</td>\n",
       "      <td>-0.629864</td>\n",
       "      <td>-1.321675</td>\n",
       "      <td>-1.417548</td>\n",
       "      <td>-0.463296</td>\n",
       "      <td>...</td>\n",
       "      <td>2.542832</td>\n",
       "      <td>1.825602</td>\n",
       "      <td>-0.802293</td>\n",
       "      <td>1.169343</td>\n",
       "      <td>1.460272</td>\n",
       "      <td>-0.616649</td>\n",
       "      <td>0.219613</td>\n",
       "      <td>-0.332764</td>\n",
       "      <td>0.748059</td>\n",
       "      <td>-0.974091</td>\n",
       "    </tr>\n",
       "  </tbody>\n",
       "</table>\n",
       "<p>5 rows × 30 columns</p>\n",
       "</div>"
      ],
      "text/plain": [
       "            0         1         2         3         4         5         6   \\\n",
       "8371 -1.649719  1.176245 -2.039881 -0.478870 -0.070298 -0.762115 -0.795423   \n",
       "5027 -2.800194  0.683859 -0.177587 -0.496900  1.200335 -1.024381  0.871439   \n",
       "9234 -1.930278 -1.485537  1.326368 -1.032879  1.113461  0.752487 -0.511190   \n",
       "3944 -0.890298  2.057592  0.294119 -0.041669 -0.279400 -0.939085 -1.869124   \n",
       "6862 -2.341212 -0.861124 -0.166122  0.596955 -0.397331 -1.196161 -0.629864   \n",
       "\n",
       "            7         8         9     ...           20        21        22  \\\n",
       "8371 -2.306197 -1.982519  0.032758    ...    -1.511817 -0.298953  0.150190   \n",
       "5027 -1.783368  0.149218 -0.487374    ...    -0.526128  0.093952 -3.155403   \n",
       "9234  1.756748  1.241512 -1.043416    ...    -1.481338  0.104191  0.126290   \n",
       "3944 -1.165352 -0.711337  1.593815    ...     0.228440 -1.205651 -2.591204   \n",
       "6862 -1.321675 -1.417548 -0.463296    ...     2.542832  1.825602 -0.802293   \n",
       "\n",
       "            23        24        25        26        27        28        29  \n",
       "8371  0.097169  0.107654 -2.494602  0.015803  2.469424  0.290024  0.585001  \n",
       "5027  0.537268 -0.449454 -0.834588  0.138224  1.262711 -0.939828  0.036371  \n",
       "9234 -0.923395 -0.813220  0.507418  0.299762  0.837458  0.360729  0.637715  \n",
       "3944 -0.035392 -1.299204  0.666743  0.342322  0.455440 -0.868818  0.698854  \n",
       "6862  1.169343  1.460272 -0.616649  0.219613 -0.332764  0.748059 -0.974091  \n",
       "\n",
       "[5 rows x 30 columns]"
      ]
     },
     "execution_count": 34,
     "metadata": {},
     "output_type": "execute_result"
    }
   ],
   "source": [
    "# load data in\n",
    "dataX1 = pd.read_csv(\"X1.csv\")\n",
    "\n",
    "\n",
    "colNames = []\n",
    "for i in range(0,dataX1.shape[1]):\n",
    "    colNames.append(i)\n",
    "    \n",
    "dataX1 = pd.read_csv(\"X1.csv\", names = colNames)\n",
    "targetY1 = pd.read_csv(\"Y1.csv\", names = ['y'])\n",
    "# split features \n",
    "X_train1, X_test1, y_train1,y_test1 = train_test_split(dataX1, targetY1, test_size=0.33, random_state=42)\n",
    "\n",
    "X_train1.head()"
   ]
  },
  {
   "cell_type": "markdown",
   "metadata": {},
   "source": [
    "### Design Choices of Finding Hyperparameters"
   ]
  },
  {
   "cell_type": "markdown",
   "metadata": {},
   "source": [
    "Hyperparamters were chosen using GridSearchCV using initial values suggested by https://www.analyticsvidhya.com.\n",
    "As advised, the main parameter tested was 'n_estimators'. However, we kept this number low for the sake of time complexity.\n",
    "\n",
    "In addition to testing for n_estimators we tested:\n",
    "\n",
    "1) For Random Forest Classifier, the min_samples_leaf was tested in the Grid Search\n",
    "2) For Gradient Boosting Classifier, the learning rate was tested in the Grid Search\n",
    "3) For XGBoost Classifier, the max_depth was tested in the Grid Search\n",
    "\n",
    "We used 5 Fold CV to gain our optimal paramters. Below is the output:"
   ]
  },
  {
   "cell_type": "code",
   "execution_count": 14,
   "metadata": {
    "collapsed": false
   },
   "outputs": [
    {
     "name": "stdout",
     "output_type": "stream",
     "text": [
      "('Best Estimator', RandomForestClassifier(bootstrap=True, class_weight=None, criterion='gini',\n",
      "            max_depth=None, max_features='auto', max_leaf_nodes=None,\n",
      "            min_impurity_decrease=0.0, min_impurity_split=None,\n",
      "            min_samples_leaf=50, min_samples_split=2,\n",
      "            min_weight_fraction_leaf=0.0, n_estimators=100, n_jobs=1,\n",
      "            oob_score=False, random_state=None, verbose=0,\n",
      "            warm_start=False))\n",
      "('Best Score', 0.85057471264367812)\n",
      "('Best Params', {'n_estimators': 100, 'min_samples_leaf': 50})\n"
     ]
    }
   ],
   "source": [
    "# Grid Search CV to find best hyper parameters\n",
    "\n",
    "RFC = RandomForestClassifier()\n",
    "\n",
    "# Creating Parameters as suggested by: \n",
    "# https://www.analyticsvidhya.com/blog/2015/06/tuning-random-forest-model/\n",
    "\n",
    "params = { 'n_estimators' : [30,60,100], 'min_samples_leaf' : [50, 70, 90] }\n",
    "\n",
    "# Run GridSearch to find best Parmas for Random Forest on 5-fold CV\n",
    "gridCV = GridSearchCV(estimator = RFC, param_grid = params, cv = 5, n_jobs = -1)\n",
    "gridCV.fit(X_train1.values, y_train1.values.ravel())\n",
    "\n",
    "print(\"\\n Grid Score CV Results for Random Forest\")\n",
    "print (\"Best Estimator\", gridCV.best_estimator_)\n",
    "print (\"Best Score\",gridCV.best_score_)\n",
    "print (\"Best Params\", gridCV.best_params_)"
   ]
  },
  {
   "cell_type": "code",
   "execution_count": 17,
   "metadata": {
    "collapsed": false
   },
   "outputs": [
    {
     "name": "stdout",
     "output_type": "stream",
     "text": [
      "\n",
      " Grid Score CV Results for Gradient Boost Classifier\n",
      "('Best Estimator', GradientBoostingClassifier(criterion='friedman_mse', init=None,\n",
      "              learning_rate=0.2, loss='deviance', max_depth=3,\n",
      "              max_features=None, max_leaf_nodes=None,\n",
      "              min_impurity_decrease=0.0, min_impurity_split=None,\n",
      "              min_samples_leaf=1, min_samples_split=2,\n",
      "              min_weight_fraction_leaf=0.0, n_estimators=100,\n",
      "              presort='auto', random_state=None, subsample=1.0, verbose=0,\n",
      "              warm_start=False))\n",
      "('Best Score', 0.88804299149126731)\n",
      "('Best Params', {'n_estimators': 100, 'learning_rate': 0.2})\n"
     ]
    }
   ],
   "source": [
    "gbm = GradientBoostingClassifier()\n",
    "\n",
    "# Creating Parameters as suggested by: \n",
    "# https://www.analyticsvidhya.com/blog/2016/02/complete-guide-parameter-tuning-gradient-boosting-gbm-python/\n",
    "\n",
    "params = { 'n_estimators' : [30,60,100], \n",
    "          'learning_rate' : [0.01, 0.1, 0.2] }\n",
    "\n",
    "# Run GridSearch to find best Parmas for Gradient Boosting CLassifier on 5-fold CV\n",
    "gridCV = GridSearchCV(estimator = gbm, param_grid = params, cv = 5, n_jobs = -1)\n",
    "gridCV.fit(X_train1.values, y_train1.values.ravel())\n",
    "\n",
    "print(\"\\n Grid Score CV Results for Gradient Boost Classifier\")\n",
    "print (\"Best Estimator\", gridCV.best_estimator_)\n",
    "print (\"Best Score\",gridCV.best_score_)\n",
    "print (\"Best Params\", gridCV.best_params_)"
   ]
  },
  {
   "cell_type": "code",
   "execution_count": 18,
   "metadata": {
    "collapsed": false
   },
   "outputs": [
    {
     "name": "stdout",
     "output_type": "stream",
     "text": [
      "\n",
      " Grid Score CV Results for XGBoost Classifier\n",
      "('Best Estimator', XGBClassifier(base_score=0.5, colsample_bylevel=1, colsample_bytree=1,\n",
      "       gamma=0, learning_rate=0.1, max_delta_step=0, max_depth=8,\n",
      "       min_child_weight=1, missing=None, n_estimators=100, nthread=-1,\n",
      "       objective='binary:logistic', reg_alpha=0, reg_lambda=1,\n",
      "       scale_pos_weight=1, seed=0, silent=True, subsample=1))\n",
      "('Best Score', 0.92148081803254211)\n",
      "('Best Params', {'n_estimators': 100, 'max_depth': 8})\n"
     ]
    }
   ],
   "source": [
    "xgb = XGBClassifier()\n",
    "\n",
    "# Creating Parameters as suggested by: \n",
    "# https://www.analyticsvidhya.com/blog/2016/03/complete-guide-parameter-tuning-xgboost-with-codes-python/\n",
    "\n",
    "params = { 'n_estimators' : [30,60,100], \n",
    "          'max_depth' : [4, 6, 8] }\n",
    "\n",
    "# Run GridSearch to find best Parmas for Gradient Boosting CLassifier on 5-fold CV\n",
    "gridCV = GridSearchCV(estimator = xgb, param_grid = params, cv = 5, n_jobs = -1)\n",
    "gridCV.fit(X_train1.values, y_train1.values.ravel())\n",
    "\n",
    "print(\"\\n Grid Score CV Results for XGBoost Classifier\")\n",
    "print (\"Best Estimator\", gridCV.best_estimator_)\n",
    "print (\"Best Score\",gridCV.best_score_)\n",
    "print (\"Best Params\", gridCV.best_params_)"
   ]
  },
  {
   "cell_type": "markdown",
   "metadata": {},
   "source": [
    "### Reporting Mean Error Rate + Confusion Matrix on Test data. "
   ]
  },
  {
   "cell_type": "code",
   "execution_count": 48,
   "metadata": {
    "collapsed": false
   },
   "outputs": [
    {
     "name": "stdout",
     "output_type": "stream",
     "text": [
      "\n",
      "Mean Error Rate for Random Forest Classifier: 0.146060606061\n",
      "\n",
      "Mean Error Rate for Gradient Boosting Classifier: 0.113333333333\n",
      "\n",
      "Mean Error Rate for XGBoost Classifier: 0.0766666666667\n"
     ]
    },
    {
     "name": "stderr",
     "output_type": "stream",
     "text": [
      "C:\\Users\\Kevin\\Anaconda\\lib\\site-packages\\IPython\\kernel\\__main__.py:9: DataConversionWarning: A column-vector y was passed when a 1d array was expected. Please change the shape of y to (n_samples,), for example using ravel().\n"
     ]
    },
    {
     "data": {
      "image/png": "[encoded data removed]",
      "text/plain": [
       "<matplotlib.figure.Figure at 0x12abb2b0>"
      ]
     },
     "metadata": {},
     "output_type": "display_data"
    },
    {
     "data": {
      "image/png": "[encoded data removed]",
      "text/plain": [
       "<matplotlib.figure.Figure at 0x2aa41470>"
      ]
     },
     "metadata": {},
     "output_type": "display_data"
    },
    {
     "data": {
      "image/png": "[encoded data removed]",
      "text/plain": [
       "<matplotlib.figure.Figure at 0x2ae75358>"
      ]
     },
     "metadata": {},
     "output_type": "display_data"
    }
   ],
   "source": [
    "rfc = RandomForestClassifier(n_estimators = 100, min_samples_leaf = 50)\n",
    "gbm = GradientBoostingClassifier(n_estimators = 100, learning_rate = 0.2)\n",
    "xgb = XGBClassifier(n_estimators = 100, max_depth = 8)\n",
    "\n",
    "### Random Forest Classifier ###\n",
    "\n",
    "## Train RFC\n",
    "beg_ts = time()\n",
    "rfc.fit(X_train1, y_train1)\n",
    "end_ts = time()\n",
    "elapsed_rfc_train_time = end_ts - beg_ts\n",
    "\n",
    "## Pred RFC\n",
    "beg_ts = time()\n",
    "rfc_preds = rfc.predict(X_test1)\n",
    "end_ts = time()\n",
    "elapsed_rfc_predict_time = end_ts - beg_ts\n",
    "\n",
    "### Gradient Boosting Classifier ###\n",
    "\n",
    "## Train GBM\n",
    "beg_ts = time()\n",
    "gbm.fit(X_train1, y_train1)\n",
    "end_ts = time()\n",
    "elapsed_gbm_train_time = end_ts - beg_ts\n",
    "\n",
    "## Pred GBM\n",
    "beg_ts = time()\n",
    "gbm_preds = gbm.predict(X_test1)\n",
    "end_ts = time()\n",
    "elapsed_gbm_predict_time = end_ts - beg_ts\n",
    "\n",
    "### XGB Classifier ###\n",
    "\n",
    "## Train XGB\n",
    "beg_ts = time()\n",
    "xgb.fit(X_train1, y_train1)\n",
    "end_ts = time()\n",
    "elapsed_xgb_train_time = end_ts - beg_ts\n",
    "\n",
    "## Pred XGB\n",
    "beg_ts = time()\n",
    "xgb_preds = xgb.predict(X_test1)\n",
    "end_ts = time()\n",
    "elapsed_xgb_predict_time = end_ts - beg_ts\n",
    "\n",
    "print \"\\nMean Error Rate for Random Forest Classifier: \" + str(zero_one_loss(y_test1,rfc_preds))\n",
    "print \"\\nMean Error Rate for Gradient Boosting Classifier: \" + str(zero_one_loss(y_test1,gbm_preds))\n",
    "print \"\\nMean Error Rate for XGBoost Classifier: \" + str(zero_one_loss(y_test1,xgb_preds))\n",
    "\n",
    "sns.heatmap(conf_matrix_rfc,annot=True,fmt=\".3f\")\n",
    "plt.xlabel('Predicted')\n",
    "plt.ylabel('True')\n",
    "plt.title(\"Confusion Matrix For Random Forest Classifier\")\n",
    "\n",
    "plt.show()\n",
    "\n",
    "sns.heatmap(conf_matrix_gbm,annot=True,fmt=\".3f\")\n",
    "plt.xlabel('Predicted')\n",
    "plt.ylabel('True')\n",
    "plt.title(\"Confusion Matrix For Gradient Boosting Classifier\")\n",
    "plt.show()\n",
    "\n",
    "sns.heatmap(conf_matrix_xgb,annot=True,fmt=\".3f\")\n",
    "plt.xlabel('Predicted')\n",
    "plt.ylabel('True')\n",
    "plt.title(\"Confusion Matrix For XGBoost Classifier\")\n",
    "plt.show()"
   ]
  },
  {
   "cell_type": "markdown",
   "metadata": {},
   "source": [
    "### Feature importance and Time of execution (training and predicting times)"
   ]
  },
  {
   "cell_type": "code",
   "execution_count": 53,
   "metadata": {
    "collapsed": false
   },
   "outputs": [
    {
     "data": {
      "image/png": "[encoded data removed]",
      "text/plain": [
       "<matplotlib.figure.Figure at 0x2c18d4e0>"
      ]
     },
     "metadata": {},
     "output_type": "display_data"
    }
   ],
   "source": [
    "sns.set_style('whitegrid')\n",
    "plt.figure(figsize=(10,12))\n",
    "sns.barplot(x=rfc.feature_importances_, y=X_train1.columns,orient =\"h\")\n",
    "plt.title(\"Feature Importances According to Random Forest Classifier\")\n",
    "plt.show()"
   ]
  },
  {
   "cell_type": "code",
   "execution_count": 55,
   "metadata": {
    "collapsed": false
   },
   "outputs": [
    {
     "data": {
      "image/png": "[encoded data removed]",
      "text/plain": [
       "<matplotlib.figure.Figure at 0x2c03b5f8>"
      ]
     },
     "metadata": {},
     "output_type": "display_data"
    }
   ],
   "source": [
    "\n",
    "sns.set_style('whitegrid')\n",
    "plt.figure(figsize=(10,12))\n",
    "sns.barplot(x=gbm.feature_importances_,y=X_train1.columns, orient = 'h')\n",
    "plt.title(\"Feature Importances According to Gradient Boosting Classifier\")\n",
    "plt.show()\n",
    "\n"
   ]
  },
  {
   "cell_type": "code",
   "execution_count": 54,
   "metadata": {
    "collapsed": false
   },
   "outputs": [
    {
     "data": {
      "image/png": "[encoded data removed]",
      "text/plain": [
       "<matplotlib.figure.Figure at 0x2c2ff550>"
      ]
     },
     "metadata": {},
     "output_type": "display_data"
    }
   ],
   "source": [
    "sns.set_style('whitegrid')\n",
    "plt.figure(figsize=(10,12))\n",
    "sns.barplot(x=xgb.feature_importances_,y=X_train1.columns, orient = 'h')\n",
    "plt.title(\"Feature Importances According to XGBoost Classifier\")\n",
    "plt.show()"
   ]
  },
  {
   "cell_type": "markdown",
   "metadata": {},
   "source": [
    "The most important features in RandomForest and GradientBoost was Feature 22 \n",
    "\n",
    "The most important features in XGBoost was Feature 18"
   ]
  },
  {
   "cell_type": "code",
   "execution_count": 59,
   "metadata": {
    "collapsed": false
   },
   "outputs": [
    {
     "name": "stdout",
     "output_type": "stream",
     "text": [
      "\n",
      "Random Forest Times: \n",
      "Training Time (secs): 4.184\n",
      "Predicting Time (secs): 0.071\n",
      "\n",
      "Gradient Boosting Times: \n",
      "Training Time (secs): 5.031\n",
      "Predicting Time (secs): 0.009\n",
      "\n",
      "XGBoosting Times: \n",
      "Training Time (secs): 7.406\n",
      "Predicting Time (secs): 0.042\n"
     ]
    }
   ],
   "source": [
    "print \"\\nRandom Forest Times: \"\n",
    "print \"Training Time (secs): %.3f\" % elapsed_rfc_train_time \n",
    "print \"Predicting Time (secs): %.3f\" % elapsed_rfc_predict_time\n",
    "\n",
    "print \"\\nGradient Boosting Times: \"\n",
    "print \"Training Time (secs): %.3f\" % elapsed_gbm_train_time\n",
    "print \"Predicting Time (secs): %.3f\" % elapsed_gbm_predict_time\n",
    "\n",
    "\n",
    "print \"\\nXGBoosting Times: \"\n",
    "print \"Training Time (secs): %.3f\" % elapsed_xgb_train_time\n",
    "print \"Predicting Time (secs): %.3f\" % elapsed_xgb_predict_time"
   ]
  },
  {
   "cell_type": "markdown",
   "metadata": {},
   "source": [
    "## Dataset 2"
   ]
  },
  {
   "cell_type": "code",
   "execution_count": 63,
   "metadata": {
    "collapsed": false
   },
   "outputs": [
    {
     "data": {
      "text/html": [
       "<div>\n",
       "<style>\n",
       "    .dataframe thead tr:only-child th {\n",
       "        text-align: right;\n",
       "    }\n",
       "\n",
       "    .dataframe thead th {\n",
       "        text-align: left;\n",
       "    }\n",
       "\n",
       "    .dataframe tbody tr th {\n",
       "        vertical-align: top;\n",
       "    }\n",
       "</style>\n",
       "<table border=\"1\" class=\"dataframe\">\n",
       "  <thead>\n",
       "    <tr style=\"text-align: right;\">\n",
       "      <th></th>\n",
       "      <th>0</th>\n",
       "      <th>1</th>\n",
       "      <th>2</th>\n",
       "      <th>3</th>\n",
       "      <th>4</th>\n",
       "      <th>5</th>\n",
       "      <th>6</th>\n",
       "      <th>7</th>\n",
       "      <th>8</th>\n",
       "      <th>9</th>\n",
       "      <th>10</th>\n",
       "      <th>11</th>\n",
       "      <th>12</th>\n",
       "      <th>13</th>\n",
       "      <th>14</th>\n",
       "      <th>15</th>\n",
       "      <th>16</th>\n",
       "      <th>17</th>\n",
       "      <th>18</th>\n",
       "      <th>19</th>\n",
       "    </tr>\n",
       "  </thead>\n",
       "  <tbody>\n",
       "    <tr>\n",
       "      <th>1522</th>\n",
       "      <td>2.300477</td>\n",
       "      <td>0.363770</td>\n",
       "      <td>0.144339</td>\n",
       "      <td>-0.558788</td>\n",
       "      <td>1.707447</td>\n",
       "      <td>-4.474695</td>\n",
       "      <td>1.839600</td>\n",
       "      <td>2.459295</td>\n",
       "      <td>3.828094</td>\n",
       "      <td>1.549987</td>\n",
       "      <td>0.252517</td>\n",
       "      <td>-1.777784</td>\n",
       "      <td>0.873365</td>\n",
       "      <td>-0.883064</td>\n",
       "      <td>0.902041</td>\n",
       "      <td>-0.078877</td>\n",
       "      <td>-2.489599</td>\n",
       "      <td>0.768784</td>\n",
       "      <td>3.327456</td>\n",
       "      <td>0.728037</td>\n",
       "    </tr>\n",
       "    <tr>\n",
       "      <th>835</th>\n",
       "      <td>-0.109199</td>\n",
       "      <td>0.212967</td>\n",
       "      <td>0.549064</td>\n",
       "      <td>-1.241836</td>\n",
       "      <td>1.960115</td>\n",
       "      <td>0.657332</td>\n",
       "      <td>-2.455211</td>\n",
       "      <td>-2.225724</td>\n",
       "      <td>-4.990068</td>\n",
       "      <td>0.050653</td>\n",
       "      <td>-2.349657</td>\n",
       "      <td>1.515976</td>\n",
       "      <td>1.055816</td>\n",
       "      <td>-0.752454</td>\n",
       "      <td>-0.200222</td>\n",
       "      <td>2.208993</td>\n",
       "      <td>2.978494</td>\n",
       "      <td>-0.895843</td>\n",
       "      <td>-4.034914</td>\n",
       "      <td>0.737746</td>\n",
       "    </tr>\n",
       "    <tr>\n",
       "      <th>358</th>\n",
       "      <td>1.369038</td>\n",
       "      <td>0.478174</td>\n",
       "      <td>0.328843</td>\n",
       "      <td>-0.788425</td>\n",
       "      <td>1.909545</td>\n",
       "      <td>-2.544886</td>\n",
       "      <td>-1.894744</td>\n",
       "      <td>1.084245</td>\n",
       "      <td>-1.244259</td>\n",
       "      <td>0.849203</td>\n",
       "      <td>-1.603663</td>\n",
       "      <td>0.508336</td>\n",
       "      <td>1.294782</td>\n",
       "      <td>0.142815</td>\n",
       "      <td>0.103085</td>\n",
       "      <td>1.419244</td>\n",
       "      <td>-2.938557</td>\n",
       "      <td>-0.556318</td>\n",
       "      <td>1.912863</td>\n",
       "      <td>1.791105</td>\n",
       "    </tr>\n",
       "    <tr>\n",
       "      <th>138</th>\n",
       "      <td>-1.021278</td>\n",
       "      <td>-1.482523</td>\n",
       "      <td>-1.084386</td>\n",
       "      <td>1.627551</td>\n",
       "      <td>0.837333</td>\n",
       "      <td>-0.127461</td>\n",
       "      <td>-1.288318</td>\n",
       "      <td>-1.537706</td>\n",
       "      <td>1.955051</td>\n",
       "      <td>2.121180</td>\n",
       "      <td>-0.869797</td>\n",
       "      <td>-2.409449</td>\n",
       "      <td>-0.497299</td>\n",
       "      <td>-0.236416</td>\n",
       "      <td>1.923061</td>\n",
       "      <td>4.109815</td>\n",
       "      <td>-0.789706</td>\n",
       "      <td>-0.850928</td>\n",
       "      <td>-1.740679</td>\n",
       "      <td>-0.376976</td>\n",
       "    </tr>\n",
       "    <tr>\n",
       "      <th>299</th>\n",
       "      <td>1.617604</td>\n",
       "      <td>-1.390829</td>\n",
       "      <td>0.475023</td>\n",
       "      <td>-1.791082</td>\n",
       "      <td>-0.632696</td>\n",
       "      <td>2.367605</td>\n",
       "      <td>1.146786</td>\n",
       "      <td>0.600876</td>\n",
       "      <td>-0.480133</td>\n",
       "      <td>1.930179</td>\n",
       "      <td>-4.115812</td>\n",
       "      <td>1.206437</td>\n",
       "      <td>0.865262</td>\n",
       "      <td>0.652520</td>\n",
       "      <td>-0.017445</td>\n",
       "      <td>-0.558426</td>\n",
       "      <td>2.747832</td>\n",
       "      <td>1.038659</td>\n",
       "      <td>4.870268</td>\n",
       "      <td>-1.560821</td>\n",
       "    </tr>\n",
       "  </tbody>\n",
       "</table>\n",
       "</div>"
      ],
      "text/plain": [
       "            0         1         2         3         4         5         6   \\\n",
       "1522  2.300477  0.363770  0.144339 -0.558788  1.707447 -4.474695  1.839600   \n",
       "835  -0.109199  0.212967  0.549064 -1.241836  1.960115  0.657332 -2.455211   \n",
       "358   1.369038  0.478174  0.328843 -0.788425  1.909545 -2.544886 -1.894744   \n",
       "138  -1.021278 -1.482523 -1.084386  1.627551  0.837333 -0.127461 -1.288318   \n",
       "299   1.617604 -1.390829  0.475023 -1.791082 -0.632696  2.367605  1.146786   \n",
       "\n",
       "            7         8         9         10        11        12        13  \\\n",
       "1522  2.459295  3.828094  1.549987  0.252517 -1.777784  0.873365 -0.883064   \n",
       "835  -2.225724 -4.990068  0.050653 -2.349657  1.515976  1.055816 -0.752454   \n",
       "358   1.084245 -1.244259  0.849203 -1.603663  0.508336  1.294782  0.142815   \n",
       "138  -1.537706  1.955051  2.121180 -0.869797 -2.409449 -0.497299 -0.236416   \n",
       "299   0.600876 -0.480133  1.930179 -4.115812  1.206437  0.865262  0.652520   \n",
       "\n",
       "            14        15        16        17        18        19  \n",
       "1522  0.902041 -0.078877 -2.489599  0.768784  3.327456  0.728037  \n",
       "835  -0.200222  2.208993  2.978494 -0.895843 -4.034914  0.737746  \n",
       "358   0.103085  1.419244 -2.938557 -0.556318  1.912863  1.791105  \n",
       "138   1.923061  4.109815 -0.789706 -0.850928 -1.740679 -0.376976  \n",
       "299  -0.017445 -0.558426  2.747832  1.038659  4.870268 -1.560821  "
      ]
     },
     "execution_count": 63,
     "metadata": {},
     "output_type": "execute_result"
    }
   ],
   "source": [
    "# load data in\n",
    "dataX2 = pd.read_csv(\"X2.csv\")\n",
    "\n",
    "\n",
    "colNames = []\n",
    "for i in range(0,dataX2.shape[1]):\n",
    "    colNames.append(i)\n",
    "    \n",
    "dataX2 = pd.read_csv(\"X2.csv\", names = colNames)\n",
    "targetY2 = pd.read_csv(\"Y2.csv\", names = ['y'])\n",
    "# split features \n",
    "X_train2, X_test2, y_train2, y_test2 = train_test_split(dataX2, targetY2, test_size=0.33, random_state=42)\n",
    "\n",
    "X_train2.head()"
   ]
  },
  {
   "cell_type": "markdown",
   "metadata": {},
   "source": [
    "### Design Choices of Finding Hyperparameters\n",
    "\n",
    "In addition to testing for n_estimators we tested:\n",
    "\n",
    "1) For Random Forest Classifier, the min_samples_leaf was tested in the Grid Search\n",
    "\n",
    "2) For Gradient Boosting Classifier, the learning rate was tested in the Grid Search\n",
    "\n",
    "3) For XGBoost Classifier, the max_depth was tested in the Grid Search\n",
    "\n",
    "We used 5 Fold CV to gain our optimal paramters. Below is the output:\n",
    "    "
   ]
  },
  {
   "cell_type": "code",
   "execution_count": 66,
   "metadata": {
    "collapsed": false
   },
   "outputs": [
    {
     "name": "stdout",
     "output_type": "stream",
     "text": [
      "\n",
      " Grid Score CV Results for Random Forest\n",
      "('Best Estimator', RandomForestClassifier(bootstrap=True, class_weight=None, criterion='gini',\n",
      "            max_depth=None, max_features='auto', max_leaf_nodes=None,\n",
      "            min_impurity_decrease=0.0, min_impurity_split=None,\n",
      "            min_samples_leaf=50, min_samples_split=2,\n",
      "            min_weight_fraction_leaf=0.0, n_estimators=100, n_jobs=1,\n",
      "            oob_score=False, random_state=None, verbose=0,\n",
      "            warm_start=False))\n",
      "('Best Score', 0.87373134328358204)\n",
      "('Best Params', {'n_estimators': 100, 'min_samples_leaf': 50})\n",
      "\n",
      " Grid Score CV Results for Gradient Boost Classifier\n",
      "('Best Estimator', GradientBoostingClassifier(criterion='friedman_mse', init=None,\n",
      "              learning_rate=0.2, loss='deviance', max_depth=3,\n",
      "              max_features=None, max_leaf_nodes=None,\n",
      "              min_impurity_decrease=0.0, min_impurity_split=None,\n",
      "              min_samples_leaf=1, min_samples_split=2,\n",
      "              min_weight_fraction_leaf=0.0, n_estimators=100,\n",
      "              presort='auto', random_state=None, subsample=1.0, verbose=0,\n",
      "              warm_start=False))\n",
      "('Best Score', 0.9173134328358209)\n",
      "('Best Params', {'n_estimators': 100, 'learning_rate': 0.2})\n",
      "\n",
      " Grid Score CV Results for XGBoost Classifier\n",
      "('Best Estimator', XGBClassifier(base_score=0.5, colsample_bylevel=1, colsample_bytree=1,\n",
      "       gamma=0, learning_rate=0.1, max_delta_step=0, max_depth=8,\n",
      "       min_child_weight=1, missing=None, n_estimators=100, nthread=-1,\n",
      "       objective='binary:logistic', reg_alpha=0, reg_lambda=1,\n",
      "       scale_pos_weight=1, seed=0, silent=True, subsample=1))\n",
      "('Best Score', 0.93134328358208951)\n",
      "('Best Params', {'n_estimators': 100, 'max_depth': 8})\n"
     ]
    }
   ],
   "source": [
    "# Grid Search CV to find best hyper parameters\n",
    "\n",
    "RFC = RandomForestClassifier()\n",
    "\n",
    "# Creating Parameters as suggested by: \n",
    "# https://www.analyticsvidhya.com/blog/2015/06/tuning-random-forest-model/\n",
    "\n",
    "params = { 'n_estimators' : [30,60,100], 'min_samples_leaf' : [50, 70, 90] }\n",
    "\n",
    "# Run GridSearch to find best Parmas for Random Forest on 5-fold CV\n",
    "gridCV = GridSearchCV(estimator = RFC, param_grid = params, cv = 5, n_jobs = -1)\n",
    "gridCV.fit(X_train2.values, y_train2.values.ravel())\n",
    "\n",
    "print(\"\\n Grid Score CV Results for Random Forest\")\n",
    "print (\"Best Estimator\", gridCV.best_estimator_)\n",
    "print (\"Best Score\",gridCV.best_score_)\n",
    "print (\"Best Params\", gridCV.best_params_)\n",
    "\n",
    "\n",
    "gbm = GradientBoostingClassifier()\n",
    "\n",
    "# Creating Parameters as suggested by: \n",
    "# https://www.analyticsvidhya.com/blog/2016/02/complete-guide-parameter-tuning-gradient-boosting-gbm-python/\n",
    "\n",
    "params = { 'n_estimators' : [30,60,100], \n",
    "          'learning_rate' : [0.01, 0.1, 0.2] }\n",
    "\n",
    "# Run GridSearch to find best Parmas for Gradient Boosting CLassifier on 5-fold CV\n",
    "gridCV = GridSearchCV(estimator = gbm, param_grid = params, cv = 5, n_jobs = -1)\n",
    "gridCV.fit(X_train2.values, y_train2.values.ravel())\n",
    "\n",
    "print(\"\\n Grid Score CV Results for Gradient Boost Classifier\")\n",
    "print (\"Best Estimator\", gridCV.best_estimator_)\n",
    "print (\"Best Score\",gridCV.best_score_)\n",
    "print (\"Best Params\", gridCV.best_params_)\n",
    "\n",
    "\n",
    "xgb = XGBClassifier()\n",
    "# Creating Parameters as suggested by: \n",
    "# https://www.analyticsvidhya.com/blog/2016/03/complete-guide-parameter-tuning-xgboost-with-codes-python/\n",
    "\n",
    "params = { 'n_estimators' : [30,60,100], \n",
    "          'max_depth' : [4, 6, 8] }\n",
    "\n",
    "# Run GridSearch to find best Parmas for Gradient Boosting CLassifier on 5-fold CV\n",
    "gridCV = GridSearchCV(estimator = xgb, param_grid = params, cv = 5, n_jobs = -1)\n",
    "gridCV.fit(X_train2.values, y_train2.values.ravel())\n",
    "\n",
    "\n",
    "print(\"\\n Grid Score CV Results for XGBoost Classifier\")\n",
    "print (\"Best Estimator\", gridCV.best_estimator_)\n",
    "print (\"Best Score\",gridCV.best_score_)\n",
    "print (\"Best Params\", gridCV.best_params_)"
   ]
  },
  {
   "cell_type": "markdown",
   "metadata": {},
   "source": [
    "### Reporting Mean Error Rate + Confusion Matrix on Test data. "
   ]
  },
  {
   "cell_type": "code",
   "execution_count": 67,
   "metadata": {
    "collapsed": false
   },
   "outputs": [
    {
     "name": "stdout",
     "output_type": "stream",
     "text": [
      "\n",
      "Mean Error Rate for Random Forest Classifier: 0.110909090909\n",
      "\n",
      "Mean Error Rate for Gradient Boosting Classifier: 0.0775757575758\n",
      "\n",
      "Mean Error Rate for XGBoost Classifier: 0.0551515151515\n"
     ]
    },
    {
     "name": "stderr",
     "output_type": "stream",
     "text": [
      "C:\\Users\\Kevin\\Anaconda\\lib\\site-packages\\IPython\\kernel\\__main__.py:9: DataConversionWarning: A column-vector y was passed when a 1d array was expected. Please change the shape of y to (n_samples,), for example using ravel().\n"
     ]
    },
    {
     "data": {
      "image/png": "[encoded data removed]",
      "text/plain": [
       "<matplotlib.figure.Figure at 0x2cdf2dd8>"
      ]
     },
     "metadata": {},
     "output_type": "display_data"
    },
    {
     "data": {
      "image/png": "[encoded data removed]",
      "text/plain": [
       "<matplotlib.figure.Figure at 0x2cf25198>"
      ]
     },
     "metadata": {},
     "output_type": "display_data"
    },
    {
     "data": {
      "image/png": "[encoded data removed]",
      "text/plain": [
       "<matplotlib.figure.Figure at 0x2c630048>"
      ]
     },
     "metadata": {},
     "output_type": "display_data"
    }
   ],
   "source": [
    "rfc = RandomForestClassifier(n_estimators = 100, min_samples_leaf = 50)\n",
    "gbm = GradientBoostingClassifier(n_estimators = 100, learning_rate = 0.2)\n",
    "xgb = XGBClassifier(n_estimators = 100, max_depth = 8)\n",
    "\n",
    "### Random Forest Classifier ###\n",
    "\n",
    "## Train RFC\n",
    "beg_ts = time()\n",
    "rfc.fit(X_train2, y_train2)\n",
    "end_ts = time()\n",
    "elapsed_rfc_train_time = end_ts - beg_ts\n",
    "\n",
    "## Pred RFC\n",
    "beg_ts = time()\n",
    "rfc_preds = rfc.predict(X_test2)\n",
    "end_ts = time()\n",
    "elapsed_rfc_predict_time = end_ts - beg_ts\n",
    "\n",
    "### Gradient Boosting Classifier ###\n",
    "\n",
    "## Train GBM\n",
    "beg_ts = time()\n",
    "gbm.fit(X_train2, y_train2)\n",
    "end_ts = time()\n",
    "elapsed_gbm_train_time = end_ts - beg_ts\n",
    "\n",
    "## Pred GBM\n",
    "beg_ts = time()\n",
    "gbm_preds = gbm.predict(X_test2)\n",
    "end_ts = time()\n",
    "elapsed_gbm_predict_time = end_ts - beg_ts\n",
    "\n",
    "### XGB Classifier ###\n",
    "\n",
    "## Train XGB\n",
    "beg_ts = time()\n",
    "xgb.fit(X_train2, y_train2)\n",
    "end_ts = time()\n",
    "elapsed_xgb_train_time = end_ts - beg_ts\n",
    "\n",
    "## Pred XGB\n",
    "beg_ts = time()\n",
    "xgb_preds = xgb.predict(X_test2)\n",
    "end_ts = time()\n",
    "elapsed_xgb_predict_time = end_ts - beg_ts\n",
    "\n",
    "print \"\\nMean Error Rate for Random Forest Classifier: \" + str(zero_one_loss(y_test2,rfc_preds))\n",
    "print \"\\nMean Error Rate for Gradient Boosting Classifier: \" + str(zero_one_loss(y_test2,gbm_preds))\n",
    "print \"\\nMean Error Rate for XGBoost Classifier: \" + str(zero_one_loss(y_test2,xgb_preds))\n",
    "\n",
    "sns.heatmap(conf_matrix_rfc,annot=True,fmt=\".3f\")\n",
    "plt.xlabel('Predicted')\n",
    "plt.ylabel('True')\n",
    "plt.title(\"Confusion Matrix For Random Forest Classifier\")\n",
    "\n",
    "plt.show()\n",
    "\n",
    "sns.heatmap(conf_matrix_gbm,annot=True,fmt=\".3f\")\n",
    "plt.xlabel('Predicted')\n",
    "plt.ylabel('True')\n",
    "plt.title(\"Confusion Matrix For Gradient Boosting Classifier\")\n",
    "plt.show()\n",
    "\n",
    "sns.heatmap(conf_matrix_xgb,annot=True,fmt=\".3f\")\n",
    "plt.xlabel('Predicted')\n",
    "plt.ylabel('True')\n",
    "plt.title(\"Confusion Matrix For XGBoost Classifier\")\n",
    "plt.show()"
   ]
  },
  {
   "cell_type": "markdown",
   "metadata": {},
   "source": [
    "### Feature importance and Time of execution (training and predicting times)"
   ]
  },
  {
   "cell_type": "code",
   "execution_count": 68,
   "metadata": {
    "collapsed": false
   },
   "outputs": [
    {
     "data": {
      "image/png": "[encoded data removed]",
      "text/plain": [
       "<matplotlib.figure.Figure at 0x25938128>"
      ]
     },
     "metadata": {},
     "output_type": "display_data"
    }
   ],
   "source": [
    "sns.set_style('whitegrid')\n",
    "plt.figure(figsize=(10,12))\n",
    "sns.barplot(x=rfc.feature_importances_, y=X_train2.columns,orient =\"h\")\n",
    "plt.title(\"Feature Importances According to Random Forest Classifier\")\n",
    "plt.show()"
   ]
  },
  {
   "cell_type": "code",
   "execution_count": 70,
   "metadata": {
    "collapsed": false
   },
   "outputs": [
    {
     "data": {
      "image/png": "[encoded data removed]",
      "text/plain": [
       "<matplotlib.figure.Figure at 0x170a25f8>"
      ]
     },
     "metadata": {},
     "output_type": "display_data"
    }
   ],
   "source": [
    "\n",
    "sns.set_style('whitegrid')\n",
    "plt.figure(figsize=(10,12))\n",
    "sns.barplot(x=gbm.feature_importances_,y=X_train2.columns, orient = 'h')\n",
    "plt.title(\"Feature Importances According to Gradient Boosting Classifier\")\n",
    "plt.show()\n",
    "\n"
   ]
  },
  {
   "cell_type": "code",
   "execution_count": 71,
   "metadata": {
    "collapsed": false
   },
   "outputs": [
    {
     "data": {
      "image/png": "[encoded data removed]",
      "text/plain": [
       "<matplotlib.figure.Figure at 0x28bfdef0>"
      ]
     },
     "metadata": {},
     "output_type": "display_data"
    }
   ],
   "source": [
    "sns.set_style('whitegrid')\n",
    "plt.figure(figsize=(10,12))\n",
    "sns.barplot(x=xgb.feature_importances_,y=X_train2.columns, orient = 'h')\n",
    "plt.title(\"Feature Importances According to XGBoost Classifier\")\n",
    "plt.show()"
   ]
  },
  {
   "cell_type": "code",
   "execution_count": 72,
   "metadata": {
    "collapsed": false
   },
   "outputs": [
    {
     "name": "stdout",
     "output_type": "stream",
     "text": [
      "\n",
      "Random Forest Times: \n",
      "Training Time (secs): 1.295\n",
      "Predicting Time (secs): 0.077\n",
      "\n",
      "Gradient Boosting Times: \n",
      "Training Time (secs): 2.364\n",
      "Predicting Time (secs): 0.011\n",
      "\n",
      "XGBoosting Times: \n",
      "Training Time (secs): 1.812\n",
      "Predicting Time (secs): 0.012\n"
     ]
    }
   ],
   "source": [
    "print \"\\nRandom Forest Times: \"\n",
    "print \"Training Time (secs): %.3f\" % elapsed_rfc_train_time \n",
    "print \"Predicting Time (secs): %.3f\" % elapsed_rfc_predict_time\n",
    "\n",
    "print \"\\nGradient Boosting Times: \"\n",
    "print \"Training Time (secs): %.3f\" % elapsed_gbm_train_time\n",
    "print \"Predicting Time (secs): %.3f\" % elapsed_gbm_predict_time\n",
    "\n",
    "\n",
    "print \"\\nXGBoosting Times: \"\n",
    "print \"Training Time (secs): %.3f\" % elapsed_xgb_train_time\n",
    "print \"Predicting Time (secs): %.3f\" % elapsed_xgb_predict_time"
   ]
  },
  {
   "cell_type": "markdown",
   "metadata": {},
   "source": [
    "### Comparing the Classifiers for the 2 datasets:"
   ]
  },
  {
   "cell_type": "markdown",
   "metadata": {},
   "source": [
    "For both Dataset 1 and Dataset 2:\n",
    "The following classifiers performed as follows:\n",
    "\n",
    "\n",
    "* Dataset 1 Mean Error Rate\n",
    "    * RandomForest: 0.14\n",
    "    * GradientBoost: 0.11\n",
    "    * XGBoost: 0.07\n",
    "    \n",
    "* Dataset 2 Mean Error Rate\n",
    "    * RandomForest: 0.11\n",
    "    * GradientBoost: 0.07\n",
    "    * XGBoost: 0.05\n",
    "    \n",
    "XGBoost had the lowest mean error rate while random forest had the highest.\n",
    "\n",
    "Dataset 2 had a lower mean error rate than Dataset 1 becuase the features in Dataset 2 had similiar F1 score importance (according the feature importance charts above).\n",
    "\n",
    "Only having one feature with importance while having other features with little importance performs poorly on a tree-based models. Thus the tree based models did not perform as well on Dataset 1"
   ]
  },
  {
   "cell_type": "markdown",
   "metadata": {},
   "source": [
    "# Question 2: Visualization using Bokeh (10 pts)\n",
    "\n",
    "In this problem, you'll build an interactive visualization. Bokeh is a Python interactive visualization library that targets modern web browsers for presentation. For more information on Bokeh, see http://bokeh.pydata.org/en/latest/. The problem statement is as follows:\n",
    "\n",
    "Using the \"nbasalariesfull.csv\" data set from HMK4, your goal is to build a Bokeh visualization which allows the user to explore how salary (on a log scale) varies with points per game (PSG) and age. You will create a visualization that allows the user to toggle the X axis of a scatter plot between PSG and age, with the y-axis always being log Salary. Also add the hover tool so that if the user hovers over a datapoint in the plot a window pops up that shows the player name, team, position, salary, and the current x variable (PSG or age) depending on the current tab.  Color each point according to a player's position and provide a legend for the colors. Add the ability to Zoom in/out.  Add slight horizontal jitter to a player's age.\n",
    "\n",
    "Hints: \n",
    "1. see: http://bokeh.pydata.org/en/latest/docs/user_guide/tools.html#basic-tooltips for hover and zoom tool examples.\n",
    "2. See: http://bokeh.pydata.org/en/latest/docs/reference/plotting.html. Look for the scatter API.\n",
    "3. See: http://bokeh.pydata.org/en/0.10.0/docs/user_guide/styling.html#labels. For labeling axes.\n",
    "4. See: https://bokeh.pydata.org/en/latest/docs/user_guide/categorical.html  for how to use jitter transform\n",
    "5. Use output_notebook() from Bokeh to output the plot to your notebook"
   ]
  },
  {
   "cell_type": "code",
   "execution_count": 8,
   "metadata": {
    "collapsed": false
   },
   "outputs": [],
   "source": [
    "import warnings\n",
    "warnings.filterwarnings('ignore')\n",
    "\n",
    "import pandas as pd\n",
    "import numpy as np\n",
    "from bokeh.models.widgets import Panel, Tabs\n",
    "from bokeh.models import CustomJS, ColumnDataSource, HoverTool, BoxZoomTool, ResetTool\n",
    "from bokeh.transform import jitter\n",
    "from bokeh.transform import factor_cmap\n",
    "from bokeh.palettes import inferno\n",
    "from bokeh.plotting import figure, output_notebook, show\n",
    "\n",
    "data = pd.read_csv(\"nbasalariesfull.csv\")\n",
    "data[\"logsalary\"] = data.SALARY.apply(np.log)"
   ]
  },
  {
   "cell_type": "code",
   "execution_count": 9,
   "metadata": {
    "collapsed": true
   },
   "outputs": [],
   "source": []
  },
  {
   "cell_type": "code",
   "execution_count": 10,
   "metadata": {
    "collapsed": false
   },
   "outputs": [],
   "source": []
  },
  {
   "cell_type": "markdown",
   "metadata": {},
   "source": [
    "# Question 3: Clustering (15 pts)\n",
    "## Part a\n",
    "\n",
    "This problem explores scaling, clustering, and one method of evaluating the quality of a clustering. You will also examine some of the issues in k-means clustering, and some ways to mitigate these problems. You will be using Fisher's Iris dataset available in sklearn.\n",
    "\n",
    "We wish to cluster the dataset to find any similar groups of flowers. However, we are not certain that the scales of the various features are well-suited for clustering. We will use scipy's k-means clustering package for this problem.\n",
    "\n",
    "When calculating the cluster purity, use the following equations:\n",
    "\n",
    "$ClassPurity(C_i$) = $\\frac{1}{|C_i|}\\max_j(|C_i|_{class=j})$\n",
    "\n",
    "$NetPurity$ = $\\sum_{i=1}^k\\frac{|C_i|}{|D|}purity(C_i)$\n",
    "\n",
    "where $|C_i|$ is the total number of data points assigned to cluster $C_i$, $|C_i|_{class=j}$ is the number of data points from class $j$ assigned to cluster $C_i$ and $D$ refers to the whole dataset.\n",
    "\n",
    "1. Cluster the data into 4 clusters, using K-means and calculate the NetPurity for your solution.\n",
    "2. Now linearly scale each feature so that the values range from 0 to 1. Cluster the data using the k-means algorithm (as before), and calculate the cluster purity for the clustering. Report the calculations you used to scale the features, as well as the NetPurity.\n",
    "3. Linearly scale the original dataset features so that the distribution of values for each feature has a mean of 0 and a standard deviation of 1. Cluster the data as before, and report the NetPurity obtained.\n",
    "\n"
   ]
  },
  {
   "cell_type": "code",
   "execution_count": 3,
   "metadata": {
    "collapsed": true
   },
   "outputs": [],
   "source": [
    "import numpy as np\n",
    "from sklearn.cluster import KMeans\n",
    "from sklearn import datasets"
   ]
  },
  {
   "cell_type": "markdown",
   "metadata": {},
   "source": [
    "## Part b\n",
    "\n",
    "Run both single link and complete link hierarchical clustering algorithms on the iris dataset, and submit the two dendograms. \n",
    "\n",
    "1. For each dendogram, visually inspect it to suggest what value(s) of $k$ (between 1 and 6) seem reasonable to choose for this dataset. \n",
    "2. Do you observe any difference in the structure of the 2 dendograms? How do you explain this difference?"
   ]
  },
  {
   "cell_type": "code",
   "execution_count": 4,
   "metadata": {
    "collapsed": true
   },
   "outputs": [],
   "source": [
    "% matplotlib inline\n",
    "from matplotlib import pyplot as plt\n",
    "import numpy as np\n",
    "from scipy.cluster.hierarchy import dendrogram, linkage\n",
    "from sklearn import datasets"
   ]
  },
  {
   "cell_type": "markdown",
   "metadata": {},
   "source": [
    "## Part c\n",
    "\n",
    "1. What is the cost function minimised in the k-means clustering algorithm?\n",
    "2. Explain how this can be generalized to be of the form $J = \\sum_{i=1}^k n_i s_i$, where $s_i$ is the average squared (Euclidean) distance between pairs of points in cluster $i$ (every point is compared with every point - including itself - in the same cluster, so we have $n_i^2$ comparisions that are averaged over to get $s_i$), \n",
    "and $n_i$ is the total number of points in cluster $i$.\n",
    "3. What would the benefit of such a generalized expression be?"
   ]
  },
  {
   "cell_type": "markdown",
   "metadata": {},
   "source": [
    "1. Standard Expression, $J = \\sum_{i=1}^k \\sum_{x \\in S_i} ||x-\\mu_i||^2$, where \\mu_i is the mean of the points in S_i\n",
    "2. Generalized expression, \n",
    "    $J = \\sum_{i=1}^k n_i * (||x-\\mu_i||^2 /n_i)$ where n_i is the number of samples in each cluster\n",
    "    \n",
    "    $J = \\sum_{i=1}^k n_i * s_i $ where s_i is the variance within each cluster\n",
    "\n",
    "3. Benefit: $s_i$ can now be replaced with any similarity metric based on the clustering problem requirements"
   ]
  }
 ],
 "metadata": {
  "anaconda-cloud": {},
  "kernelspec": {
   "display_name": "Python 2",
   "language": "python",
   "name": "python2"
  },
  "language_info": {
   "codemirror_mode": {
    "name": "ipython",
    "version": 2
   },
   "file_extension": ".py",
   "mimetype": "text/x-python",
   "name": "python",
   "nbconvert_exporter": "python",
   "pygments_lexer": "ipython2",
   "version": "2.7.13"
  }
 },
 "nbformat": 4,
 "nbformat_minor": 1
}
