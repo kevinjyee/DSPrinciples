{
 "cells": [
  {
   "cell_type": "markdown",
   "metadata": {},
   "source": [
    "\n",
    "# <p style=\"text-align: center;\">EE 461P: Data Science Principles</p>\n",
    "# <p style=\"text-align: center;\">Assignment 5</p>\n",
    "## <p style=\"text-align: center;\">Total points: 40</p>\n",
    "## <p style=\"text-align: center;\">Due: Thursday, November 30th, submitted via Canvas by 11:59 pm</p>\n",
    "### <p style=\"text-align: center;\">Jayaj Poudel and Kevin Yee</p>\n",
    "### <p style=\"text-align: center;\">Jp49672 and kjy252</p>\n",
    "Your homework should be written in a **Jupyter notebook**. You may work in groups of two if you wish. Only one student per team needs to submit the assignment on Canvas.  But be sure to include name and UTID for both students.  Homework groups will be created and managed through Canvas, so please do not arbitrarily change your homework group.  \n",
    "\n",
    "Also, please make sure your code runs and the graphics (and anything else) are displayed in your notebook before submitting. (%matplotlib inline)"
   ]
  },
  {
   "cell_type": "markdown",
   "metadata": {},
   "source": [
    "# Question 1: Ensembles (1+12+2 = 15pts)\n",
    "In this question, we will compare performance of different ensemble methods: [Random Forest](http://scikit-learn.org/stable/modules/generated/sklearn.ensemble.RandomForestClassifier.html), [Gradient Boosting Decision Tree](http://scikit-learn.org/stable/modules/generated/sklearn.ensemble.GradientBoostingClassifier.html) (GBDT), and [XGBoost](http://xgboost.readthedocs.io/en/latest/).  Note that you have to install xgboost package in addition to scikit-learn.  You can see installation guides [here](http://xgboost.readthedocs.io/en/latest/build.html).\n",
    "\n",
    "\n",
    "\n",
    "\n",
    "Two  datasets are provided for this problem. For **each of the datasets ((X1.csv, y1.csv), (X2.csv, y2.csv))**, do the following:\n",
    "\n",
    "1. Load the data and partition it into features (X) and the target label (y) for classification task. Then, use [train_test_split](http://scikit-learn.org/stable/modules/generated/sklearn.model_selection.train_test_split.html) to split data into training and testing: test_size=0.33, random_state=42.\n",
    "\n",
    "2. Build a classifier using [Random Forest](http://scikit-learn.org/stable/modules/generated/sklearn.ensemble.RandomForestClassifier.html), [Gradient Boosting Decision Tree](http://scikit-learn.org/stable/modules/generated/sklearn.ensemble.GradientBoostingClassifier.html), and [XGBoost](http://xgboost.readthedocs.io/en/latest/), respectively, and answer the following for each classifier.\n",
    "\n",
    " - Mention any design choices (with reasoning/justification) that you made, e.g. the hyperparameters considered for each classifier.\n",
    " - Report the mean error rate (fraction of incorrect labels) and the confusion matrix on test data. <br>\n",
    " - Report the feature importance and time of execution (training and predicting times).\n",
    "\n",
    "3. Compare the three classifiers for the two different datasets ((X1.csv, y1.csv), (X2.csv, y2.csv)) in terms of the misclassification rate.  What are the characteristics of the dataset and the classifiers that resulted in somewhat different comparative results?"
   ]
  },
  {
   "cell_type": "code",
   "execution_count": 25,
   "metadata": {
    "collapsed": false
   },
   "outputs": [],
   "source": [
    "import numpy as np\n",
    "import pandas as pd\n",
    "import timeit\n",
    "import seaborn as sns\n",
    "from sklearn.ensemble import RandomForestClassifier\n",
    "from sklearn.metrics import confusion_matrix\n",
    "from sklearn.ensemble import GradientBoostingClassifier\n",
    "from sklearn.model_selection import GridSearchCV\n",
    "from sklearn.metrics import zero_one_loss\n",
    "from xgboost.sklearn import XGBClassifier\n",
    "from time import time\n",
    "import matplotlib.pyplot as plt\n",
    "from sklearn.model_selection import train_test_split\n",
    "%matplotlib inline"
   ]
  },
  {
   "cell_type": "markdown",
   "metadata": {},
   "source": [
    "## Dataset 1"
   ]
  },
  {
   "cell_type": "markdown",
   "metadata": {},
   "source": [
    "### Load data in"
   ]
  },
  {
   "cell_type": "code",
   "execution_count": 34,
   "metadata": {
    "collapsed": false
   },
   "outputs": [
    {
     "data": {
      "text/html": [
       "<div>\n",
       "<style>\n",
       "    .dataframe thead tr:only-child th {\n",
       "        text-align: right;\n",
       "    }\n",
       "\n",
       "    .dataframe thead th {\n",
       "        text-align: left;\n",
       "    }\n",
       "\n",
       "    .dataframe tbody tr th {\n",
       "        vertical-align: top;\n",
       "    }\n",
       "</style>\n",
       "<table border=\"1\" class=\"dataframe\">\n",
       "  <thead>\n",
       "    <tr style=\"text-align: right;\">\n",
       "      <th></th>\n",
       "      <th>0</th>\n",
       "      <th>1</th>\n",
       "      <th>2</th>\n",
       "      <th>3</th>\n",
       "      <th>4</th>\n",
       "      <th>5</th>\n",
       "      <th>6</th>\n",
       "      <th>7</th>\n",
       "      <th>8</th>\n",
       "      <th>9</th>\n",
       "      <th>...</th>\n",
       "      <th>20</th>\n",
       "      <th>21</th>\n",
       "      <th>22</th>\n",
       "      <th>23</th>\n",
       "      <th>24</th>\n",
       "      <th>25</th>\n",
       "      <th>26</th>\n",
       "      <th>27</th>\n",
       "      <th>28</th>\n",
       "      <th>29</th>\n",
       "    </tr>\n",
       "  </thead>\n",
       "  <tbody>\n",
       "    <tr>\n",
       "      <th>8371</th>\n",
       "      <td>-1.649719</td>\n",
       "      <td>1.176245</td>\n",
       "      <td>-2.039881</td>\n",
       "      <td>-0.478870</td>\n",
       "      <td>-0.070298</td>\n",
       "      <td>-0.762115</td>\n",
       "      <td>-0.795423</td>\n",
       "      <td>-2.306197</td>\n",
       "      <td>-1.982519</td>\n",
       "      <td>0.032758</td>\n",
       "      <td>...</td>\n",
       "      <td>-1.511817</td>\n",
       "      <td>-0.298953</td>\n",
       "      <td>0.150190</td>\n",
       "      <td>0.097169</td>\n",
       "      <td>0.107654</td>\n",
       "      <td>-2.494602</td>\n",
       "      <td>0.015803</td>\n",
       "      <td>2.469424</td>\n",
       "      <td>0.290024</td>\n",
       "      <td>0.585001</td>\n",
       "    </tr>\n",
       "    <tr>\n",
       "      <th>5027</th>\n",
       "      <td>-2.800194</td>\n",
       "      <td>0.683859</td>\n",
       "      <td>-0.177587</td>\n",
       "      <td>-0.496900</td>\n",
       "      <td>1.200335</td>\n",
       "      <td>-1.024381</td>\n",
       "      <td>0.871439</td>\n",
       "      <td>-1.783368</td>\n",
       "      <td>0.149218</td>\n",
       "      <td>-0.487374</td>\n",
       "      <td>...</td>\n",
       "      <td>-0.526128</td>\n",
       "      <td>0.093952</td>\n",
       "      <td>-3.155403</td>\n",
       "      <td>0.537268</td>\n",
       "      <td>-0.449454</td>\n",
       "      <td>-0.834588</td>\n",
       "      <td>0.138224</td>\n",
       "      <td>1.262711</td>\n",
       "      <td>-0.939828</td>\n",
       "      <td>0.036371</td>\n",
       "    </tr>\n",
       "    <tr>\n",
       "      <th>9234</th>\n",
       "      <td>-1.930278</td>\n",
       "      <td>-1.485537</td>\n",
       "      <td>1.326368</td>\n",
       "      <td>-1.032879</td>\n",
       "      <td>1.113461</td>\n",
       "      <td>0.752487</td>\n",
       "      <td>-0.511190</td>\n",
       "      <td>1.756748</td>\n",
       "      <td>1.241512</td>\n",
       "      <td>-1.043416</td>\n",
       "      <td>...</td>\n",
       "      <td>-1.481338</td>\n",
       "      <td>0.104191</td>\n",
       "      <td>0.126290</td>\n",
       "      <td>-0.923395</td>\n",
       "      <td>-0.813220</td>\n",
       "      <td>0.507418</td>\n",
       "      <td>0.299762</td>\n",
       "      <td>0.837458</td>\n",
       "      <td>0.360729</td>\n",
       "      <td>0.637715</td>\n",
       "    </tr>\n",
       "    <tr>\n",
       "      <th>3944</th>\n",
       "      <td>-0.890298</td>\n",
       "      <td>2.057592</td>\n",
       "      <td>0.294119</td>\n",
       "      <td>-0.041669</td>\n",
       "      <td>-0.279400</td>\n",
       "      <td>-0.939085</td>\n",
       "      <td>-1.869124</td>\n",
       "      <td>-1.165352</td>\n",
       "      <td>-0.711337</td>\n",
       "      <td>1.593815</td>\n",
       "      <td>...</td>\n",
       "      <td>0.228440</td>\n",
       "      <td>-1.205651</td>\n",
       "      <td>-2.591204</td>\n",
       "      <td>-0.035392</td>\n",
       "      <td>-1.299204</td>\n",
       "      <td>0.666743</td>\n",
       "      <td>0.342322</td>\n",
       "      <td>0.455440</td>\n",
       "      <td>-0.868818</td>\n",
       "      <td>0.698854</td>\n",
       "    </tr>\n",
       "    <tr>\n",
       "      <th>6862</th>\n",
       "      <td>-2.341212</td>\n",
       "      <td>-0.861124</td>\n",
       "      <td>-0.166122</td>\n",
       "      <td>0.596955</td>\n",
       "      <td>-0.397331</td>\n",
       "      <td>-1.196161</td>\n",
       "      <td>-0.629864</td>\n",
       "      <td>-1.321675</td>\n",
       "      <td>-1.417548</td>\n",
       "      <td>-0.463296</td>\n",
       "      <td>...</td>\n",
       "      <td>2.542832</td>\n",
       "      <td>1.825602</td>\n",
       "      <td>-0.802293</td>\n",
       "      <td>1.169343</td>\n",
       "      <td>1.460272</td>\n",
       "      <td>-0.616649</td>\n",
       "      <td>0.219613</td>\n",
       "      <td>-0.332764</td>\n",
       "      <td>0.748059</td>\n",
       "      <td>-0.974091</td>\n",
       "    </tr>\n",
       "  </tbody>\n",
       "</table>\n",
       "<p>5 rows × 30 columns</p>\n",
       "</div>"
      ],
      "text/plain": [
       "            0         1         2         3         4         5         6   \\\n",
       "8371 -1.649719  1.176245 -2.039881 -0.478870 -0.070298 -0.762115 -0.795423   \n",
       "5027 -2.800194  0.683859 -0.177587 -0.496900  1.200335 -1.024381  0.871439   \n",
       "9234 -1.930278 -1.485537  1.326368 -1.032879  1.113461  0.752487 -0.511190   \n",
       "3944 -0.890298  2.057592  0.294119 -0.041669 -0.279400 -0.939085 -1.869124   \n",
       "6862 -2.341212 -0.861124 -0.166122  0.596955 -0.397331 -1.196161 -0.629864   \n",
       "\n",
       "            7         8         9     ...           20        21        22  \\\n",
       "8371 -2.306197 -1.982519  0.032758    ...    -1.511817 -0.298953  0.150190   \n",
       "5027 -1.783368  0.149218 -0.487374    ...    -0.526128  0.093952 -3.155403   \n",
       "9234  1.756748  1.241512 -1.043416    ...    -1.481338  0.104191  0.126290   \n",
       "3944 -1.165352 -0.711337  1.593815    ...     0.228440 -1.205651 -2.591204   \n",
       "6862 -1.321675 -1.417548 -0.463296    ...     2.542832  1.825602 -0.802293   \n",
       "\n",
       "            23        24        25        26        27        28        29  \n",
       "8371  0.097169  0.107654 -2.494602  0.015803  2.469424  0.290024  0.585001  \n",
       "5027  0.537268 -0.449454 -0.834588  0.138224  1.262711 -0.939828  0.036371  \n",
       "9234 -0.923395 -0.813220  0.507418  0.299762  0.837458  0.360729  0.637715  \n",
       "3944 -0.035392 -1.299204  0.666743  0.342322  0.455440 -0.868818  0.698854  \n",
       "6862  1.169343  1.460272 -0.616649  0.219613 -0.332764  0.748059 -0.974091  \n",
       "\n",
       "[5 rows x 30 columns]"
      ]
     },
     "execution_count": 34,
     "metadata": {},
     "output_type": "execute_result"
    }
   ],
   "source": [
    "# load data in\n",
    "dataX1 = pd.read_csv(\"X1.csv\")\n",
    "\n",
    "\n",
    "colNames = []\n",
    "for i in range(0,dataX1.shape[1]):\n",
    "    colNames.append(i)\n",
    "    \n",
    "dataX1 = pd.read_csv(\"X1.csv\", names = colNames)\n",
    "targetY1 = pd.read_csv(\"Y1.csv\", names = ['y'])\n",
    "# split features \n",
    "X_train1, X_test1, y_train1,y_test1 = train_test_split(dataX1, targetY1, test_size=0.33, random_state=42)\n",
    "\n",
    "X_train1.head()"
   ]
  },
  {
   "cell_type": "markdown",
   "metadata": {},
   "source": [
    "### Design Choices of Finding Hyperparameters"
   ]
  },
  {
   "cell_type": "markdown",
   "metadata": {},
   "source": [
    "Hyperparamters were chosen using GridSearchCV using initial values suggested by https://www.analyticsvidhya.com.\n",
    "As advised, the main parameter tested was 'n_estimators'. However, we kept this number low for the sake of time complexity.\n",
    "\n",
    "In addition to testing for n_estimators we tested:\n",
    "\n",
    "1) For Random Forest Classifier, the min_samples_leaf was tested in the Grid Search\n",
    "2) For Gradient Boosting Classifier, the learning rate was tested in the Grid Search\n",
    "3) For XGBoost Classifier, the max_depth was tested in the Grid Search\n",
    "\n",
    "We used 5 Fold CV to gain our optimal paramters. Below is the output:"
   ]
  },
  {
   "cell_type": "code",
   "execution_count": 14,
   "metadata": {
    "collapsed": false
   },
   "outputs": [
    {
     "name": "stdout",
     "output_type": "stream",
     "text": [
      "('Best Estimator', RandomForestClassifier(bootstrap=True, class_weight=None, criterion='gini',\n",
      "            max_depth=None, max_features='auto', max_leaf_nodes=None,\n",
      "            min_impurity_decrease=0.0, min_impurity_split=None,\n",
      "            min_samples_leaf=50, min_samples_split=2,\n",
      "            min_weight_fraction_leaf=0.0, n_estimators=100, n_jobs=1,\n",
      "            oob_score=False, random_state=None, verbose=0,\n",
      "            warm_start=False))\n",
      "('Best Score', 0.85057471264367812)\n",
      "('Best Params', {'n_estimators': 100, 'min_samples_leaf': 50})\n"
     ]
    }
   ],
   "source": [
    "# Grid Search CV to find best hyper parameters\n",
    "\n",
    "RFC = RandomForestClassifier()\n",
    "\n",
    "# Creating Parameters as suggested by: \n",
    "# https://www.analyticsvidhya.com/blog/2015/06/tuning-random-forest-model/\n",
    "\n",
    "params = { 'n_estimators' : [30,60,100], 'min_samples_leaf' : [50, 70, 90] }\n",
    "\n",
    "# Run GridSearch to find best Parmas for Random Forest on 5-fold CV\n",
    "gridCV = GridSearchCV(estimator = RFC, param_grid = params, cv = 5, n_jobs = -1)\n",
    "gridCV.fit(X_train1.values, y_train1.values.ravel())\n",
    "\n",
    "print(\"\\n Grid Score CV Results for Random Forest\")\n",
    "print (\"Best Estimator\", gridCV.best_estimator_)\n",
    "print (\"Best Score\",gridCV.best_score_)\n",
    "print (\"Best Params\", gridCV.best_params_)"
   ]
  },
  {
   "cell_type": "code",
   "execution_count": 17,
   "metadata": {
    "collapsed": false
   },
   "outputs": [
    {
     "name": "stdout",
     "output_type": "stream",
     "text": [
      "\n",
      " Grid Score CV Results for Gradient Boost Classifier\n",
      "('Best Estimator', GradientBoostingClassifier(criterion='friedman_mse', init=None,\n",
      "              learning_rate=0.2, loss='deviance', max_depth=3,\n",
      "              max_features=None, max_leaf_nodes=None,\n",
      "              min_impurity_decrease=0.0, min_impurity_split=None,\n",
      "              min_samples_leaf=1, min_samples_split=2,\n",
      "              min_weight_fraction_leaf=0.0, n_estimators=100,\n",
      "              presort='auto', random_state=None, subsample=1.0, verbose=0,\n",
      "              warm_start=False))\n",
      "('Best Score', 0.88804299149126731)\n",
      "('Best Params', {'n_estimators': 100, 'learning_rate': 0.2})\n"
     ]
    }
   ],
   "source": [
    "gbm = GradientBoostingClassifier()\n",
    "\n",
    "# Creating Parameters as suggested by: \n",
    "# https://www.analyticsvidhya.com/blog/2016/02/complete-guide-parameter-tuning-gradient-boosting-gbm-python/\n",
    "\n",
    "params = { 'n_estimators' : [30,60,100], \n",
    "          'learning_rate' : [0.01, 0.1, 0.2] }\n",
    "\n",
    "# Run GridSearch to find best Parmas for Gradient Boosting CLassifier on 5-fold CV\n",
    "gridCV = GridSearchCV(estimator = gbm, param_grid = params, cv = 5, n_jobs = -1)\n",
    "gridCV.fit(X_train1.values, y_train1.values.ravel())\n",
    "\n",
    "print(\"\\n Grid Score CV Results for Gradient Boost Classifier\")\n",
    "print (\"Best Estimator\", gridCV.best_estimator_)\n",
    "print (\"Best Score\",gridCV.best_score_)\n",
    "print (\"Best Params\", gridCV.best_params_)"
   ]
  },
  {
   "cell_type": "code",
   "execution_count": 18,
   "metadata": {
    "collapsed": false
   },
   "outputs": [
    {
     "name": "stdout",
     "output_type": "stream",
     "text": [
      "\n",
      " Grid Score CV Results for XGBoost Classifier\n",
      "('Best Estimator', XGBClassifier(base_score=0.5, colsample_bylevel=1, colsample_bytree=1,\n",
      "       gamma=0, learning_rate=0.1, max_delta_step=0, max_depth=8,\n",
      "       min_child_weight=1, missing=None, n_estimators=100, nthread=-1,\n",
      "       objective='binary:logistic', reg_alpha=0, reg_lambda=1,\n",
      "       scale_pos_weight=1, seed=0, silent=True, subsample=1))\n",
      "('Best Score', 0.92148081803254211)\n",
      "('Best Params', {'n_estimators': 100, 'max_depth': 8})\n"
     ]
    }
   ],
   "source": [
    "xgb = XGBClassifier()\n",
    "\n",
    "# Creating Parameters as suggested by: \n",
    "# https://www.analyticsvidhya.com/blog/2016/03/complete-guide-parameter-tuning-xgboost-with-codes-python/\n",
    "\n",
    "params = { 'n_estimators' : [30,60,100], \n",
    "          'max_depth' : [4, 6, 8] }\n",
    "\n",
    "# Run GridSearch to find best Parmas for Gradient Boosting CLassifier on 5-fold CV\n",
    "gridCV = GridSearchCV(estimator = xgb, param_grid = params, cv = 5, n_jobs = -1)\n",
    "gridCV.fit(X_train1.values, y_train1.values.ravel())\n",
    "\n",
    "print(\"\\n Grid Score CV Results for XGBoost Classifier\")\n",
    "print (\"Best Estimator\", gridCV.best_estimator_)\n",
    "print (\"Best Score\",gridCV.best_score_)\n",
    "print (\"Best Params\", gridCV.best_params_)"
   ]
  },
  {
   "cell_type": "markdown",
   "metadata": {},
   "source": [
    "### Reporting Mean Error Rate + Confusion Matrix on Test data. "
   ]
  },
  {
   "cell_type": "code",
   "execution_count": 48,
   "metadata": {
    "collapsed": false
   },
   "outputs": [
    {
     "name": "stdout",
     "output_type": "stream",
     "text": [
      "\n",
      "Mean Error Rate for Random Forest Classifier: 0.146060606061\n",
      "\n",
      "Mean Error Rate for Gradient Boosting Classifier: 0.113333333333\n",
      "\n",
      "Mean Error Rate for XGBoost Classifier: 0.0766666666667\n"
     ]
    },
    {
     "name": "stderr",
     "output_type": "stream",
     "text": [
      "C:\\Users\\Kevin\\Anaconda\\lib\\site-packages\\IPython\\kernel\\__main__.py:9: DataConversionWarning: A column-vector y was passed when a 1d array was expected. Please change the shape of y to (n_samples,), for example using ravel().\n"
     ]
    },
    {
     "data": {
      "image/png": "[encoded data removed]",
      "text/plain": [
       "<matplotlib.figure.Figure at 0x12abb2b0>"
      ]
     },
     "metadata": {},
     "output_type": "display_data"
    },
    {
     "data": {
      "image/png": "[encoded data removed]",
      "text/plain": [
       "<matplotlib.figure.Figure at 0x2aa41470>"
      ]
     },
     "metadata": {},
     "output_type": "display_data"
    },
    {
     "data": {
      "image/png": "[encoded data removed]",
      "text/plain": [
       "<matplotlib.figure.Figure at 0x2ae75358>"
      ]
     },
     "metadata": {},
     "output_type": "display_data"
    }
   ],
   "source": [
    "rfc = RandomForestClassifier(n_estimators = 100, min_samples_leaf = 50)\n",
    "gbm = GradientBoostingClassifier(n_estimators = 100, learning_rate = 0.2)\n",
    "xgb = XGBClassifier(n_estimators = 100, max_depth = 8)\n",
    "\n",
    "### Random Forest Classifier ###\n",
    "\n",
    "## Train RFC\n",
    "beg_ts = time()\n",
    "rfc.fit(X_train1, y_train1)\n",
    "end_ts = time()\n",
    "elapsed_rfc_train_time = end_ts - beg_ts\n",
    "\n",
    "## Pred RFC\n",
    "beg_ts = time()\n",
    "rfc_preds = rfc.predict(X_test1)\n",
    "end_ts = time()\n",
    "elapsed_rfc_predict_time = end_ts - beg_ts\n",
    "\n",
    "### Gradient Boosting Classifier ###\n",
    "\n",
    "## Train GBM\n",
    "beg_ts = time()\n",
    "gbm.fit(X_train1, y_train1)\n",
    "end_ts = time()\n",
    "elapsed_gbm_train_time = end_ts - beg_ts\n",
    "\n",
    "## Pred GBM\n",
    "beg_ts = time()\n",
    "gbm_preds = gbm.predict(X_test1)\n",
    "end_ts = time()\n",
    "elapsed_gbm_predict_time = end_ts - beg_ts\n",
    "\n",
    "### XGB Classifier ###\n",
    "\n",
    "## Train XGB\n",
    "beg_ts = time()\n",
    "xgb.fit(X_train1, y_train1)\n",
    "end_ts = time()\n",
    "elapsed_xgb_train_time = end_ts - beg_ts\n",
    "\n",
    "## Pred XGB\n",
    "beg_ts = time()\n",
    "xgb_preds = xgb.predict(X_test1)\n",
    "end_ts = time()\n",
    "elapsed_xgb_predict_time = end_ts - beg_ts\n",
    "\n",
    "print \"\\nMean Error Rate for Random Forest Classifier: \" + str(zero_one_loss(y_test1,rfc_preds))\n",
    "print \"\\nMean Error Rate for Gradient Boosting Classifier: \" + str(zero_one_loss(y_test1,gbm_preds))\n",
    "print \"\\nMean Error Rate for XGBoost Classifier: \" + str(zero_one_loss(y_test1,xgb_preds))\n",
    "\n",
    "sns.heatmap(conf_matrix_rfc,annot=True,fmt=\".3f\")\n",
    "plt.xlabel('Predicted')\n",
    "plt.ylabel('True')\n",
    "plt.title(\"Confusion Matrix For Random Forest Classifier\")\n",
    "\n",
    "plt.show()\n",
    "\n",
    "sns.heatmap(conf_matrix_gbm,annot=True,fmt=\".3f\")\n",
    "plt.xlabel('Predicted')\n",
    "plt.ylabel('True')\n",
    "plt.title(\"Confusion Matrix For Gradient Boosting Classifier\")\n",
    "plt.show()\n",
    "\n",
    "sns.heatmap(conf_matrix_xgb,annot=True,fmt=\".3f\")\n",
    "plt.xlabel('Predicted')\n",
    "plt.ylabel('True')\n",
    "plt.title(\"Confusion Matrix For XGBoost Classifier\")\n",
    "plt.show()"
   ]
  },
  {
   "cell_type": "markdown",
   "metadata": {},
   "source": [
    "### Feature importance and Time of execution (training and predicting times)"
   ]
  },
  {
   "cell_type": "code",
   "execution_count": 53,
   "metadata": {
    "collapsed": false
   },
   "outputs": [
    {
     "data": {
      "image/png": "[encoded data removed]",
      "text/plain": [
       "<matplotlib.figure.Figure at 0x2c18d4e0>"
      ]
     },
     "metadata": {},
     "output_type": "display_data"
    }
   ],
   "source": [
    "sns.set_style('whitegrid')\n",
    "plt.figure(figsize=(10,12))\n",
    "sns.barplot(x=rfc.feature_importances_, y=X_train1.columns,orient =\"h\")\n",
    "plt.title(\"Feature Importances According to Random Forest Classifier\")\n",
    "plt.show()"
   ]
  },
  {
   "cell_type": "code",
   "execution_count": 55,
   "metadata": {
    "collapsed": false
   },
   "outputs": [
    {
     "data": {
      "image/png": "[encoded data removed]",
      "text/plain": [
       "<matplotlib.figure.Figure at 0x2c03b5f8>"
      ]
     },
     "metadata": {},
     "output_type": "display_data"
    }
   ],
   "source": [
    "\n",
    "sns.set_style('whitegrid')\n",
    "plt.figure(figsize=(10,12))\n",
    "sns.barplot(x=gbm.feature_importances_,y=X_train1.columns, orient = 'h')\n",
    "plt.title(\"Feature Importances According to Gradient Boosting Classifier\")\n",
    "plt.show()\n",
    "\n"
   ]
  },
  {
   "cell_type": "code",
   "execution_count": 54,
   "metadata": {
    "collapsed": false
   },
   "outputs": [
    {
     "data": {
      "image/png": "[encoded data removed]",
      "text/plain": [
       "<matplotlib.figure.Figure at 0x2c2ff550>"
      ]
     },
     "metadata": {},
     "output_type": "display_data"
    }
   ],
   "source": [
    "sns.set_style('whitegrid')\n",
    "plt.figure(figsize=(10,12))\n",
    "sns.barplot(x=xgb.feature_importances_,y=X_train1.columns, orient = 'h')\n",
    "plt.title(\"Feature Importances According to XGBoost Classifier\")\n",
    "plt.show()"
   ]
  },
  {
   "cell_type": "markdown",
   "metadata": {},
   "source": [
    "The most important features in RandomForest and GradientBoost was Feature 22 \n",
    "\n",
    "The most important features in XGBoost was Feature 18"
   ]
  },
  {
   "cell_type": "code",
   "execution_count": 59,
   "metadata": {
    "collapsed": false
   },
   "outputs": [
    {
     "name": "stdout",
     "output_type": "stream",
     "text": [
      "\n",
      "Random Forest Times: \n",
      "Training Time (secs): 4.184\n",
      "Predicting Time (secs): 0.071\n",
      "\n",
      "Gradient Boosting Times: \n",
      "Training Time (secs): 5.031\n",
      "Predicting Time (secs): 0.009\n",
      "\n",
      "XGBoosting Times: \n",
      "Training Time (secs): 7.406\n",
      "Predicting Time (secs): 0.042\n"
     ]
    }
   ],
   "source": [
    "print \"\\nRandom Forest Times: \"\n",
    "print \"Training Time (secs): %.3f\" % elapsed_rfc_train_time \n",
    "print \"Predicting Time (secs): %.3f\" % elapsed_rfc_predict_time\n",
    "\n",
    "print \"\\nGradient Boosting Times: \"\n",
    "print \"Training Time (secs): %.3f\" % elapsed_gbm_train_time\n",
    "print \"Predicting Time (secs): %.3f\" % elapsed_gbm_predict_time\n",
    "\n",
    "\n",
    "print \"\\nXGBoosting Times: \"\n",
    "print \"Training Time (secs): %.3f\" % elapsed_xgb_train_time\n",
    "print \"Predicting Time (secs): %.3f\" % elapsed_xgb_predict_time"
   ]
  },
  {
   "cell_type": "markdown",
   "metadata": {},
   "source": [
    "## Dataset 2"
   ]
  },
  {
   "cell_type": "code",
   "execution_count": 63,
   "metadata": {
    "collapsed": false
   },
   "outputs": [
    {
     "data": {
      "text/html": [
       "<div>\n",
       "<style>\n",
       "    .dataframe thead tr:only-child th {\n",
       "        text-align: right;\n",
       "    }\n",
       "\n",
       "    .dataframe thead th {\n",
       "        text-align: left;\n",
       "    }\n",
       "\n",
       "    .dataframe tbody tr th {\n",
       "        vertical-align: top;\n",
       "    }\n",
       "</style>\n",
       "<table border=\"1\" class=\"dataframe\">\n",
       "  <thead>\n",
       "    <tr style=\"text-align: right;\">\n",
       "      <th></th>\n",
       "      <th>0</th>\n",
       "      <th>1</th>\n",
       "      <th>2</th>\n",
       "      <th>3</th>\n",
       "      <th>4</th>\n",
       "      <th>5</th>\n",
       "      <th>6</th>\n",
       "      <th>7</th>\n",
       "      <th>8</th>\n",
       "      <th>9</th>\n",
       "      <th>10</th>\n",
       "      <th>11</th>\n",
       "      <th>12</th>\n",
       "      <th>13</th>\n",
       "      <th>14</th>\n",
       "      <th>15</th>\n",
       "      <th>16</th>\n",
       "      <th>17</th>\n",
       "      <th>18</th>\n",
       "      <th>19</th>\n",
       "    </tr>\n",
       "  </thead>\n",
       "  <tbody>\n",
       "    <tr>\n",
       "      <th>1522</th>\n",
       "      <td>2.300477</td>\n",
       "      <td>0.363770</td>\n",
       "      <td>0.144339</td>\n",
       "      <td>-0.558788</td>\n",
       "      <td>1.707447</td>\n",
       "      <td>-4.474695</td>\n",
       "      <td>1.839600</td>\n",
       "      <td>2.459295</td>\n",
       "      <td>3.828094</td>\n",
       "      <td>1.549987</td>\n",
       "      <td>0.252517</td>\n",
       "      <td>-1.777784</td>\n",
       "      <td>0.873365</td>\n",
       "      <td>-0.883064</td>\n",
       "      <td>0.902041</td>\n",
       "      <td>-0.078877</td>\n",
       "      <td>-2.489599</td>\n",
       "      <td>0.768784</td>\n",
       "      <td>3.327456</td>\n",
       "      <td>0.728037</td>\n",
       "    </tr>\n",
       "    <tr>\n",
       "      <th>835</th>\n",
       "      <td>-0.109199</td>\n",
       "      <td>0.212967</td>\n",
       "      <td>0.549064</td>\n",
       "      <td>-1.241836</td>\n",
       "      <td>1.960115</td>\n",
       "      <td>0.657332</td>\n",
       "      <td>-2.455211</td>\n",
       "      <td>-2.225724</td>\n",
       "      <td>-4.990068</td>\n",
       "      <td>0.050653</td>\n",
       "      <td>-2.349657</td>\n",
       "      <td>1.515976</td>\n",
       "      <td>1.055816</td>\n",
       "      <td>-0.752454</td>\n",
       "      <td>-0.200222</td>\n",
       "      <td>2.208993</td>\n",
       "      <td>2.978494</td>\n",
       "      <td>-0.895843</td>\n",
       "      <td>-4.034914</td>\n",
       "      <td>0.737746</td>\n",
       "    </tr>\n",
       "    <tr>\n",
       "      <th>358</th>\n",
       "      <td>1.369038</td>\n",
       "      <td>0.478174</td>\n",
       "      <td>0.328843</td>\n",
       "      <td>-0.788425</td>\n",
       "      <td>1.909545</td>\n",
       "      <td>-2.544886</td>\n",
       "      <td>-1.894744</td>\n",
       "      <td>1.084245</td>\n",
       "      <td>-1.244259</td>\n",
       "      <td>0.849203</td>\n",
       "      <td>-1.603663</td>\n",
       "      <td>0.508336</td>\n",
       "      <td>1.294782</td>\n",
       "      <td>0.142815</td>\n",
       "      <td>0.103085</td>\n",
       "      <td>1.419244</td>\n",
       "      <td>-2.938557</td>\n",
       "      <td>-0.556318</td>\n",
       "      <td>1.912863</td>\n",
       "      <td>1.791105</td>\n",
       "    </tr>\n",
       "    <tr>\n",
       "      <th>138</th>\n",
       "      <td>-1.021278</td>\n",
       "      <td>-1.482523</td>\n",
       "      <td>-1.084386</td>\n",
       "      <td>1.627551</td>\n",
       "      <td>0.837333</td>\n",
       "      <td>-0.127461</td>\n",
       "      <td>-1.288318</td>\n",
       "      <td>-1.537706</td>\n",
       "      <td>1.955051</td>\n",
       "      <td>2.121180</td>\n",
       "      <td>-0.869797</td>\n",
       "      <td>-2.409449</td>\n",
       "      <td>-0.497299</td>\n",
       "      <td>-0.236416</td>\n",
       "      <td>1.923061</td>\n",
       "      <td>4.109815</td>\n",
       "      <td>-0.789706</td>\n",
       "      <td>-0.850928</td>\n",
       "      <td>-1.740679</td>\n",
       "      <td>-0.376976</td>\n",
       "    </tr>\n",
       "    <tr>\n",
       "      <th>299</th>\n",
       "      <td>1.617604</td>\n",
       "      <td>-1.390829</td>\n",
       "      <td>0.475023</td>\n",
       "      <td>-1.791082</td>\n",
       "      <td>-0.632696</td>\n",
       "      <td>2.367605</td>\n",
       "      <td>1.146786</td>\n",
       "      <td>0.600876</td>\n",
       "      <td>-0.480133</td>\n",
       "      <td>1.930179</td>\n",
       "      <td>-4.115812</td>\n",
       "      <td>1.206437</td>\n",
       "      <td>0.865262</td>\n",
       "      <td>0.652520</td>\n",
       "      <td>-0.017445</td>\n",
       "      <td>-0.558426</td>\n",
       "      <td>2.747832</td>\n",
       "      <td>1.038659</td>\n",
       "      <td>4.870268</td>\n",
       "      <td>-1.560821</td>\n",
       "    </tr>\n",
       "  </tbody>\n",
       "</table>\n",
       "</div>"
      ],
      "text/plain": [
       "            0         1         2         3         4         5         6   \\\n",
       "1522  2.300477  0.363770  0.144339 -0.558788  1.707447 -4.474695  1.839600   \n",
       "835  -0.109199  0.212967  0.549064 -1.241836  1.960115  0.657332 -2.455211   \n",
       "358   1.369038  0.478174  0.328843 -0.788425  1.909545 -2.544886 -1.894744   \n",
       "138  -1.021278 -1.482523 -1.084386  1.627551  0.837333 -0.127461 -1.288318   \n",
       "299   1.617604 -1.390829  0.475023 -1.791082 -0.632696  2.367605  1.146786   \n",
       "\n",
       "            7         8         9         10        11        12        13  \\\n",
       "1522  2.459295  3.828094  1.549987  0.252517 -1.777784  0.873365 -0.883064   \n",
       "835  -2.225724 -4.990068  0.050653 -2.349657  1.515976  1.055816 -0.752454   \n",
       "358   1.084245 -1.244259  0.849203 -1.603663  0.508336  1.294782  0.142815   \n",
       "138  -1.537706  1.955051  2.121180 -0.869797 -2.409449 -0.497299 -0.236416   \n",
       "299   0.600876 -0.480133  1.930179 -4.115812  1.206437  0.865262  0.652520   \n",
       "\n",
       "            14        15        16        17        18        19  \n",
       "1522  0.902041 -0.078877 -2.489599  0.768784  3.327456  0.728037  \n",
       "835  -0.200222  2.208993  2.978494 -0.895843 -4.034914  0.737746  \n",
       "358   0.103085  1.419244 -2.938557 -0.556318  1.912863  1.791105  \n",
       "138   1.923061  4.109815 -0.789706 -0.850928 -1.740679 -0.376976  \n",
       "299  -0.017445 -0.558426  2.747832  1.038659  4.870268 -1.560821  "
      ]
     },
     "execution_count": 63,
     "metadata": {},
     "output_type": "execute_result"
    }
   ],
   "source": [
    "# load data in\n",
    "dataX2 = pd.read_csv(\"X2.csv\")\n",
    "\n",
    "\n",
    "colNames = []\n",
    "for i in range(0,dataX2.shape[1]):\n",
    "    colNames.append(i)\n",
    "    \n",
    "dataX2 = pd.read_csv(\"X2.csv\", names = colNames)\n",
    "targetY2 = pd.read_csv(\"Y2.csv\", names = ['y'])\n",
    "# split features \n",
    "X_train2, X_test2, y_train2, y_test2 = train_test_split(dataX2, targetY2, test_size=0.33, random_state=42)\n",
    "\n",
    "X_train2.head()"
   ]
  },
  {
   "cell_type": "markdown",
   "metadata": {},
   "source": [
    "### Design Choices of Finding Hyperparameters\n",
    "\n",
    "In addition to testing for n_estimators we tested:\n",
    "\n",
    "1) For Random Forest Classifier, the min_samples_leaf was tested in the Grid Search\n",
    "\n",
    "2) For Gradient Boosting Classifier, the learning rate was tested in the Grid Search\n",
    "\n",
    "3) For XGBoost Classifier, the max_depth was tested in the Grid Search\n",
    "\n",
    "We used 5 Fold CV to gain our optimal paramters. Below is the output:\n",
    "    "
   ]
  },
  {
   "cell_type": "code",
   "execution_count": 66,
   "metadata": {
    "collapsed": false
   },
   "outputs": [
    {
     "name": "stdout",
     "output_type": "stream",
     "text": [
      "\n",
      " Grid Score CV Results for Random Forest\n",
      "('Best Estimator', RandomForestClassifier(bootstrap=True, class_weight=None, criterion='gini',\n",
      "            max_depth=None, max_features='auto', max_leaf_nodes=None,\n",
      "            min_impurity_decrease=0.0, min_impurity_split=None,\n",
      "            min_samples_leaf=50, min_samples_split=2,\n",
      "            min_weight_fraction_leaf=0.0, n_estimators=100, n_jobs=1,\n",
      "            oob_score=False, random_state=None, verbose=0,\n",
      "            warm_start=False))\n",
      "('Best Score', 0.87373134328358204)\n",
      "('Best Params', {'n_estimators': 100, 'min_samples_leaf': 50})\n",
      "\n",
      " Grid Score CV Results for Gradient Boost Classifier\n",
      "('Best Estimator', GradientBoostingClassifier(criterion='friedman_mse', init=None,\n",
      "              learning_rate=0.2, loss='deviance', max_depth=3,\n",
      "              max_features=None, max_leaf_nodes=None,\n",
      "              min_impurity_decrease=0.0, min_impurity_split=None,\n",
      "              min_samples_leaf=1, min_samples_split=2,\n",
      "              min_weight_fraction_leaf=0.0, n_estimators=100,\n",
      "              presort='auto', random_state=None, subsample=1.0, verbose=0,\n",
      "              warm_start=False))\n",
      "('Best Score', 0.9173134328358209)\n",
      "('Best Params', {'n_estimators': 100, 'learning_rate': 0.2})\n",
      "\n",
      " Grid Score CV Results for XGBoost Classifier\n",
      "('Best Estimator', XGBClassifier(base_score=0.5, colsample_bylevel=1, colsample_bytree=1,\n",
      "       gamma=0, learning_rate=0.1, max_delta_step=0, max_depth=8,\n",
      "       min_child_weight=1, missing=None, n_estimators=100, nthread=-1,\n",
      "       objective='binary:logistic', reg_alpha=0, reg_lambda=1,\n",
      "       scale_pos_weight=1, seed=0, silent=True, subsample=1))\n",
      "('Best Score', 0.93134328358208951)\n",
      "('Best Params', {'n_estimators': 100, 'max_depth': 8})\n"
     ]
    }
   ],
   "source": [
    "# Grid Search CV to find best hyper parameters\n",
    "\n",
    "RFC = RandomForestClassifier()\n",
    "\n",
    "# Creating Parameters as suggested by: \n",
    "# https://www.analyticsvidhya.com/blog/2015/06/tuning-random-forest-model/\n",
    "\n",
    "params = { 'n_estimators' : [30,60,100], 'min_samples_leaf' : [50, 70, 90] }\n",
    "\n",
    "# Run GridSearch to find best Parmas for Random Forest on 5-fold CV\n",
    "gridCV = GridSearchCV(estimator = RFC, param_grid = params, cv = 5, n_jobs = -1)\n",
    "gridCV.fit(X_train2.values, y_train2.values.ravel())\n",
    "\n",
    "print(\"\\n Grid Score CV Results for Random Forest\")\n",
    "print (\"Best Estimator\", gridCV.best_estimator_)\n",
    "print (\"Best Score\",gridCV.best_score_)\n",
    "print (\"Best Params\", gridCV.best_params_)\n",
    "\n",
    "\n",
    "gbm = GradientBoostingClassifier()\n",
    "\n",
    "# Creating Parameters as suggested by: \n",
    "# https://www.analyticsvidhya.com/blog/2016/02/complete-guide-parameter-tuning-gradient-boosting-gbm-python/\n",
    "\n",
    "params = { 'n_estimators' : [30,60,100], \n",
    "          'learning_rate' : [0.01, 0.1, 0.2] }\n",
    "\n",
    "# Run GridSearch to find best Parmas for Gradient Boosting CLassifier on 5-fold CV\n",
    "gridCV = GridSearchCV(estimator = gbm, param_grid = params, cv = 5, n_jobs = -1)\n",
    "gridCV.fit(X_train2.values, y_train2.values.ravel())\n",
    "\n",
    "print(\"\\n Grid Score CV Results for Gradient Boost Classifier\")\n",
    "print (\"Best Estimator\", gridCV.best_estimator_)\n",
    "print (\"Best Score\",gridCV.best_score_)\n",
    "print (\"Best Params\", gridCV.best_params_)\n",
    "\n",
    "\n",
    "xgb = XGBClassifier()\n",
    "# Creating Parameters as suggested by: \n",
    "# https://www.analyticsvidhya.com/blog/2016/03/complete-guide-parameter-tuning-xgboost-with-codes-python/\n",
    "\n",
    "params = { 'n_estimators' : [30,60,100], \n",
    "          'max_depth' : [4, 6, 8] }\n",
    "\n",
    "# Run GridSearch to find best Parmas for Gradient Boosting CLassifier on 5-fold CV\n",
    "gridCV = GridSearchCV(estimator = xgb, param_grid = params, cv = 5, n_jobs = -1)\n",
    "gridCV.fit(X_train2.values, y_train2.values.ravel())\n",
    "\n",
    "\n",
    "print(\"\\n Grid Score CV Results for XGBoost Classifier\")\n",
    "print (\"Best Estimator\", gridCV.best_estimator_)\n",
    "print (\"Best Score\",gridCV.best_score_)\n",
    "print (\"Best Params\", gridCV.best_params_)"
   ]
  },
  {
   "cell_type": "markdown",
   "metadata": {},
   "source": [
    "### Reporting Mean Error Rate + Confusion Matrix on Test data. "
   ]
  },
  {
   "cell_type": "code",
   "execution_count": 67,
   "metadata": {
    "collapsed": false
   },
   "outputs": [
    {
     "name": "stdout",
     "output_type": "stream",
     "text": [
      "\n",
      "Mean Error Rate for Random Forest Classifier: 0.110909090909\n",
      "\n",
      "Mean Error Rate for Gradient Boosting Classifier: 0.0775757575758\n",
      "\n",
      "Mean Error Rate for XGBoost Classifier: 0.0551515151515\n"
     ]
    },
    {
     "name": "stderr",
     "output_type": "stream",
     "text": [
      "C:\\Users\\Kevin\\Anaconda\\lib\\site-packages\\IPython\\kernel\\__main__.py:9: DataConversionWarning: A column-vector y was passed when a 1d array was expected. Please change the shape of y to (n_samples,), for example using ravel().\n"
     ]
    },
    {
     "data": {
      "image/png": "[encoded data removed]",
      "text/plain": [
       "<matplotlib.figure.Figure at 0x2cdf2dd8>"
      ]
     },
     "metadata": {},
     "output_type": "display_data"
    },
    {
     "data": {
      "image/png": "[encoded data removed]",
      "text/plain": [
       "<matplotlib.figure.Figure at 0x2cf25198>"
      ]
     },
     "metadata": {},
     "output_type": "display_data"
    },
    {
     "data": {
      "image/png": "[encoded data removed]",
      "text/plain": [
       "<matplotlib.figure.Figure at 0x2c630048>"
      ]
     },
     "metadata": {},
     "output_type": "display_data"
    }
   ],
   "source": [
    "rfc = RandomForestClassifier(n_estimators = 100, min_samples_leaf = 50)\n",
    "gbm = GradientBoostingClassifier(n_estimators = 100, learning_rate = 0.2)\n",
    "xgb = XGBClassifier(n_estimators = 100, max_depth = 8)\n",
    "\n",
    "### Random Forest Classifier ###\n",
    "\n",
    "## Train RFC\n",
    "beg_ts = time()\n",
    "rfc.fit(X_train2, y_train2)\n",
    "end_ts = time()\n",
    "elapsed_rfc_train_time = end_ts - beg_ts\n",
    "\n",
    "## Pred RFC\n",
    "beg_ts = time()\n",
    "rfc_preds = rfc.predict(X_test2)\n",
    "end_ts = time()\n",
    "elapsed_rfc_predict_time = end_ts - beg_ts\n",
    "\n",
    "### Gradient Boosting Classifier ###\n",
    "\n",
    "## Train GBM\n",
    "beg_ts = time()\n",
    "gbm.fit(X_train2, y_train2)\n",
    "end_ts = time()\n",
    "elapsed_gbm_train_time = end_ts - beg_ts\n",
    "\n",
    "## Pred GBM\n",
    "beg_ts = time()\n",
    "gbm_preds = gbm.predict(X_test2)\n",
    "end_ts = time()\n",
    "elapsed_gbm_predict_time = end_ts - beg_ts\n",
    "\n",
    "### XGB Classifier ###\n",
    "\n",
    "## Train XGB\n",
    "beg_ts = time()\n",
    "xgb.fit(X_train2, y_train2)\n",
    "end_ts = time()\n",
    "elapsed_xgb_train_time = end_ts - beg_ts\n",
    "\n",
    "## Pred XGB\n",
    "beg_ts = time()\n",
    "xgb_preds = xgb.predict(X_test2)\n",
    "end_ts = time()\n",
    "elapsed_xgb_predict_time = end_ts - beg_ts\n",
    "\n",
    "print \"\\nMean Error Rate for Random Forest Classifier: \" + str(zero_one_loss(y_test2,rfc_preds))\n",
    "print \"\\nMean Error Rate for Gradient Boosting Classifier: \" + str(zero_one_loss(y_test2,gbm_preds))\n",
    "print \"\\nMean Error Rate for XGBoost Classifier: \" + str(zero_one_loss(y_test2,xgb_preds))\n",
    "\n",
    "sns.heatmap(conf_matrix_rfc,annot=True,fmt=\".3f\")\n",
    "plt.xlabel('Predicted')\n",
    "plt.ylabel('True')\n",
    "plt.title(\"Confusion Matrix For Random Forest Classifier\")\n",
    "\n",
    "plt.show()\n",
    "\n",
    "sns.heatmap(conf_matrix_gbm,annot=True,fmt=\".3f\")\n",
    "plt.xlabel('Predicted')\n",
    "plt.ylabel('True')\n",
    "plt.title(\"Confusion Matrix For Gradient Boosting Classifier\")\n",
    "plt.show()\n",
    "\n",
    "sns.heatmap(conf_matrix_xgb,annot=True,fmt=\".3f\")\n",
    "plt.xlabel('Predicted')\n",
    "plt.ylabel('True')\n",
    "plt.title(\"Confusion Matrix For XGBoost Classifier\")\n",
    "plt.show()"
   ]
  },
  {
   "cell_type": "markdown",
   "metadata": {},
   "source": [
    "### Feature importance and Time of execution (training and predicting times)"
   ]
  },
  {
   "cell_type": "code",
   "execution_count": 68,
   "metadata": {
    "collapsed": false
   },
   "outputs": [
    {
     "data": {
      "image/png": "[encoded data removed]",
      "text/plain": [
       "<matplotlib.figure.Figure at 0x25938128>"
      ]
     },
     "metadata": {},
     "output_type": "display_data"
    }
   ],
   "source": [
    "sns.set_style('whitegrid')\n",
    "plt.figure(figsize=(10,12))\n",
    "sns.barplot(x=rfc.feature_importances_, y=X_train2.columns,orient =\"h\")\n",
    "plt.title(\"Feature Importances According to Random Forest Classifier\")\n",
    "plt.show()"
   ]
  },
  {
   "cell_type": "code",
   "execution_count": 70,
   "metadata": {
    "collapsed": false
   },
   "outputs": [
    {
     "data": {
      "image/png": "[encoded data removed]",
      "text/plain": [
       "<matplotlib.figure.Figure at 0x170a25f8>"
      ]
     },
     "metadata": {},
     "output_type": "display_data"
    }
   ],
   "source": [
    "\n",
    "sns.set_style('whitegrid')\n",
    "plt.figure(figsize=(10,12))\n",
    "sns.barplot(x=gbm.feature_importances_,y=X_train2.columns, orient = 'h')\n",
    "plt.title(\"Feature Importances According to Gradient Boosting Classifier\")\n",
    "plt.show()\n",
    "\n"
   ]
  },
  {
   "cell_type": "code",
   "execution_count": 71,
   "metadata": {
    "collapsed": false
   },
   "outputs": [
    {
     "data": {
      "image/png": "[encoded data removed]",
      "text/plain": [
       "<matplotlib.figure.Figure at 0x28bfdef0>"
      ]
     },
     "metadata": {},
     "output_type": "display_data"
    }
   ],
   "source": [
    "sns.set_style('whitegrid')\n",
    "plt.figure(figsize=(10,12))\n",
    "sns.barplot(x=xgb.feature_importances_,y=X_train2.columns, orient = 'h')\n",
    "plt.title(\"Feature Importances According to XGBoost Classifier\")\n",
    "plt.show()"
   ]
  },
  {
   "cell_type": "code",
   "execution_count": 72,
   "metadata": {
    "collapsed": false
   },
   "outputs": [
    {
     "name": "stdout",
     "output_type": "stream",
     "text": [
      "\n",
      "Random Forest Times: \n",
      "Training Time (secs): 1.295\n",
      "Predicting Time (secs): 0.077\n",
      "\n",
      "Gradient Boosting Times: \n",
      "Training Time (secs): 2.364\n",
      "Predicting Time (secs): 0.011\n",
      "\n",
      "XGBoosting Times: \n",
      "Training Time (secs): 1.812\n",
      "Predicting Time (secs): 0.012\n"
     ]
    }
   ],
   "source": [
    "print \"\\nRandom Forest Times: \"\n",
    "print \"Training Time (secs): %.3f\" % elapsed_rfc_train_time \n",
    "print \"Predicting Time (secs): %.3f\" % elapsed_rfc_predict_time\n",
    "\n",
    "print \"\\nGradient Boosting Times: \"\n",
    "print \"Training Time (secs): %.3f\" % elapsed_gbm_train_time\n",
    "print \"Predicting Time (secs): %.3f\" % elapsed_gbm_predict_time\n",
    "\n",
    "\n",
    "print \"\\nXGBoosting Times: \"\n",
    "print \"Training Time (secs): %.3f\" % elapsed_xgb_train_time\n",
    "print \"Predicting Time (secs): %.3f\" % elapsed_xgb_predict_time"
   ]
  },
  {
   "cell_type": "markdown",
   "metadata": {},
   "source": [
    "### Comparing the Classifiers for the 2 datasets:"
   ]
  },
  {
   "cell_type": "markdown",
   "metadata": {},
   "source": [
    "For both Dataset 1 and Dataset 2:\n",
    "The following classifiers performed as follows:\n",
    "\n",
    "\n",
    "* Dataset 1 Mean Error Rate\n",
    "    * RandomForest: 0.14\n",
    "    * GradientBoost: 0.11\n",
    "    * XGBoost: 0.07\n",
    "    \n",
    "* Dataset 2 Mean Error Rate\n",
    "    * RandomForest: 0.11\n",
    "    * GradientBoost: 0.07\n",
    "    * XGBoost: 0.05\n",
    "    \n",
    "XGBoost had the lowest mean error rate while random forest had the highest.\n",
    "\n",
    "Dataset 2 had a lower mean error rate than Dataset 1 becuase the features in Dataset 2 had similiar F1 score importance (according the feature importance charts above).\n",
    "\n",
    "Only having one feature with importance while having other features with little importance performs poorly on a tree-based models. Thus the tree based models did not perform as well on Dataset 1"
   ]
  },
  {
   "cell_type": "markdown",
   "metadata": {},
   "source": [
    "# Question 2: Visualization using Bokeh (10 pts)\n",
    "\n",
    "In this problem, you'll build an interactive visualization. Bokeh is a Python interactive visualization library that targets modern web browsers for presentation. For more information on Bokeh, see http://bokeh.pydata.org/en/latest/. The problem statement is as follows:\n",
    "\n",
    "Using the \"nbasalariesfull.csv\" data set from HMK4, your goal is to build a Bokeh visualization which allows the user to explore how salary (on a log scale) varies with points per game (PSG) and age. You will create a visualization that allows the user to toggle the X axis of a scatter plot between PSG and age, with the y-axis always being log Salary. Also add the hover tool so that if the user hovers over a datapoint in the plot a window pops up that shows the player name, team, position, salary, and the current x variable (PSG or age) depending on the current tab.  Color each point according to a player's position and provide a legend for the colors. Add the ability to Zoom in/out.  Add slight horizontal jitter to a player's age.\n",
    "\n",
    "Hints: \n",
    "1. see: http://bokeh.pydata.org/en/latest/docs/user_guide/tools.html#basic-tooltips for hover and zoom tool examples.\n",
    "2. See: http://bokeh.pydata.org/en/latest/docs/reference/plotting.html. Look for the scatter API.\n",
    "3. See: http://bokeh.pydata.org/en/0.10.0/docs/user_guide/styling.html#labels. For labeling axes.\n",
    "4. See: https://bokeh.pydata.org/en/latest/docs/user_guide/categorical.html  for how to use jitter transform\n",
    "5. Use output_notebook() from Bokeh to output the plot to your notebook"
   ]
  },
  {
   "cell_type": "code",
   "execution_count": 23,
   "metadata": {
    "collapsed": false
   },
   "outputs": [
    {
     "data": {
      "text/plain": [
       "Index([u'Player', u'Tm', u'Pos', u'Age', u'G', u'GS', u'MP', u'FG', u'FGA',\n",
       "       u'FG%', u'3P', u'3PA', u'3P%', u'2P', u'2PA', u'2P%', u'eFG%', u'FT',\n",
       "       u'FTA', u'FT%', u'ORB', u'DRB', u'TRB', u'AST', u'STL', u'BLK', u'TOV',\n",
       "       u'PF', u'PSG', u'SALARY', u'logsalary'],\n",
       "      dtype='object')"
      ]
     },
     "execution_count": 23,
     "metadata": {},
     "output_type": "execute_result"
    }
   ],
   "source": [
    "import warnings\n",
    "warnings.filterwarnings('ignore')\n",
    "\n",
    "import pandas as pd\n",
    "import numpy as np\n",
    "from bokeh.models.widgets import Panel, Tabs\n",
    "from bokeh.models import CustomJS, ColumnDataSource, HoverTool, BoxZoomTool, WheelZoomTool, ResetTool\n",
    "from bokeh.transform import jitter\n",
    "from bokeh.transform import factor_cmap\n",
    "from bokeh.palettes import inferno\n",
    "from bokeh.plotting import figure, output_notebook, show\n",
    "\n",
    "data = pd.read_csv(\"nbasalariesfull.csv\")\n",
    "data[\"logsalary\"] = data.SALARY.apply(np.log)\n",
    "data.columns"
   ]
  },
  {
   "cell_type": "code",
   "execution_count": 4,
   "metadata": {
    "collapsed": true
   },
   "outputs": [],
   "source": [
    "# Target\n",
    "y = data[\"logsalary\"]\n",
    "\n",
    "# Toggle X Axis with PSG and Age\n",
    "psg = data[\"PSG\"]\n",
    "age = data[\"Age\"]\n",
    "\n",
    "# Hover tool to show player name, \n",
    "# team, position, salary, and current x variable\n",
    "\n",
    "playerName = data[\"Player\"]\n",
    "team = data[\"Tm\"]\n",
    "position = data[\"Pos\"]\n",
    "salary = data[\"SALARY\"]"
   ]
  },
  {
   "cell_type": "code",
   "execution_count": 37,
   "metadata": {
    "collapsed": true
   },
   "outputs": [],
   "source": [
    "data_source = ColumnDataSource(data=dict(PSG = psg,\n",
    "                                        Age = age,\n",
    "                                        Player = playerName,\n",
    "                                        Team = team,\n",
    "                                        Position = position,\n",
    "                                        Salary = salary,\n",
    "                                        LogSalary = y))\n",
    "\n",
    "hover = HoverTool(tooltips=[\n",
    "    (\"Player\", \"@Player\"),\n",
    "    (\"Team\", \"@Team\"),\n",
    "    (\"Position\", \"@Position\"),\n",
    "    (\"Salary\", \"@Salary\")\n",
    "])\n",
    "\n",
    "\n",
    "# Age\n",
    "p1 = figure(plot_width=800, plot_height=400, tools=[hover, BoxZoomTool(), WheelZoomTool(), ResetTool()], title=\"NBA Salaries by Age\")\n",
    "\n",
    "colors = [\"#e9724d\", \"#d6d727\", \"#92cad1\", \"#79ccb3\", \"#868686\", \"#564b98\", \"#515ba1\"]\n",
    "\n",
    "p1.circle(x=jitter(\"Age\",width=0.6,range = p.x_range), y='LogSalary',  \n",
    "         source=data_source, alpha=0.3, legend = \"Position\", color = factor_cmap(\"Position\", palette=colors, factors = position))\n",
    "\n",
    "p1.xaxis.axis_label = 'Age'\n",
    "p1.yaxis.axis_label = 'Log Salary'\n",
    "p1.legend.orientation = \"vertical\"\n",
    "p1.legend.location = \"bottom_right\"\n",
    "\n",
    "tab1 = Panel(child=p1,title = 'Age')\n",
    "\n",
    "\n",
    "# PSG\n",
    "p2 = figure(plot_width=800, plot_height=400, tools=[hover, BoxZoomTool(), WheelZoomTool(), ResetTool()], title=\"NBA Salaries by PSG\")\n",
    "\n",
    "colors = [\"#e9724d\", \"#d6d727\", \"#92cad1\", \"#79ccb3\", \"#868686\", \"#564b98\", \"#515ba1\"]\n",
    "\n",
    "p2.circle(x=\"PSG\", y='LogSalary',  \n",
    "         source=data_source, alpha=0.3, legend = \"Position\", color = factor_cmap(\"Position\", palette=colors, factors = position))\n",
    "\n",
    "p2.xaxis.axis_label = 'PSG'\n",
    "p2.yaxis.axis_label = 'Log Salary'\n",
    "p2.legend.orientation = \"vertical\"\n",
    "p2.legend.location = \"bottom_right\"\n",
    "\n",
    "tab2 = Panel(child=p2,title = 'PSG')"
   ]
  },
  {
   "cell_type": "code",
   "execution_count": 38,
   "metadata": {
    "collapsed": false
   },
   "outputs": [
    {
     "data": {
      "text/html": [
       "\n",
       "<div class=\"bk-root\">\n",
       "    <div class=\"bk-plotdiv\" id=\"d9c911bc-8e57-43a1-a814-ef79c1d941f0\"></div>\n",
       "</div>"
      ]
     },
     "metadata": {},
     "output_type": "display_data"
    },
    {
     "data": {
      "application/javascript": [
       "(function(root) {\n",
       "  function embed_document(root) {\n",
       "    var docs_json = {\"097c2521-bd33-4cdf-8dd1-1e59c7faaaf4\":{\"roots\":{\"references\":[{\"attributes\":{\"child\":{\"id\":\"13d64505-1d6e-4939-94cf-f8e341ab3390\",\"subtype\":\"Figure\",\"type\":\"Plot\"},\"title\":\"Age\"},\"id\":\"649d5134-3dc9-4f8d-85bc-87701dedea32\",\"type\":\"Panel\"},{\"attributes\":{\"range\":{\"id\":\"d182d14c-7342-4a56-9c30-e06dcf8af6ed\",\"type\":\"DataRange1d\"},\"width\":0.6},\"id\":\"cb93d8cb-8c2e-449f-ade6-05a28d19a3a2\",\"type\":\"Jitter\"},{\"attributes\":{\"plot\":{\"id\":\"2f790e6a-c03a-4c4b-873c-609afdccfd99\",\"subtype\":\"Figure\",\"type\":\"Plot\"},\"ticker\":{\"id\":\"72806766-633a-47d7-9a77-f46ff403cb6f\",\"type\":\"BasicTicker\"}},\"id\":\"90cfbf13-897b-48c0-9262-4337411bc2e1\",\"type\":\"Grid\"},{\"attributes\":{},\"id\":\"72806766-633a-47d7-9a77-f46ff403cb6f\",\"type\":\"BasicTicker\"},{\"attributes\":{},\"id\":\"16dee6eb-b2e7-4a80-9afe-ceb58511d492\",\"type\":\"LinearScale\"},{\"attributes\":{\"factors\":[\"PG\",\"SG\",\"SF\",\"C\",\"SF\",\"PG\",\"PF\",\"SG\",\"PG\",\"SF\",\"PG\",\"SG\",\"SF\",\"PF\",\"SF\",\"SG\",\"PG\",\"SG\",\"SF\",\"PG\",\"PG\",\"SF\",\"PG\",\"SG\",\"SF\",\"PG\",\"PF\",\"SG\",\"PG\",\"PF\",\"C\",\"SG\",\"C\",\"PF\",\"SF\",\"C\",\"SG\",\"SF\",\"PF\",\"PG\",\"PG\",\"C\",\"C\",\"PG\",\"SG\",\"C\",\"PF\",\"SG\",\"PG\",\"SF\",\"PG\",\"PF\",\"SG\",\"SG\",\"SG\",\"PF\",\"SF\",\"PF\",\"SG\",\"SG\",\"SG\",\"PF\",\"SG\",\"SF\",\"C\",\"PG\",\"PF\",\"PG\",\"PG\",\"PF\",\"SG\",\"SG\",\"SG\",\"C\",\"SF\",\"C\",\"SG\",\"PG\",\"SG\",\"SF\",\"SF\",\"PG\",\"PG\",\"C\",\"SF\",\"C\",\"SF\",\"PF\",\"PF\",\"PF\",\"SG\",\"SF\",\"PF\",\"C\",\"PF\",\"PG\",\"PG\",\"SF\",\"SF\",\"PF\",\"SF\",\"SF\",\"SG\",\"PF\",\"SF\",\"PG\",\"SF\",\"PF\",\"SF\",\"SG\",\"C\",\"SG\",\"SF\",\"PG\",\"PG\",\"PG\",\"PG\",\"PG\",\"SF\",\"SG\",\"PF\",\"PG\",\"C\",\"PF\",\"C\",\"SF\",\"SG\",\"C\",\"PG\",\"SF\",\"C\",\"C\",\"PG\",\"SF\",\"PG\",\"PF\",\"SG\",\"SG\",\"SF\",\"SG\",\"SG\",\"SG\",\"PG\",\"SF\",\"C\",\"SG\",\"PF\",\"PF\",\"SG\",\"C\",\"C\",\"PG\",\"C\",\"PG\",\"SG\",\"PG\",\"C\",\"SG\",\"PG\",\"SG\",\"SG\",\"PF\",\"PF\",\"C\",\"C\",\"PF\",\"PG\",\"C\",\"PF\",\"SG\",\"SG\",\"PF\",\"PG\",\"SF\",\"C\",\"PF\",\"PG\",\"SF\",\"C\",\"SF\",\"PF\",\"C\",\"PF\",\"SG\",\"PF\",\"SG\",\"PG\",\"PG\",\"PG\",\"PG\",\"PF\",\"PG\",\"PF\",\"PF\",\"PG\",\"SG\",\"SF\",\"SG\",\"PF\",\"SF\",\"C\",\"SF\",\"SF\",\"SG\",\"C\",\"PG\",\"C\",\"PF\",\"SF\",\"C\",\"C\",\"C\",\"C\",\"SF\",\"PF\",\"PG\",\"PF\",\"PF\",\"PF\",\"C\",\"C\",\"SG\",\"SG\",\"PF\",\"PF\",\"SG\",\"PF\",\"SF\",\"SF\",\"SF\",\"C\",\"PG\",\"C\",\"SF\",\"PF\",\"PF\",\"SF\",\"PF-C\",\"SF\",\"PF\",\"SF\",\"C\",\"C\",\"PF\",\"PF\",\"SG\",\"C\",\"PG\",\"SF\",\"SG\",\"PG\",\"PF\",\"PG\",\"SG\",\"SG\",\"PG\",\"PF\",\"SG\",\"SG\",\"C\",\"C\",\"C\",\"PF\",\"PF\",\"C\",\"SF\",\"PF\",\"PF\",\"C\",\"SF\",\"PF\",\"PG\",\"PG\",\"PF\",\"SG\",\"PF\",\"PF\",\"PG\",\"SF\",\"PG\",\"SF\",\"PG\",\"C\",\"PG\",\"PF\",\"C\",\"PF\",\"PG\",\"C\",\"SF\",\"SF\",\"PG\",\"PF\",\"SG\",\"SF\",\"SG\",\"C\",\"SF\",\"PF\",\"SG\",\"PG\",\"C\",\"C\",\"SF\",\"PG\",\"PG\",\"SF\",\"SG\",\"PG\",\"PG\",\"PG\",\"PF\",\"PF\",\"PF\",\"PF\",\"SG\",\"SG\",\"C\",\"C\",\"C\",\"SF\",\"SF\",\"PG\",\"PF\",\"C\",\"SG\",\"SF\",\"PG\",\"SF\",\"PF\",\"PG\",\"PF\",\"PF\",\"C\",\"PF\",\"SG\",\"SF\",\"C\",\"PG\",\"PF\",\"PG\",\"SG-SF\",\"SF\",\"SF\",\"PF\",\"SF\",\"SF\",\"PF\",\"SF\",\"C\",\"C\",\"C\",\"PF\",\"PF\",\"C\",\"PF\",\"C\",\"PG\",\"SF\",\"PF\",\"SG\",\"PG\",\"C\",\"PG\",\"SG\",\"PG\",\"PG\",\"PF\",\"PF\",\"PG\",\"SG\",\"SG\",\"PG\",\"SG\",\"C\",\"SG\",\"C\",\"SF\",\"SF\"],\"palette\":[\"#e9724d\",\"#d6d727\",\"#92cad1\",\"#79ccb3\",\"#868686\",\"#564b98\",\"#515ba1\"]},\"id\":\"6981de8f-77ca-4d07-8403-55a2cbd4b6f8\",\"type\":\"CategoricalColorMapper\"},{\"attributes\":{\"label\":{\"field\":\"Position\"},\"renderers\":[{\"id\":\"485ce7c5-a6b7-485a-b009-ef14945792ac\",\"type\":\"GlyphRenderer\"}]},\"id\":\"50697832-323b-4121-ad7a-866ddd7c1acd\",\"type\":\"LegendItem\"},{\"attributes\":{},\"id\":\"1090ad8f-b3e1-46b5-a862-3e17e61e7d53\",\"type\":\"BasicTicker\"},{\"attributes\":{\"callback\":null,\"tooltips\":[[\"Player\",\"@Player\"],[\"Team\",\"@Team\"],[\"Position\",\"@Position\"],[\"Salary\",\"@Salary\"]]},\"id\":\"8a87204f-bbad-4f35-b23a-6e702df1593f\",\"type\":\"HoverTool\"},{\"attributes\":{\"below\":[{\"id\":\"6db59935-e398-41a9-b011-b49f101bfc92\",\"type\":\"LinearAxis\"}],\"left\":[{\"id\":\"5fd624e4-d52b-4c61-934a-ec716c3a99c1\",\"type\":\"LinearAxis\"}],\"plot_height\":400,\"plot_width\":800,\"renderers\":[{\"id\":\"6db59935-e398-41a9-b011-b49f101bfc92\",\"type\":\"LinearAxis\"},{\"id\":\"4ae1570e-a690-42a9-bc21-a56213c050bd\",\"type\":\"Grid\"},{\"id\":\"5fd624e4-d52b-4c61-934a-ec716c3a99c1\",\"type\":\"LinearAxis\"},{\"id\":\"76ce43b9-38d0-4cba-a0d0-273380c6f8d8\",\"type\":\"Grid\"},{\"id\":\"f456c60c-b84d-4473-ab97-6ef9b645fe40\",\"type\":\"BoxAnnotation\"},{\"id\":\"8c06c1da-3b78-416a-a335-bf37b52d33dc\",\"type\":\"Legend\"},{\"id\":\"9c571ce6-828d-4c21-b417-e440b0393599\",\"type\":\"GlyphRenderer\"}],\"title\":{\"id\":\"b7817fba-6c70-4fc0-acbb-7641b0679844\",\"type\":\"Title\"},\"toolbar\":{\"id\":\"e2ba37d8-3684-4334-b106-4a5fb3b5c563\",\"type\":\"Toolbar\"},\"x_range\":{\"id\":\"fe0067a9-7ded-4e34-8903-dc4b6d174af5\",\"type\":\"DataRange1d\"},\"x_scale\":{\"id\":\"16dee6eb-b2e7-4a80-9afe-ceb58511d492\",\"type\":\"LinearScale\"},\"y_range\":{\"id\":\"50b80264-17c4-4ea0-bf7b-2e37b21a2946\",\"type\":\"DataRange1d\"},\"y_scale\":{\"id\":\"0d3dae7a-1e44-475e-98e8-ebbf41407fcc\",\"type\":\"LinearScale\"}},\"id\":\"13d64505-1d6e-4939-94cf-f8e341ab3390\",\"subtype\":\"Figure\",\"type\":\"Plot\"},{\"attributes\":{\"label\":{\"field\":\"Position\"},\"renderers\":[{\"id\":\"9c571ce6-828d-4c21-b417-e440b0393599\",\"type\":\"GlyphRenderer\"}]},\"id\":\"a7421321-97ad-498c-9ffb-496c5f040243\",\"type\":\"LegendItem\"},{\"attributes\":{\"callback\":null},\"id\":\"d182d14c-7342-4a56-9c30-e06dcf8af6ed\",\"type\":\"DataRange1d\"},{\"attributes\":{\"callback\":null},\"id\":\"62c13c06-0005-41d0-9b1c-b3c009d4c275\",\"type\":\"DataRange1d\"},{\"attributes\":{\"items\":[{\"id\":\"50697832-323b-4121-ad7a-866ddd7c1acd\",\"type\":\"LegendItem\"}],\"location\":\"bottom_right\",\"plot\":{\"id\":\"2f790e6a-c03a-4c4b-873c-609afdccfd99\",\"subtype\":\"Figure\",\"type\":\"Plot\"}},\"id\":\"19001e52-d6b2-4573-9b95-59c2e06fda99\",\"type\":\"Legend\"},{\"attributes\":{},\"id\":\"99c1a29c-d832-4c70-b1a7-7a1d85a18f1f\",\"type\":\"BasicTickFormatter\"},{\"attributes\":{\"source\":{\"id\":\"bcbe01f5-4009-4a34-8eab-e0987e6e1d86\",\"type\":\"ColumnDataSource\"}},\"id\":\"34c079df-b753-417e-8ace-96d4dec6a3fc\",\"type\":\"CDSView\"},{\"attributes\":{\"bottom_units\":\"screen\",\"fill_alpha\":{\"value\":0.5},\"fill_color\":{\"value\":\"lightgrey\"},\"left_units\":\"screen\",\"level\":\"overlay\",\"line_alpha\":{\"value\":1.0},\"line_color\":{\"value\":\"black\"},\"line_dash\":[4,4],\"line_width\":{\"value\":2},\"plot\":null,\"render_mode\":\"css\",\"right_units\":\"screen\",\"top_units\":\"screen\"},\"id\":\"f456c60c-b84d-4473-ab97-6ef9b645fe40\",\"type\":\"BoxAnnotation\"},{\"attributes\":{},\"id\":\"fc60251e-1ebd-4585-8582-c5a24172c6b2\",\"type\":\"WheelZoomTool\"},{\"attributes\":{\"plot\":null,\"text\":\"NBA Salaries by Age\"},\"id\":\"b7817fba-6c70-4fc0-acbb-7641b0679844\",\"type\":\"Title\"},{\"attributes\":{\"source\":{\"id\":\"bcbe01f5-4009-4a34-8eab-e0987e6e1d86\",\"type\":\"ColumnDataSource\"}},\"id\":\"cce1ce2e-71c9-40a8-8566-f58d41db8527\",\"type\":\"CDSView\"},{\"attributes\":{\"callback\":null,\"column_names\":[\"Salary\",\"Player\",\"Team\",\"Position\",\"Age\",\"PSG\",\"LogSalary\"],\"data\":{\"Age\":{\"__ndarray__\":\"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\",\"dtype\":\"float64\",\"shape\":[379]},\"LogSalary\":{\"__ndarray__\":\"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\",\"dtype\":\"float64\",\"shape\":[379]},\"PSG\":{\"__ndarray__\":\"mpmZmZkZPkAAAAAAAAA9QDMzMzMzMzxAZmZmZmbmOkDNzMzMzEw5QJqZmZmZGTlAzczMzMxMOEAAAAAAAIA3QAAAAAAAgDdAmpmZmZkZN0AzMzMzMzM2QJqZmZmZGTZAzczMzMzMNUBmZmZmZmY1QDMzMzMzMzVAZmZmZmbmNEBmZmZmZuY0QM3MzMzMzDRAMzMzMzOzNEBmZmZmZmY0QGZmZmZm5jNAMzMzMzOzM0CamZmZmZkzQJqZmZmZmTNAAAAAAACAM0AAAAAAAIAzQJqZmZmZGTNAAAAAAAAAM0DNzMzMzMwyQM3MzMzMTDJAzczMzMxMMkAzMzMzMzMyQDMzMzMzMzJAAAAAAAAAMkCamZmZmZkxQAAAAAAAgDFAZmZmZmZmMUAzMzMzMzMxQJqZmZmZGTFAZmZmZmbmMEDNzMzMzMwwQJqZmZmZmTBAAAAAAACAMEBmZmZmZmYwQM3MzMzMTDBAMzMzMzMzMEAAAAAAAAAwQAAAAAAAADBAZmZmZmZmL0DNzMzMzMwuQJqZmZmZmS5AmpmZmZmZLkBmZmZmZmYuQGZmZmZmZi5AZmZmZmZmLkAzMzMzMzMuQM3MzMzMzC1AZmZmZmZmLUAAAAAAAAAtQAAAAAAAAC1AzczMzMzMLECamZmZmZksQGZmZmZmZixAZmZmZmZmLEBmZmZmZmYsQDMzMzMzMyxAMzMzMzMzLEAzMzMzMzMsQAAAAAAAACxAAAAAAAAALEAAAAAAAAAsQJqZmZmZmStAmpmZmZmZK0BmZmZmZmYrQGZmZmZmZitAAAAAAAAAK0CamZmZmZkqQGZmZmZmZipAmpmZmZmZKUCamZmZmZkpQJqZmZmZmSlAmpmZmZmZKUCamZmZmZkpQJqZmZmZmSlAZmZmZmZmKUBmZmZmZmYpQGZmZmZmZilAMzMzMzMzKUAAAAAAAAApQJqZmZmZmShAmpmZmZmZKEBmZmZmZmYoQGZmZmZmZihAAAAAAAAAKEAAAAAAAAAoQM3MzMzMzCdAzczMzMzMJ0CamZmZmZknQJqZmZmZmSdAmpmZmZmZJ0BmZmZmZmYnQGZmZmZmZidAZmZmZmZmJ0BmZmZmZmYnQDMzMzMzMydAAAAAAAAAJ0DNzMzMzMwmQJqZmZmZmSZAZmZmZmZmJkAzMzMzMzMmQDMzMzMzMyZAAAAAAAAAJkAAAAAAAAAmQAAAAAAAACZAzczMzMzMJUBmZmZmZmYlQDMzMzMzMyVAMzMzMzMzJUAAAAAAAAAlQAAAAAAAACVAzczMzMzMJECamZmZmZkkQJqZmZmZmSRAmpmZmZmZJECamZmZmZkkQGZmZmZmZiRAZmZmZmZmJEAzMzMzMzMkQDMzMzMzMyRAAAAAAAAAJEAAAAAAAAAkQAAAAAAAACRAzczMzMzMI0DNzMzMzMwjQM3MzMzMzCNAmpmZmZmZI0CamZmZmZkjQJqZmZmZmSNAZmZmZmZmI0BmZmZmZmYjQDMzMzMzMyNAMzMzMzMzI0AAAAAAAAAjQM3MzMzMzCJAmpmZmZmZIkCamZmZmZkiQGZmZmZmZiJAZmZmZmZmIkBmZmZmZmYiQDMzMzMzMyJAMzMzMzMzIkAzMzMzMzMiQAAAAAAAACJAzczMzMzMIUDNzMzMzMwhQM3MzMzMzCFAmpmZmZmZIUCamZmZmZkhQGZmZmZmZiFAZmZmZmZmIUBmZmZmZmYhQGZmZmZmZiFAZmZmZmZmIUBmZmZmZmYhQDMzMzMzMyFAMzMzMzMzIUAzMzMzMzMhQDMzMzMzMyFAAAAAAAAAIUAAAAAAAAAhQM3MzMzMzCBAzczMzMzMIEDNzMzMzMwgQJqZmZmZmSBAZmZmZmZmIEBmZmZmZmYgQGZmZmZmZiBAMzMzMzMzIEAAAAAAAAAgQAAAAAAAACBAmpmZmZmZH0CamZmZmZkfQDMzMzMzMx9AMzMzMzMzH0AzMzMzMzMfQM3MzMzMzB5AzczMzMzMHkBmZmZmZmYeQGZmZmZmZh5AZmZmZmZmHkAAAAAAAAAeQAAAAAAAAB5AmpmZmZmZHUAzMzMzMzMdQDMzMzMzMx1AMzMzMzMzHUAzMzMzMzMdQDMzMzMzMx1AzczMzMzMHEDNzMzMzMwcQM3MzMzMzBxAzczMzMzMHEDNzMzMzMwcQM3MzMzMzBxAzczMzMzMHEBmZmZmZmYcQGZmZmZmZhxAZmZmZmZmHEAAAAAAAAAcQAAAAAAAABxAAAAAAAAAHEAAAAAAAAAcQAAAAAAAABxAAAAAAAAAHEAAAAAAAAAcQJqZmZmZmRtAmpmZmZmZG0CamZmZmZkbQJqZmZmZmRtAMzMzMzMzG0BmZmZmZmYaQGZmZmZmZhpAZmZmZmZmGkAAAAAAAAAaQAAAAAAAABpAmpmZmZmZGUCamZmZmZkZQJqZmZmZmRlAmpmZmZmZGUCamZmZmZkZQDMzMzMzMxlAMzMzMzMzGUAzMzMzMzMZQM3MzMzMzBhAzczMzMzMGEDNzMzMzMwYQGZmZmZmZhhAZmZmZmZmGEBmZmZmZmYYQGZmZmZmZhhAZmZmZmZmGEBmZmZmZmYYQAAAAAAAABhAAAAAAAAAGECamZmZmZkXQJqZmZmZmRdAmpmZmZmZF0CamZmZmZkXQDMzMzMzMxdAMzMzMzMzF0DNzMzMzMwWQM3MzMzMzBZAzczMzMzMFkBmZmZmZmYWQGZmZmZmZhZAZmZmZmZmFkBmZmZmZmYWQGZmZmZmZhZAZmZmZmZmFkBmZmZmZmYWQAAAAAAAABZAAAAAAAAAFkAAAAAAAAAWQJqZmZmZmRVAmpmZmZmZFUAzMzMzMzMVQDMzMzMzMxVAZmZmZmZmFEBmZmZmZmYUQGZmZmZmZhRAAAAAAAAAFEAAAAAAAAAUQDMzMzMzMxNAMzMzMzMzE0AzMzMzMzMTQM3MzMzMzBJAzczMzMzMEkDNzMzMzMwSQAAAAAAAABJAAAAAAAAAEkAAAAAAAAASQAAAAAAAABJAAAAAAAAAEkCamZmZmZkRQJqZmZmZmRFAMzMzMzMzEUAzMzMzMzMRQDMzMzMzMxFAMzMzMzMzEUDNzMzMzMwQQM3MzMzMzBBAzczMzMzMEEDNzMzMzMwQQM3MzMzMzBBAZmZmZmZmEEBmZmZmZmYQQAAAAAAAABBAAAAAAAAAEEAAAAAAAAAQQAAAAAAAABBAAAAAAAAAEEAzMzMzMzMPQDMzMzMzMw9AZmZmZmZmDkBmZmZmZmYOQGZmZmZmZg5AmpmZmZmZDUCamZmZmZkNQJqZmZmZmQ1AmpmZmZmZDUCamZmZmZkNQM3MzMzMzAxAzczMzMzMDEDNzMzMzMwMQM3MzMzMzAxAAAAAAAAADEAAAAAAAAAMQAAAAAAAAAxAMzMzMzMzC0AzMzMzMzMLQDMzMzMzMwtAZmZmZmZmCkBmZmZmZmYKQJqZmZmZmQlAzczMzMzMCEDNzMzMzMwIQAAAAAAAAAhAAAAAAAAACEAzMzMzMzMHQDMzMzMzMwdAZmZmZmZmBkBmZmZmZmYGQGZmZmZmZgZAZmZmZmZmBkCamZmZmZkFQJqZmZmZmQVAzczMzMzMBEDNzMzMzMwEQAAAAAAAAARAAAAAAAAABEAAAAAAAAAEQAAAAAAAAARAMzMzMzMzA0AzMzMzMzMDQDMzMzMzMwNAMzMzMzMzA0AzMzMzMzMDQDMzMzMzMwNAZmZmZmZmAkBmZmZmZmYCQJqZmZmZmQFAzczMzMzMAEDNzMzMzMwAQM3MzMzMzABAAAAAAAAAAEDNzMzMzMz8P83MzMzMzPw/zczMzMzM/D/NzMzMzMz8P83MzMzMzPw/zczMzMzM/D/NzMzMzMz8P5qZmZmZmfk/mpmZmZmZ+T8AAAAAAAD4PwAAAAAAAPg/ZmZmZmZm9j/NzMzMzMz0P83MzMzMzPQ/MzMzMzMz8z8zMzMzMzPzP5qZmZmZmfE/AAAAAAAA8D8AAAAAAADwP83MzMzMzOw/zczMzMzM7D/NzMzMzMzsPwAAAAAAAOA/AAAAAAAAAAA=\",\"dtype\":\"float64\",\"shape\":[379]},\"Player\":[\"Stephen Curry\",\"James Harden\",\"Kevin Durant\",\"DeMarcus Cousins\",\"LeBron James\",\"Damian Lillard\",\"Anthony Davis\",\"DeMar DeRozan\",\"Russell Westbrook\",\"Paul George\",\"Isaiah Thomas\",\"Klay Thompson\",\"Carmelo Anthony\",\"Blake Griffin\",\"Kawhi Leonard\",\"Jimmy Butler\",\"Kemba Walker\",\"C.J. McCollum\",\"Andrew Wiggins\",\"Eric Bledsoe\",\"John Wall\",\"Gordon Hayward\",\"Kyrie Irving\",\"Brandon Knight\",\"Danilo Gallinari\",\"Chris Paul\",\"Chris Bosh\",\"Dwyane Wade\",\"Reggie Jackson\",\"Dirk Nowitzki\",\"Karl-Anthony Towns\",\"Khris Middleton\",\"Nikola Vucevic\",\"LaMarcus Aldridge\",\"Kobe Bryant\",\"Jahlil Okafor\",\"Bradley Beal\",\"Rudy Gay\",\"Paul Millsap\",\"Giannis Antetokounmpo\",\"Jrue Holiday\",\"Marc Gasol\",\"Pau Gasol\",\"Derrick Rose\",\"J.J. Redick\",\"Andre Drummond\",\"Kevin Love\",\"Victor Oladipo\",\"Jeff Teague\",\"Evan Fournier\",\"Mike Conley\",\"Zach Randolph\",\"Avery Bradley\",\"Tyreke Evans\",\"Eric Gordon\",\"Thaddeus Young\",\"Nicolas Batum\",\"Tobias Harris\",\"Kentavious Caldwell-Pope\",\"Rodney Hood\",\"Will Barton\",\"Kristaps Porzingis\",\"Jamal Crawford\",\"Jae Crowder\",\"Hassan Whiteside\",\"Goran Dragic\",\"Jabari Parker\",\"Deron Williams\",\"Darren Collison\",\"Draymond Green\",\"Zach LaVine\",\"Devin Booker\",\"Monta Ellis\",\"Dwight Howard\",\"Chandler Parsons\",\"Marcin Gortat\",\"Alec Burks\",\"D'Angelo Russell\",\"Arron Afflalo\",\"Michael Beasley\",\"Robert Covington\",\"Jarrett Jack\",\"Emmanuel Mudiay\",\"Jonas Valanciunas\",\"Trevor Ariza\",\"Enes Kanter\",\"Michael Kidd-Gilchrist\",\"Serge Ibaka\",\"Kenneth Faried\",\"Luol Deng\",\"Gary Harris\",\"Joe Johnson\",\"Mirza Teletovic\",\"Al Jefferson\",\"Markieff Morris\",\"Tony Parker\",\"Rajon Rondo\",\"Omri Casspi\",\"C.J. Miles\",\"Nikola Mirotic\",\"Harrison Barnes\",\"Jeff Green\",\"Jeremy Lin\",\"Marvin Williams\",\"Kent Bazemore\",\"Michael Carter-Williams\",\"Jordan Hamilton\",\"Julius Randle\",\"Bojan Bogdanovic\",\"Sean Kilpatrick\",\"Nerlens Noel\",\"Isaiah Canaan\",\"DeMarre Carroll\",\"Dennis Schroder\",\"J.J. Barea\",\"Elfrid Payton\",\"Trey Burke\",\"Norris Cole\",\"Shabazz Muhammad\",\"Evan Turner\",\"Ersan Ilyasova\",\"Mario Chalmers\",\"Robin Lopez\",\"Jared Sullinger\",\"Myles Turner\",\"Al-Farouq Aminu\",\"Marco Belinelli\",\"Gorgui Dieng\",\"Ricky Rubio\",\"Matt Barnes\",\"Nikola Jokic\",\"Kelly Olynyk\",\"Patrick Beverley\",\"Terrence Ross\",\"Ramon Sessions\",\"Carl Landry\",\"Gary Neal\",\"Dion Waiters\",\"Jerami Grant\",\"Marcus Thornton\",\"Manu Ginobili\",\"Courtney Lee\",\"Raymond Felton\",\"Doug McDermott\",\"Ian Mahinmi\",\"Kevin Martin\",\"Aaron Gordon\",\"Nene Hilario\",\"Kyle Korver\",\"Rudy Gobert\",\"Mason Plumlee\",\"Marcus Smart\",\"Alex Len\",\"Archie Goodwin\",\"Austin Rivers\",\"Rodney Stuckey\",\"Jordan Hill\",\"Jeremy Lamb\",\"Toney Douglas\",\"Gerald Henderson\",\"Tyler Johnson\",\"Terrence Jones\",\"Luis Scola\",\"Cody Zeller\",\"Tim Duncan\",\"Taj Gibson\",\"Shelvin Mack\",\"Zaza Pachulia\",\"Jon Leuer\",\"Nik Stauskas\",\"Tony Allen\",\"Meyers Leonard\",\"Tony Wroten\",\"Lance Stephenson\",\"Jusuf Nurkic\",\"Lance Thomas\",\"Mo Williams\",\"Stanley Johnson\",\"Steven Adams\",\"P.J. Tucker\",\"Jared Dudley\",\"Joffrey Lauvergne\",\"David Lee\",\"Ben McLemore\",\"Tristan Thompson\",\"Wayne Ellington\",\"Jameer Nelson\",\"Jose Calderon\",\"Langston Galloway\",\"Devin Harris\",\"Darrell Arthur\",\"Matthew Dellavedova\",\"JaMychal Green\",\"Amir Johnson\",\"Shane Larkin\",\"Jodie Meeks\",\"Garrett Temple\",\"Nick Young\",\"Brandon Bass\",\"Corey Brewer\",\"Tyson Chandler\",\"Mike Dunleavy\",\"James Ennis\",\"Danny Green\",\"Jason Smith\",\"Aaron Brooks\",\"Marreese Speights\",\"David West\",\"Luke Babbitt\",\"Clint Capela\",\"Willie Cauley-Stein\",\"Festus Ezeli\",\"John Henson\",\"Andre Iguodala\",\"Bobby Portis\",\"Brandon Jennings\",\"Andrew Nicholson\",\"Patrick Patterson\",\"Brandan Wright\",\"Kosta Koufos\",\"Andrea Bargnani\",\"Vince Carter\",\"Josh Richardson\",\"Ed Davis\",\"Kris Humphries\",\"Leandro Barbosa\",\"Boris Diaw\",\"Maurice Harkless\",\"Thabo Sefolosha\",\"Justise Winslow\",\"Aron Baynes\",\"Shaun Livingston\",\"Timofey Mozgov\",\"P.J. Hairston\",\"Donatas Motiejunas\",\"Mike Scott\",\"Dante Cunningham\",\"Channing Frye\",\"Mario Hezonja\",\"Trey Lyles\",\"Paul Pierce\",\"Tyler Zeller\",\"Alexis Ajinca\",\"Spencer Hawes\",\"Trevor Booker\",\"Randy Foye\",\"Roy Hibbert\",\"Raul Neto\",\"Rondae Hollis-Jefferson\",\"Iman Shumpert\",\"Ty Lawson\",\"Jarell Martin\",\"Greivis Vasquez\",\"Troy Daniels\",\"Bryce Dejean-Jones\",\"Jerian Grant\",\"Richaun Holmes\",\"Anthony Morrow\",\"Norman Powell\",\"Tiago Splitter\",\"Cole Aldrich\",\"Boban Marjanovic\",\"Larry Nance Jr.\",\"Lavoy Allen\",\"Andrew Bogut\",\"Tony Snell\",\"Anthony Tolliver\",\"Nemanja Bjelica\",\"Miles Plumlee\",\"JaKarr Sampson\",\"James Johnson\",\"Cameron Payne\",\"Spencer Dinwiddie\",\"Kyle O'Quinn\",\"Andre Roberson\",\"Chris McCullough\",\"Willie Reed\",\"Beno Udrih\",\"Kyle Anderson\",\"Tyler Ennis\",\"Alonzo Gee\",\"Jordan McRae\",\"Nikola Pekovic\",\"Steve Blake\",\"Jonas Jerebko\",\"Joakim Noah\",\"Thomas Robinson\",\"C.J. Watson\",\"Jeff Withey\",\"Solomon Hill\",\"Joe Ingles\",\"Tyus Jones\",\"Ryan Kelly\",\"Brandon Rush\",\"Chase Budinger\",\"John Jenkins\",\"Omer Asik\",\"Anthony Brown\",\"Rakeem Christmas\",\"Darrun Hilliard\",\"Brian Roberts\",\"Chris Andersen\",\"Kevin Seraphin\",\"Justin Anderson\",\"Delon Wright\",\"Joe Young\",\"Caron Butler\",\"Orlando Johnson\",\"Kendall Marshall\",\"Andre Miller\",\"Shabazz Napier\",\"Montrezl Harrell\",\"Josh McRoberts\",\"Noah Vonleh\",\"Christian Wood\",\"Jordan Adams\",\"James Anderson\",\"Robert Sacre\",\"Cristiano Felicio\",\"Ryan Hollins\",\"Kyle Singler\",\"Reggie Bullock\",\"Phil Pressey\",\"Kevin Garnett\",\"Jason Thompson\",\"Rashad Vaughn\",\"Thanasis Antetokounmpo\",\"Kirk Hinrich\",\"Chris Johnson\",\"Alan Williams\",\"Andrew Goudelock\",\"Josh Huestis\",\"Cory Jefferson\",\"Chris Kaman\",\"Drew Gooden\",\"R.J. Hunter\",\"Kostas Papanikolaou\",\"Anderson Varejao\",\"Lorenzo Brown\",\"Adreian Payne\",\"Pablo Prigioni\",\"Sonny Weems\",\"Jarell Eddie\",\"Jeremy Evans\",\"Tyler Hansbrough\",\"Sergey Karasev\",\"K.J. McDaniels\",\"Steve Novak\",\"Damjan Rudez\",\"Walter Tavares\",\"Lucas Nogueira\",\"DeJuan Blair\",\"Nick Collison\",\"Chris Copeland\",\"Tibor Pleiss\",\"Lou Amundson\",\"Jeff Ayres\",\"Jorge Gutierrez\",\"Damien Inglis\",\"Kevon Looney\",\"Elijah Millsap\",\"Terry Rozier\",\"Nazr Mohammed\",\"Elliot Williams\",\"Jimmer Fredette\",\"Russ Smith\",\"Erick Green\",\"Mitch McGary\",\"Jordan Mickey\",\"Keith Appling\",\"Luis Montero\",\"Pat Connaughton\",\"Bryce Cotton\",\"James Young\",\"Joel Anthony\",\"Aaron Harrison\",\"Sasha Kaun\",\"Bruno Caboclo\",\"Sam Dekker\"],\"Position\":[\"PG\",\"SG\",\"SF\",\"C\",\"SF\",\"PG\",\"PF\",\"SG\",\"PG\",\"SF\",\"PG\",\"SG\",\"SF\",\"PF\",\"SF\",\"SG\",\"PG\",\"SG\",\"SF\",\"PG\",\"PG\",\"SF\",\"PG\",\"SG\",\"SF\",\"PG\",\"PF\",\"SG\",\"PG\",\"PF\",\"C\",\"SG\",\"C\",\"PF\",\"SF\",\"C\",\"SG\",\"SF\",\"PF\",\"PG\",\"PG\",\"C\",\"C\",\"PG\",\"SG\",\"C\",\"PF\",\"SG\",\"PG\",\"SF\",\"PG\",\"PF\",\"SG\",\"SG\",\"SG\",\"PF\",\"SF\",\"PF\",\"SG\",\"SG\",\"SG\",\"PF\",\"SG\",\"SF\",\"C\",\"PG\",\"PF\",\"PG\",\"PG\",\"PF\",\"SG\",\"SG\",\"SG\",\"C\",\"SF\",\"C\",\"SG\",\"PG\",\"SG\",\"SF\",\"SF\",\"PG\",\"PG\",\"C\",\"SF\",\"C\",\"SF\",\"PF\",\"PF\",\"PF\",\"SG\",\"SF\",\"PF\",\"C\",\"PF\",\"PG\",\"PG\",\"SF\",\"SF\",\"PF\",\"SF\",\"SF\",\"SG\",\"PF\",\"SF\",\"PG\",\"SF\",\"PF\",\"SF\",\"SG\",\"C\",\"SG\",\"SF\",\"PG\",\"PG\",\"PG\",\"PG\",\"PG\",\"SF\",\"SG\",\"PF\",\"PG\",\"C\",\"PF\",\"C\",\"SF\",\"SG\",\"C\",\"PG\",\"SF\",\"C\",\"C\",\"PG\",\"SF\",\"PG\",\"PF\",\"SG\",\"SG\",\"SF\",\"SG\",\"SG\",\"SG\",\"PG\",\"SF\",\"C\",\"SG\",\"PF\",\"PF\",\"SG\",\"C\",\"C\",\"PG\",\"C\",\"PG\",\"SG\",\"PG\",\"C\",\"SG\",\"PG\",\"SG\",\"SG\",\"PF\",\"PF\",\"C\",\"C\",\"PF\",\"PG\",\"C\",\"PF\",\"SG\",\"SG\",\"PF\",\"PG\",\"SF\",\"C\",\"PF\",\"PG\",\"SF\",\"C\",\"SF\",\"PF\",\"C\",\"PF\",\"SG\",\"PF\",\"SG\",\"PG\",\"PG\",\"PG\",\"PG\",\"PF\",\"PG\",\"PF\",\"PF\",\"PG\",\"SG\",\"SF\",\"SG\",\"PF\",\"SF\",\"C\",\"SF\",\"SF\",\"SG\",\"C\",\"PG\",\"C\",\"PF\",\"SF\",\"C\",\"C\",\"C\",\"C\",\"SF\",\"PF\",\"PG\",\"PF\",\"PF\",\"PF\",\"C\",\"C\",\"SG\",\"SG\",\"PF\",\"PF\",\"SG\",\"PF\",\"SF\",\"SF\",\"SF\",\"C\",\"PG\",\"C\",\"SF\",\"PF\",\"PF\",\"SF\",\"PF-C\",\"SF\",\"PF\",\"SF\",\"C\",\"C\",\"PF\",\"PF\",\"SG\",\"C\",\"PG\",\"SF\",\"SG\",\"PG\",\"PF\",\"PG\",\"SG\",\"SG\",\"PG\",\"PF\",\"SG\",\"SG\",\"C\",\"C\",\"C\",\"PF\",\"PF\",\"C\",\"SF\",\"PF\",\"PF\",\"C\",\"SF\",\"PF\",\"PG\",\"PG\",\"PF\",\"SG\",\"PF\",\"PF\",\"PG\",\"SF\",\"PG\",\"SF\",\"PG\",\"C\",\"PG\",\"PF\",\"C\",\"PF\",\"PG\",\"C\",\"SF\",\"SF\",\"PG\",\"PF\",\"SG\",\"SF\",\"SG\",\"C\",\"SF\",\"PF\",\"SG\",\"PG\",\"C\",\"C\",\"SF\",\"PG\",\"PG\",\"SF\",\"SG\",\"PG\",\"PG\",\"PG\",\"PF\",\"PF\",\"PF\",\"PF\",\"SG\",\"SG\",\"C\",\"C\",\"C\",\"SF\",\"SF\",\"PG\",\"PF\",\"C\",\"SG\",\"SF\",\"PG\",\"SF\",\"PF\",\"PG\",\"PF\",\"PF\",\"C\",\"PF\",\"SG\",\"SF\",\"C\",\"PG\",\"PF\",\"PG\",\"SG-SF\",\"SF\",\"SF\",\"PF\",\"SF\",\"SF\",\"PF\",\"SF\",\"C\",\"C\",\"C\",\"PF\",\"PF\",\"C\",\"PF\",\"C\",\"PG\",\"SF\",\"PF\",\"SG\",\"PG\",\"C\",\"PG\",\"SG\",\"PG\",\"PG\",\"PF\",\"PF\",\"PG\",\"SG\",\"SG\",\"PG\",\"SG\",\"C\",\"SG\",\"C\",\"SF\",\"SF\"],\"Salary\":[11370786,15756438,20158622,15851950,22970500,4236287,7070730,10050000,16744218,17120106,6912869,15501000,22875000,18907726,16407500,16407500,12000000,2525160,5758680,13500000,15851950,15409570,16407501,13500000,14000000,21468695,22192730,20000000,13913044,8333334,5703600,14700000,11250000,19689000,25000000,4582680,5694674,12403101,18671659,1953960,10595507,19688000,7448760,20093064,7085000,3272091,19689000,5192520,8000000,2288205,9588426,9638555,7730337,10734586,15514031,11235955,13125306,16000000,2891760,1348440,3533333,4131720,5675000,6796117,981348,14783000,5152440,5378974,5013559,14260870,2148360,2127840,10300000,22359364,15361500,11217391,9463484,5103120,8000000,306527,1000000,6300000,3102240,4660482,8193030,16407500,6331404,12250000,11235955,10151612,1584480,261894,5500000,13500000,8000000,13437500,9500000,2836186,4394225,5543725,3873398,9650000,2139000,7000000,2000000,2399040,1015421,3132240,3425510,134215,3457800,947276,13600000,1763400,4290000,2505720,2658240,3036927,2056920,3425510,7900000,4300000,12650000,2569260,2357760,8042895,6060606,1474440,12700000,3542500,1300000,2165160,6486486,3553917,2170465,6500000,2139000,5138430,845059,200600,2814000,5675000,3950313,2380440,4000000,200600,4171680,13000000,5746479,1175880,1415520,3431040,3807120,1160160,3110796,7000000,4000000,3034356,1164858,6000000,845059,2489530,2900000,4204200,5250000,8500000,2433333,5200000,1035000,2869440,5158539,3075880,167406,9000000,1842000,1636842,2100000,2841960,2279040,5500000,4375000,1709719,2085671,3156600,14260870,1500000,4345000,7402812,845059,4053446,2814000,1147276,845059,12000000,1500000,6270000,1100602,5219169,3000000,8229375,13000000,4500000,845059,10000000,4300000,2250000,3815000,1499187,1100602,1242720,3398280,2008748,2943221,11710456,1391160,8344497,2380593,6268675,5464000,7700000,1362897,4088019,525093,6980802,1000000,2500000,7500000,2894059,4000000,2481720,6500000,5543725,4950000,1201440,2288205,3333333,2850000,8193029,3741480,2239800,3376000,2616975,4389607,6110034,4775000,3135000,15592217,900000,1335480,8988765,211744,1230840,6600000,947276,169883,1572360,1074169,3344000,650000,9756250,1100602,1200000,1155600,4050000,13800000,1535880,3000000,3950001,2109294,258489,2500000,2021520,845059,3750000,1210800,1140240,947276,2170465,1142880,1662360,1320000,111196,12100000,2170465,5000000,13400000,981348,5000000,947276,1358880,2050000,1282080,1724250,1270964,206192,981348,9213483,700000,1007026,600000,2854940,5000000,2814000,1449000,1509360,1007026,1449187,55722,2144772,250750,1294440,1000000,5543725,2637720,525093,1404600,1015421,981348,525093,239605,4500000,1252440,55722,8500000,245177,1733040,30888,2854940,981348,83397,200600,1140240,49709,5016000,3300000,1148640,800321,289755,111444,1938840,947726,2814000,561716,1100602,947276,1599840,3189794,295327,1149500,1000000,1842000,2000000,3750000,1150000,2900000,1635476,111444,189455,855000,1131960,845059,1824360,222888,55722,874837,845059,99418,1463040,1170960,61776,525093,625093,700902,1749840,2500000,525093,1276000,1524000,1646400],\"Team\":[\"GSW\",\"HOU\",\"OKC\",\"SAC\",\"CLE\",\"POR\",\"NOP\",\"TOR\",\"OKC\",\"IND\",\"BOS\",\"GSW\",\"NYK\",\"LAC\",\"SAS\",\"CHI\",\"CHO\",\"POR\",\"MIN\",\"PHO\",\"WAS\",\"UTA\",\"CLE\",\"PHO\",\"DEN\",\"LAC\",\"MIA\",\"MIA\",\"DET\",\"DAL\",\"MIN\",\"MIL\",\"ORL\",\"SAS\",\"LAL\",\"PHI\",\"WAS\",\"SAC\",\"ATL\",\"MIL\",\"NOP\",\"MEM\",\"CHI\",\"CHI\",\"LAC\",\"DET\",\"CLE\",\"ORL\",\"ATL\",\"ORL\",\"MEM\",\"MEM\",\"BOS\",\"NOP\",\"NOP\",\"BRK\",\"CHO\",\"TOT\",\"DET\",\"UTA\",\"DEN\",\"NYK\",\"LAC\",\"BOS\",\"MIA\",\"MIA\",\"MIL\",\"DAL\",\"SAC\",\"GSW\",\"MIN\",\"PHO\",\"IND\",\"HOU\",\"DAL\",\"WAS\",\"UTA\",\"LAL\",\"NYK\",\"HOU\",\"PHI\",\"BRK\",\"DEN\",\"TOR\",\"HOU\",\"OKC\",\"CHO\",\"OKC\",\"DEN\",\"MIA\",\"DEN\",\"TOT\",\"PHO\",\"CHO\",\"TOT\",\"SAS\",\"SAC\",\"SAC\",\"IND\",\"CHI\",\"GSW\",\"TOT\",\"CHO\",\"CHO\",\"ATL\",\"MIL\",\"NOP\",\"LAL\",\"BRK\",\"TOT\",\"PHI\",\"PHI\",\"TOR\",\"ATL\",\"DAL\",\"ORL\",\"UTA\",\"NOP\",\"MIN\",\"BOS\",\"TOT\",\"TOT\",\"NYK\",\"BOS\",\"IND\",\"POR\",\"SAC\",\"MIN\",\"MIN\",\"MEM\",\"DEN\",\"BOS\",\"HOU\",\"TOR\",\"WAS\",\"PHI\",\"WAS\",\"OKC\",\"PHI\",\"TOT\",\"SAS\",\"TOT\",\"DAL\",\"CHI\",\"IND\",\"TOT\",\"ORL\",\"WAS\",\"ATL\",\"UTA\",\"POR\",\"BOS\",\"PHO\",\"PHO\",\"LAC\",\"IND\",\"IND\",\"CHO\",\"NOP\",\"POR\",\"MIA\",\"HOU\",\"TOR\",\"CHO\",\"SAS\",\"CHI\",\"TOT\",\"DAL\",\"PHO\",\"PHI\",\"MEM\",\"POR\",\"PHI\",\"TOT\",\"DEN\",\"NYK\",\"CLE\",\"DET\",\"OKC\",\"PHO\",\"WAS\",\"DEN\",\"TOT\",\"SAC\",\"CLE\",\"BRK\",\"DEN\",\"NYK\",\"NYK\",\"DAL\",\"DEN\",\"CLE\",\"MEM\",\"BOS\",\"BRK\",\"DET\",\"WAS\",\"LAL\",\"LAL\",\"HOU\",\"PHO\",\"CHI\",\"TOT\",\"SAS\",\"ORL\",\"CHI\",\"GSW\",\"SAS\",\"NOP\",\"HOU\",\"SAC\",\"GSW\",\"MIL\",\"GSW\",\"CHI\",\"TOT\",\"ORL\",\"TOR\",\"MEM\",\"SAC\",\"BRK\",\"MEM\",\"MIA\",\"POR\",\"TOT\",\"GSW\",\"SAS\",\"POR\",\"ATL\",\"MIA\",\"DET\",\"GSW\",\"CLE\",\"TOT\",\"HOU\",\"ATL\",\"NOP\",\"TOT\",\"ORL\",\"UTA\",\"LAC\",\"BOS\",\"NOP\",\"CHO\",\"UTA\",\"TOT\",\"LAL\",\"UTA\",\"BRK\",\"CLE\",\"TOT\",\"MEM\",\"MIL\",\"CHO\",\"NOP\",\"NYK\",\"PHI\",\"OKC\",\"TOR\",\"ATL\",\"LAC\",\"SAS\",\"LAL\",\"IND\",\"GSW\",\"CHI\",\"DET\",\"MIN\",\"MIL\",\"TOT\",\"TOR\",\"OKC\",\"DET\",\"NYK\",\"OKC\",\"BRK\",\"BRK\",\"TOT\",\"SAS\",\"MIL\",\"NOP\",\"TOT\",\"MIN\",\"DET\",\"BOS\",\"CHI\",\"BRK\",\"ORL\",\"UTA\",\"IND\",\"UTA\",\"MIN\",\"LAL\",\"GSW\",\"TOT\",\"TOT\",\"NOP\",\"LAL\",\"IND\",\"DET\",\"TOT\",\"TOT\",\"NYK\",\"DAL\",\"TOR\",\"IND\",\"SAC\",\"TOT\",\"PHI\",\"TOT\",\"ORL\",\"HOU\",\"MIA\",\"POR\",\"PHI\",\"MEM\",\"SAC\",\"LAL\",\"CHI\",\"TOT\",\"OKC\",\"DET\",\"TOT\",\"MIN\",\"TOT\",\"MIL\",\"NYK\",\"TOT\",\"UTA\",\"PHO\",\"HOU\",\"OKC\",\"PHO\",\"POR\",\"WAS\",\"BOS\",\"DEN\",\"TOT\",\"PHO\",\"MIN\",\"LAC\",\"TOT\",\"WAS\",\"DAL\",\"CHO\",\"BRK\",\"HOU\",\"TOT\",\"MIN\",\"ATL\",\"TOR\",\"WAS\",\"OKC\",\"MIL\",\"UTA\",\"NYK\",\"LAC\",\"CHO\",\"MIL\",\"GSW\",\"UTA\",\"BOS\",\"OKC\",\"MEM\",\"TOT\",\"MEM\",\"TOT\",\"OKC\",\"BOS\",\"ORL\",\"POR\",\"POR\",\"TOT\",\"BOS\",\"DET\",\"CHO\",\"CLE\",\"TOR\",\"HOU\"]}},\"id\":\"bcbe01f5-4009-4a34-8eab-e0987e6e1d86\",\"type\":\"ColumnDataSource\"},{\"attributes\":{\"data_source\":{\"id\":\"bcbe01f5-4009-4a34-8eab-e0987e6e1d86\",\"type\":\"ColumnDataSource\"},\"glyph\":{\"id\":\"dfc28a41-57ad-4a2d-9212-e9157cf49c51\",\"type\":\"Circle\"},\"hover_glyph\":null,\"muted_glyph\":null,\"nonselection_glyph\":{\"id\":\"e0860c15-7c6e-4411-830b-b066867c6342\",\"type\":\"Circle\"},\"selection_glyph\":null,\"view\":{\"id\":\"34c079df-b753-417e-8ace-96d4dec6a3fc\",\"type\":\"CDSView\"}},\"id\":\"485ce7c5-a6b7-485a-b009-ef14945792ac\",\"type\":\"GlyphRenderer\"},{\"attributes\":{\"axis_label\":\"Log Salary\",\"formatter\":{\"id\":\"228bc740-e659-4881-a49f-00e31a2b27d5\",\"type\":\"BasicTickFormatter\"},\"plot\":{\"id\":\"13d64505-1d6e-4939-94cf-f8e341ab3390\",\"subtype\":\"Figure\",\"type\":\"Plot\"},\"ticker\":{\"id\":\"1090ad8f-b3e1-46b5-a862-3e17e61e7d53\",\"type\":\"BasicTicker\"}},\"id\":\"5fd624e4-d52b-4c61-934a-ec716c3a99c1\",\"type\":\"LinearAxis\"},{\"attributes\":{},\"id\":\"0d3dae7a-1e44-475e-98e8-ebbf41407fcc\",\"type\":\"LinearScale\"},{\"attributes\":{},\"id\":\"66ad608a-c4d8-42a6-b2e2-a0140115f680\",\"type\":\"BasicTicker\"},{\"attributes\":{\"axis_label\":\"Log Salary\",\"formatter\":{\"id\":\"00aaf265-0177-4429-943f-2406be680ea9\",\"type\":\"BasicTickFormatter\"},\"plot\":{\"id\":\"2f790e6a-c03a-4c4b-873c-609afdccfd99\",\"subtype\":\"Figure\",\"type\":\"Plot\"},\"ticker\":{\"id\":\"d464bba7-7663-46a9-9c11-0ca54221f6e8\",\"type\":\"BasicTicker\"}},\"id\":\"ba54532f-6efa-4269-88b7-be6a10669e6c\",\"type\":\"LinearAxis\"},{\"attributes\":{\"callback\":null},\"id\":\"00276136-5bdd-4c90-a794-3fdd3bd21a9f\",\"type\":\"DataRange1d\"},{\"attributes\":{\"fill_alpha\":{\"value\":0.1},\"fill_color\":{\"value\":\"#1f77b4\"},\"line_alpha\":{\"value\":0.1},\"line_color\":{\"value\":\"#1f77b4\"},\"x\":{\"field\":\"PSG\"},\"y\":{\"field\":\"LogSalary\"}},\"id\":\"e0860c15-7c6e-4411-830b-b066867c6342\",\"type\":\"Circle\"},{\"attributes\":{\"plot\":null,\"text\":\"NBA Salaries by PSG\"},\"id\":\"b6c2506c-32c6-42e9-8edf-55cf2f3f0065\",\"type\":\"Title\"},{\"attributes\":{\"fill_alpha\":{\"value\":0.3},\"fill_color\":{\"field\":\"Position\",\"transform\":{\"id\":\"6981de8f-77ca-4d07-8403-55a2cbd4b6f8\",\"type\":\"CategoricalColorMapper\"}},\"line_alpha\":{\"value\":0.3},\"line_color\":{\"field\":\"Position\",\"transform\":{\"id\":\"6981de8f-77ca-4d07-8403-55a2cbd4b6f8\",\"type\":\"CategoricalColorMapper\"}},\"x\":{\"field\":\"Age\",\"transform\":{\"id\":\"cb93d8cb-8c2e-449f-ade6-05a28d19a3a2\",\"type\":\"Jitter\"}},\"y\":{\"field\":\"LogSalary\"}},\"id\":\"417408e7-7cdb-4e9a-bccd-bf7c92a003aa\",\"type\":\"Circle\"},{\"attributes\":{\"callback\":null},\"id\":\"50b80264-17c4-4ea0-bf7b-2e37b21a2946\",\"type\":\"DataRange1d\"},{\"attributes\":{\"factors\":[\"PG\",\"SG\",\"SF\",\"C\",\"SF\",\"PG\",\"PF\",\"SG\",\"PG\",\"SF\",\"PG\",\"SG\",\"SF\",\"PF\",\"SF\",\"SG\",\"PG\",\"SG\",\"SF\",\"PG\",\"PG\",\"SF\",\"PG\",\"SG\",\"SF\",\"PG\",\"PF\",\"SG\",\"PG\",\"PF\",\"C\",\"SG\",\"C\",\"PF\",\"SF\",\"C\",\"SG\",\"SF\",\"PF\",\"PG\",\"PG\",\"C\",\"C\",\"PG\",\"SG\",\"C\",\"PF\",\"SG\",\"PG\",\"SF\",\"PG\",\"PF\",\"SG\",\"SG\",\"SG\",\"PF\",\"SF\",\"PF\",\"SG\",\"SG\",\"SG\",\"PF\",\"SG\",\"SF\",\"C\",\"PG\",\"PF\",\"PG\",\"PG\",\"PF\",\"SG\",\"SG\",\"SG\",\"C\",\"SF\",\"C\",\"SG\",\"PG\",\"SG\",\"SF\",\"SF\",\"PG\",\"PG\",\"C\",\"SF\",\"C\",\"SF\",\"PF\",\"PF\",\"PF\",\"SG\",\"SF\",\"PF\",\"C\",\"PF\",\"PG\",\"PG\",\"SF\",\"SF\",\"PF\",\"SF\",\"SF\",\"SG\",\"PF\",\"SF\",\"PG\",\"SF\",\"PF\",\"SF\",\"SG\",\"C\",\"SG\",\"SF\",\"PG\",\"PG\",\"PG\",\"PG\",\"PG\",\"SF\",\"SG\",\"PF\",\"PG\",\"C\",\"PF\",\"C\",\"SF\",\"SG\",\"C\",\"PG\",\"SF\",\"C\",\"C\",\"PG\",\"SF\",\"PG\",\"PF\",\"SG\",\"SG\",\"SF\",\"SG\",\"SG\",\"SG\",\"PG\",\"SF\",\"C\",\"SG\",\"PF\",\"PF\",\"SG\",\"C\",\"C\",\"PG\",\"C\",\"PG\",\"SG\",\"PG\",\"C\",\"SG\",\"PG\",\"SG\",\"SG\",\"PF\",\"PF\",\"C\",\"C\",\"PF\",\"PG\",\"C\",\"PF\",\"SG\",\"SG\",\"PF\",\"PG\",\"SF\",\"C\",\"PF\",\"PG\",\"SF\",\"C\",\"SF\",\"PF\",\"C\",\"PF\",\"SG\",\"PF\",\"SG\",\"PG\",\"PG\",\"PG\",\"PG\",\"PF\",\"PG\",\"PF\",\"PF\",\"PG\",\"SG\",\"SF\",\"SG\",\"PF\",\"SF\",\"C\",\"SF\",\"SF\",\"SG\",\"C\",\"PG\",\"C\",\"PF\",\"SF\",\"C\",\"C\",\"C\",\"C\",\"SF\",\"PF\",\"PG\",\"PF\",\"PF\",\"PF\",\"C\",\"C\",\"SG\",\"SG\",\"PF\",\"PF\",\"SG\",\"PF\",\"SF\",\"SF\",\"SF\",\"C\",\"PG\",\"C\",\"SF\",\"PF\",\"PF\",\"SF\",\"PF-C\",\"SF\",\"PF\",\"SF\",\"C\",\"C\",\"PF\",\"PF\",\"SG\",\"C\",\"PG\",\"SF\",\"SG\",\"PG\",\"PF\",\"PG\",\"SG\",\"SG\",\"PG\",\"PF\",\"SG\",\"SG\",\"C\",\"C\",\"C\",\"PF\",\"PF\",\"C\",\"SF\",\"PF\",\"PF\",\"C\",\"SF\",\"PF\",\"PG\",\"PG\",\"PF\",\"SG\",\"PF\",\"PF\",\"PG\",\"SF\",\"PG\",\"SF\",\"PG\",\"C\",\"PG\",\"PF\",\"C\",\"PF\",\"PG\",\"C\",\"SF\",\"SF\",\"PG\",\"PF\",\"SG\",\"SF\",\"SG\",\"C\",\"SF\",\"PF\",\"SG\",\"PG\",\"C\",\"C\",\"SF\",\"PG\",\"PG\",\"SF\",\"SG\",\"PG\",\"PG\",\"PG\",\"PF\",\"PF\",\"PF\",\"PF\",\"SG\",\"SG\",\"C\",\"C\",\"C\",\"SF\",\"SF\",\"PG\",\"PF\",\"C\",\"SG\",\"SF\",\"PG\",\"SF\",\"PF\",\"PG\",\"PF\",\"PF\",\"C\",\"PF\",\"SG\",\"SF\",\"C\",\"PG\",\"PF\",\"PG\",\"SG-SF\",\"SF\",\"SF\",\"PF\",\"SF\",\"SF\",\"PF\",\"SF\",\"C\",\"C\",\"C\",\"PF\",\"PF\",\"C\",\"PF\",\"C\",\"PG\",\"SF\",\"PF\",\"SG\",\"PG\",\"C\",\"PG\",\"SG\",\"PG\",\"PG\",\"PF\",\"PF\",\"PG\",\"SG\",\"SG\",\"PG\",\"SG\",\"C\",\"SG\",\"C\",\"SF\",\"SF\"],\"palette\":[\"#e9724d\",\"#d6d727\",\"#92cad1\",\"#79ccb3\",\"#868686\",\"#564b98\",\"#515ba1\"]},\"id\":\"057730d5-0dda-48f8-9735-192f89f0b1a3\",\"type\":\"CategoricalColorMapper\"},{\"attributes\":{},\"id\":\"8e5e94ea-17fa-42a1-8ea9-36fd95593926\",\"type\":\"ResetTool\"},{\"attributes\":{\"overlay\":{\"id\":\"f456c60c-b84d-4473-ab97-6ef9b645fe40\",\"type\":\"BoxAnnotation\"}},\"id\":\"2c453d37-0913-43ef-8c0c-d69b2226fff4\",\"type\":\"BoxZoomTool\"},{\"attributes\":{\"fill_alpha\":{\"value\":0.1},\"fill_color\":{\"value\":\"#1f77b4\"},\"line_alpha\":{\"value\":0.1},\"line_color\":{\"value\":\"#1f77b4\"},\"x\":{\"field\":\"Age\",\"transform\":{\"id\":\"cb93d8cb-8c2e-449f-ade6-05a28d19a3a2\",\"type\":\"Jitter\"}},\"y\":{\"field\":\"LogSalary\"}},\"id\":\"877aed84-8ae5-40f0-b2ca-2b4c6d1951f8\",\"type\":\"Circle\"},{\"attributes\":{\"callback\":null},\"id\":\"fe0067a9-7ded-4e34-8903-dc4b6d174af5\",\"type\":\"DataRange1d\"},{\"attributes\":{\"callback\":null,\"tabs\":[{\"id\":\"649d5134-3dc9-4f8d-85bc-87701dedea32\",\"type\":\"Panel\"},{\"id\":\"a0d484d0-c4ce-4d38-bf98-0bb438b4a514\",\"type\":\"Panel\"}]},\"id\":\"3edd5c9a-91af-474d-9483-81108d28e450\",\"type\":\"Tabs\"},{\"attributes\":{\"dimension\":1,\"plot\":{\"id\":\"2f790e6a-c03a-4c4b-873c-609afdccfd99\",\"subtype\":\"Figure\",\"type\":\"Plot\"},\"ticker\":{\"id\":\"d464bba7-7663-46a9-9c11-0ca54221f6e8\",\"type\":\"BasicTicker\"}},\"id\":\"e1f901e1-8955-4d46-84f0-6294f4571978\",\"type\":\"Grid\"},{\"attributes\":{},\"id\":\"89d8cd10-902c-4524-8602-0df3a70c819f\",\"type\":\"LinearScale\"},{\"attributes\":{},\"id\":\"6c24e20f-d1e2-42dd-b7ad-1cf069dd1bfd\",\"type\":\"ResetTool\"},{\"attributes\":{\"active_drag\":\"auto\",\"active_inspect\":\"auto\",\"active_scroll\":\"auto\",\"active_tap\":\"auto\",\"tools\":[{\"id\":\"8a87204f-bbad-4f35-b23a-6e702df1593f\",\"type\":\"HoverTool\"},{\"id\":\"4ae1474b-72cc-4e19-9c85-cd15068a2680\",\"type\":\"BoxZoomTool\"},{\"id\":\"cfcc0de3-9786-4f87-a7b0-9370ac4bfa3d\",\"type\":\"WheelZoomTool\"},{\"id\":\"8e5e94ea-17fa-42a1-8ea9-36fd95593926\",\"type\":\"ResetTool\"}]},\"id\":\"377703b1-5566-40c3-bc2a-bfe1dfcba562\",\"type\":\"Toolbar\"},{\"attributes\":{\"below\":[{\"id\":\"38d2e50b-286b-4b09-b25b-f92e60e8415f\",\"type\":\"LinearAxis\"}],\"left\":[{\"id\":\"ba54532f-6efa-4269-88b7-be6a10669e6c\",\"type\":\"LinearAxis\"}],\"plot_height\":400,\"plot_width\":800,\"renderers\":[{\"id\":\"38d2e50b-286b-4b09-b25b-f92e60e8415f\",\"type\":\"LinearAxis\"},{\"id\":\"90cfbf13-897b-48c0-9262-4337411bc2e1\",\"type\":\"Grid\"},{\"id\":\"ba54532f-6efa-4269-88b7-be6a10669e6c\",\"type\":\"LinearAxis\"},{\"id\":\"e1f901e1-8955-4d46-84f0-6294f4571978\",\"type\":\"Grid\"},{\"id\":\"0347e61d-444b-448a-b764-2dc23c715417\",\"type\":\"BoxAnnotation\"},{\"id\":\"19001e52-d6b2-4573-9b95-59c2e06fda99\",\"type\":\"Legend\"},{\"id\":\"485ce7c5-a6b7-485a-b009-ef14945792ac\",\"type\":\"GlyphRenderer\"}],\"title\":{\"id\":\"b6c2506c-32c6-42e9-8edf-55cf2f3f0065\",\"type\":\"Title\"},\"toolbar\":{\"id\":\"377703b1-5566-40c3-bc2a-bfe1dfcba562\",\"type\":\"Toolbar\"},\"x_range\":{\"id\":\"62c13c06-0005-41d0-9b1c-b3c009d4c275\",\"type\":\"DataRange1d\"},\"x_scale\":{\"id\":\"89d8cd10-902c-4524-8602-0df3a70c819f\",\"type\":\"LinearScale\"},\"y_range\":{\"id\":\"00276136-5bdd-4c90-a794-3fdd3bd21a9f\",\"type\":\"DataRange1d\"},\"y_scale\":{\"id\":\"6b9db464-3b70-4858-8176-b42332aa0deb\",\"type\":\"LinearScale\"}},\"id\":\"2f790e6a-c03a-4c4b-873c-609afdccfd99\",\"subtype\":\"Figure\",\"type\":\"Plot\"},{\"attributes\":{\"fill_alpha\":{\"value\":0.3},\"fill_color\":{\"field\":\"Position\",\"transform\":{\"id\":\"057730d5-0dda-48f8-9735-192f89f0b1a3\",\"type\":\"CategoricalColorMapper\"}},\"line_alpha\":{\"value\":0.3},\"line_color\":{\"field\":\"Position\",\"transform\":{\"id\":\"057730d5-0dda-48f8-9735-192f89f0b1a3\",\"type\":\"CategoricalColorMapper\"}},\"x\":{\"field\":\"PSG\"},\"y\":{\"field\":\"LogSalary\"}},\"id\":\"dfc28a41-57ad-4a2d-9212-e9157cf49c51\",\"type\":\"Circle\"},{\"attributes\":{},\"id\":\"6b9db464-3b70-4858-8176-b42332aa0deb\",\"type\":\"LinearScale\"},{\"attributes\":{},\"id\":\"cfcc0de3-9786-4f87-a7b0-9370ac4bfa3d\",\"type\":\"WheelZoomTool\"},{\"attributes\":{},\"id\":\"228bc740-e659-4881-a49f-00e31a2b27d5\",\"type\":\"BasicTickFormatter\"},{\"attributes\":{\"axis_label\":\"PSG\",\"formatter\":{\"id\":\"99c1a29c-d832-4c70-b1a7-7a1d85a18f1f\",\"type\":\"BasicTickFormatter\"},\"plot\":{\"id\":\"2f790e6a-c03a-4c4b-873c-609afdccfd99\",\"subtype\":\"Figure\",\"type\":\"Plot\"},\"ticker\":{\"id\":\"72806766-633a-47d7-9a77-f46ff403cb6f\",\"type\":\"BasicTicker\"}},\"id\":\"38d2e50b-286b-4b09-b25b-f92e60e8415f\",\"type\":\"LinearAxis\"},{\"attributes\":{\"items\":[{\"id\":\"a7421321-97ad-498c-9ffb-496c5f040243\",\"type\":\"LegendItem\"}],\"location\":\"bottom_right\",\"plot\":{\"id\":\"13d64505-1d6e-4939-94cf-f8e341ab3390\",\"subtype\":\"Figure\",\"type\":\"Plot\"}},\"id\":\"8c06c1da-3b78-416a-a335-bf37b52d33dc\",\"type\":\"Legend\"},{\"attributes\":{\"active_drag\":\"auto\",\"active_inspect\":\"auto\",\"active_scroll\":\"auto\",\"active_tap\":\"auto\",\"tools\":[{\"id\":\"8a87204f-bbad-4f35-b23a-6e702df1593f\",\"type\":\"HoverTool\"},{\"id\":\"2c453d37-0913-43ef-8c0c-d69b2226fff4\",\"type\":\"BoxZoomTool\"},{\"id\":\"fc60251e-1ebd-4585-8582-c5a24172c6b2\",\"type\":\"WheelZoomTool\"},{\"id\":\"6c24e20f-d1e2-42dd-b7ad-1cf069dd1bfd\",\"type\":\"ResetTool\"}]},\"id\":\"e2ba37d8-3684-4334-b106-4a5fb3b5c563\",\"type\":\"Toolbar\"},{\"attributes\":{},\"id\":\"d464bba7-7663-46a9-9c11-0ca54221f6e8\",\"type\":\"BasicTicker\"},{\"attributes\":{},\"id\":\"00aaf265-0177-4429-943f-2406be680ea9\",\"type\":\"BasicTickFormatter\"},{\"attributes\":{},\"id\":\"835ae6e9-dd3e-4c78-9cb3-c816a4705a95\",\"type\":\"BasicTickFormatter\"},{\"attributes\":{\"child\":{\"id\":\"2f790e6a-c03a-4c4b-873c-609afdccfd99\",\"subtype\":\"Figure\",\"type\":\"Plot\"},\"title\":\"PSG\"},\"id\":\"a0d484d0-c4ce-4d38-bf98-0bb438b4a514\",\"type\":\"Panel\"},{\"attributes\":{\"dimension\":1,\"plot\":{\"id\":\"13d64505-1d6e-4939-94cf-f8e341ab3390\",\"subtype\":\"Figure\",\"type\":\"Plot\"},\"ticker\":{\"id\":\"1090ad8f-b3e1-46b5-a862-3e17e61e7d53\",\"type\":\"BasicTicker\"}},\"id\":\"76ce43b9-38d0-4cba-a0d0-273380c6f8d8\",\"type\":\"Grid\"},{\"attributes\":{\"axis_label\":\"Age\",\"formatter\":{\"id\":\"835ae6e9-dd3e-4c78-9cb3-c816a4705a95\",\"type\":\"BasicTickFormatter\"},\"plot\":{\"id\":\"13d64505-1d6e-4939-94cf-f8e341ab3390\",\"subtype\":\"Figure\",\"type\":\"Plot\"},\"ticker\":{\"id\":\"66ad608a-c4d8-42a6-b2e2-a0140115f680\",\"type\":\"BasicTicker\"}},\"id\":\"6db59935-e398-41a9-b011-b49f101bfc92\",\"type\":\"LinearAxis\"},{\"attributes\":{\"overlay\":{\"id\":\"0347e61d-444b-448a-b764-2dc23c715417\",\"type\":\"BoxAnnotation\"}},\"id\":\"4ae1474b-72cc-4e19-9c85-cd15068a2680\",\"type\":\"BoxZoomTool\"},{\"attributes\":{\"plot\":{\"id\":\"13d64505-1d6e-4939-94cf-f8e341ab3390\",\"subtype\":\"Figure\",\"type\":\"Plot\"},\"ticker\":{\"id\":\"66ad608a-c4d8-42a6-b2e2-a0140115f680\",\"type\":\"BasicTicker\"}},\"id\":\"4ae1570e-a690-42a9-bc21-a56213c050bd\",\"type\":\"Grid\"},{\"attributes\":{\"bottom_units\":\"screen\",\"fill_alpha\":{\"value\":0.5},\"fill_color\":{\"value\":\"lightgrey\"},\"left_units\":\"screen\",\"level\":\"overlay\",\"line_alpha\":{\"value\":1.0},\"line_color\":{\"value\":\"black\"},\"line_dash\":[4,4],\"line_width\":{\"value\":2},\"plot\":null,\"render_mode\":\"css\",\"right_units\":\"screen\",\"top_units\":\"screen\"},\"id\":\"0347e61d-444b-448a-b764-2dc23c715417\",\"type\":\"BoxAnnotation\"},{\"attributes\":{\"data_source\":{\"id\":\"bcbe01f5-4009-4a34-8eab-e0987e6e1d86\",\"type\":\"ColumnDataSource\"},\"glyph\":{\"id\":\"417408e7-7cdb-4e9a-bccd-bf7c92a003aa\",\"type\":\"Circle\"},\"hover_glyph\":null,\"muted_glyph\":null,\"nonselection_glyph\":{\"id\":\"877aed84-8ae5-40f0-b2ca-2b4c6d1951f8\",\"type\":\"Circle\"},\"selection_glyph\":null,\"view\":{\"id\":\"cce1ce2e-71c9-40a8-8566-f58d41db8527\",\"type\":\"CDSView\"}},\"id\":\"9c571ce6-828d-4c21-b417-e440b0393599\",\"type\":\"GlyphRenderer\"}],\"root_ids\":[\"3edd5c9a-91af-474d-9483-81108d28e450\"]},\"title\":\"Bokeh Application\",\"version\":\"0.12.11\"}};\n",
       "    var render_items = [{\"docid\":\"097c2521-bd33-4cdf-8dd1-1e59c7faaaf4\",\"elementid\":\"d9c911bc-8e57-43a1-a814-ef79c1d941f0\",\"modelid\":\"3edd5c9a-91af-474d-9483-81108d28e450\"}];\n",
       "    root.Bokeh.embed.embed_items(docs_json, render_items);\n",
       "  }\n",
       "  if (root.Bokeh !== undefined) {\n",
       "    embed_document(root);\n",
       "  } else {\n",
       "    var attempts = 0;\n",
       "    var timer = setInterval(function(root) {\n",
       "      if (root.Bokeh !== undefined) {\n",
       "        embed_document(root);\n",
       "        clearInterval(timer);\n",
       "      }\n",
       "      attempts++;\n",
       "      if (attempts > 100) {\n",
       "        console.log(\"Bokeh: ERROR: Unable to embed document because BokehJS library is missing\")\n",
       "        clearInterval(timer);\n",
       "      }\n",
       "    }, 10, root)\n",
       "  }\n",
       "})(window);"
      ],
      "application/vnd.bokehjs_exec.v0+json": ""
     },
     "metadata": {
      "application/vnd.bokehjs_exec.v0+json": {
       "id": "3edd5c9a-91af-474d-9483-81108d28e450"
      }
     },
     "output_type": "display_data"
    },
    {
     "data": {
      "text/html": [
       "\n",
       "    <div class=\"bk-root\">\n",
       "        <a href=\"https://bokeh.pydata.org\" target=\"_blank\" class=\"bk-logo bk-logo-small bk-logo-notebook\"></a>\n",
       "        <span id=\"f5868e2e-9205-45a1-a37f-37c15ee00c22\">Loading BokehJS ...</span>\n",
       "    </div>"
      ]
     },
     "metadata": {},
     "output_type": "display_data"
    },
    {
     "data": {
      "application/javascript": [
       "\n",
       "(function(root) {\n",
       "  function now() {\n",
       "    return new Date();\n",
       "  }\n",
       "\n",
       "  var force = true;\n",
       "\n",
       "  if (typeof (root._bokeh_onload_callbacks) === \"undefined\" || force === true) {\n",
       "    root._bokeh_onload_callbacks = [];\n",
       "    root._bokeh_is_loading = undefined;\n",
       "  }\n",
       "\n",
       "  var JS_MIME_TYPE = 'application/javascript';\n",
       "  var HTML_MIME_TYPE = 'text/html';\n",
       "  var EXEC_MIME_TYPE = 'application/vnd.bokehjs_exec.v0+json';\n",
       "  var CLASS_NAME = 'output_bokeh rendered_html';\n",
       "\n",
       "  /**\n",
       "   * Render data to the DOM node\n",
       "   */\n",
       "  function render(props, node) {\n",
       "    var script = document.createElement(\"script\");\n",
       "    node.appendChild(script);\n",
       "  }\n",
       "\n",
       "  /**\n",
       "   * Handle when an output is cleared or removed\n",
       "   */\n",
       "  function handleClearOutput(event, handle) {\n",
       "    var cell = handle.cell;\n",
       "\n",
       "    var id = cell.output_area._bokeh_element_id;\n",
       "    var server_id = cell.output_area._bokeh_server_id;\n",
       "    // Clean up Bokeh references\n",
       "    if (id !== undefined) {\n",
       "      Bokeh.index[id].model.document.clear();\n",
       "      delete Bokeh.index[id];\n",
       "    }\n",
       "\n",
       "    if (server_id !== undefined) {\n",
       "      // Clean up Bokeh references\n",
       "      var cmd = \"from bokeh.io.state import curstate; print(curstate().uuid_to_server['\" + server_id + \"'].get_sessions()[0].document.roots[0]._id)\";\n",
       "      cell.notebook.kernel.execute(cmd, {\n",
       "        iopub: {\n",
       "          output: function(msg) {\n",
       "            var element_id = msg.content.text.trim();\n",
       "            Bokeh.index[element_id].model.document.clear();\n",
       "            delete Bokeh.index[element_id];\n",
       "          }\n",
       "        }\n",
       "      });\n",
       "      // Destroy server and session\n",
       "      var cmd = \"import bokeh.io.notebook as ion; ion.destroy_server('\" + server_id + \"')\";\n",
       "      cell.notebook.kernel.execute(cmd);\n",
       "    }\n",
       "  }\n",
       "\n",
       "  /**\n",
       "   * Handle when a new output is added\n",
       "   */\n",
       "  function handleAddOutput(event, handle) {\n",
       "    var output_area = handle.output_area;\n",
       "    var output = handle.output;\n",
       "\n",
       "    // limit handleAddOutput to display_data with EXEC_MIME_TYPE content only\n",
       "    if ((output.output_type != \"display_data\") || (!output.data.hasOwnProperty(EXEC_MIME_TYPE))) {\n",
       "      return\n",
       "    }\n",
       "\n",
       "    var toinsert = output_area.element.find(\".\" + CLASS_NAME.split(' ')[0]);\n",
       "\n",
       "    if (output.metadata[EXEC_MIME_TYPE][\"id\"] !== undefined) {\n",
       "      toinsert[0].firstChild.textContent = output.data[JS_MIME_TYPE];\n",
       "      // store reference to embed id on output_area\n",
       "      output_area._bokeh_element_id = output.metadata[EXEC_MIME_TYPE][\"id\"];\n",
       "    }\n",
       "    if (output.metadata[EXEC_MIME_TYPE][\"server_id\"] !== undefined) {\n",
       "      var bk_div = document.createElement(\"div\");\n",
       "      bk_div.innerHTML = output.data[HTML_MIME_TYPE];\n",
       "      var script_attrs = bk_div.children[0].attributes;\n",
       "      for (var i = 0; i < script_attrs.length; i++) {\n",
       "        toinsert[0].firstChild.setAttribute(script_attrs[i].name, script_attrs[i].value);\n",
       "      }\n",
       "      // store reference to server id on output_area\n",
       "      output_area._bokeh_server_id = output.metadata[EXEC_MIME_TYPE][\"server_id\"];\n",
       "    }\n",
       "  }\n",
       "\n",
       "  function register_renderer(events, OutputArea) {\n",
       "\n",
       "    function append_mime(data, metadata, element) {\n",
       "      // create a DOM node to render to\n",
       "      var toinsert = this.create_output_subarea(\n",
       "        metadata,\n",
       "        CLASS_NAME,\n",
       "        EXEC_MIME_TYPE\n",
       "      );\n",
       "      this.keyboard_manager.register_events(toinsert);\n",
       "      // Render to node\n",
       "      var props = {data: data, metadata: metadata[EXEC_MIME_TYPE]};\n",
       "      render(props, toinsert[0]);\n",
       "      element.append(toinsert);\n",
       "      return toinsert\n",
       "    }\n",
       "\n",
       "    /* Handle when an output is cleared or removed */\n",
       "    events.on('clear_output.CodeCell', handleClearOutput);\n",
       "    events.on('delete.Cell', handleClearOutput);\n",
       "\n",
       "    /* Handle when a new output is added */\n",
       "    events.on('output_added.OutputArea', handleAddOutput);\n",
       "\n",
       "    /**\n",
       "     * Register the mime type and append_mime function with output_area\n",
       "     */\n",
       "    OutputArea.prototype.register_mime_type(EXEC_MIME_TYPE, append_mime, {\n",
       "      /* Is output safe? */\n",
       "      safe: true,\n",
       "      /* Index of renderer in `output_area.display_order` */\n",
       "      index: 0\n",
       "    });\n",
       "  }\n",
       "\n",
       "  // register the mime type if in Jupyter Notebook environment and previously unregistered\n",
       "  if (root.Jupyter !== undefined) {\n",
       "    var events = require('base/js/events');\n",
       "    var OutputArea = require('notebook/js/outputarea').OutputArea;\n",
       "\n",
       "    if (OutputArea.prototype.mime_types().indexOf(EXEC_MIME_TYPE) == -1) {\n",
       "      register_renderer(events, OutputArea);\n",
       "    }\n",
       "  }\n",
       "\n",
       "  \n",
       "  if (typeof (root._bokeh_timeout) === \"undefined\" || force === true) {\n",
       "    root._bokeh_timeout = Date.now() + 5000;\n",
       "    root._bokeh_failed_load = false;\n",
       "  }\n",
       "\n",
       "  var NB_LOAD_WARNING = {'data': {'text/html':\n",
       "     \"<div style='background-color: #fdd'>\\n\"+\n",
       "     \"<p>\\n\"+\n",
       "     \"BokehJS does not appear to have successfully loaded. If loading BokehJS from CDN, this \\n\"+\n",
       "     \"may be due to a slow or bad network connection. Possible fixes:\\n\"+\n",
       "     \"</p>\\n\"+\n",
       "     \"<ul>\\n\"+\n",
       "     \"<li>re-rerun `output_notebook()` to attempt to load from CDN again, or</li>\\n\"+\n",
       "     \"<li>use INLINE resources instead, as so:</li>\\n\"+\n",
       "     \"</ul>\\n\"+\n",
       "     \"<code>\\n\"+\n",
       "     \"from bokeh.resources import INLINE\\n\"+\n",
       "     \"output_notebook(resources=INLINE)\\n\"+\n",
       "     \"</code>\\n\"+\n",
       "     \"</div>\"}};\n",
       "\n",
       "  function display_loaded() {\n",
       "    var el = document.getElementById(\"f5868e2e-9205-45a1-a37f-37c15ee00c22\");\n",
       "    if (el != null) {\n",
       "      el.textContent = \"BokehJS is loading...\";\n",
       "    }\n",
       "    if (root.Bokeh !== undefined) {\n",
       "      if (el != null) {\n",
       "        el.textContent = \"BokehJS \" + root.Bokeh.version + \" successfully loaded.\";\n",
       "      }\n",
       "    } else if (Date.now() < root._bokeh_timeout) {\n",
       "      setTimeout(display_loaded, 100)\n",
       "    }\n",
       "  }\n",
       "\n",
       "\n",
       "  function run_callbacks() {\n",
       "    try {\n",
       "      root._bokeh_onload_callbacks.forEach(function(callback) { callback() });\n",
       "    }\n",
       "    finally {\n",
       "      delete root._bokeh_onload_callbacks\n",
       "    }\n",
       "    console.info(\"Bokeh: all callbacks have finished\");\n",
       "  }\n",
       "\n",
       "  function load_libs(js_urls, callback) {\n",
       "    root._bokeh_onload_callbacks.push(callback);\n",
       "    if (root._bokeh_is_loading > 0) {\n",
       "      console.log(\"Bokeh: BokehJS is being loaded, scheduling callback at\", now());\n",
       "      return null;\n",
       "    }\n",
       "    if (js_urls == null || js_urls.length === 0) {\n",
       "      run_callbacks();\n",
       "      return null;\n",
       "    }\n",
       "    console.log(\"Bokeh: BokehJS not loaded, scheduling load and callback at\", now());\n",
       "    root._bokeh_is_loading = js_urls.length;\n",
       "    for (var i = 0; i < js_urls.length; i++) {\n",
       "      var url = js_urls[i];\n",
       "      var s = document.createElement('script');\n",
       "      s.src = url;\n",
       "      s.async = false;\n",
       "      s.onreadystatechange = s.onload = function() {\n",
       "        root._bokeh_is_loading--;\n",
       "        if (root._bokeh_is_loading === 0) {\n",
       "          console.log(\"Bokeh: all BokehJS libraries loaded\");\n",
       "          run_callbacks()\n",
       "        }\n",
       "      };\n",
       "      s.onerror = function() {\n",
       "        console.warn(\"failed to load library \" + url);\n",
       "      };\n",
       "      console.log(\"Bokeh: injecting script tag for BokehJS library: \", url);\n",
       "      document.getElementsByTagName(\"head\")[0].appendChild(s);\n",
       "    }\n",
       "  };var element = document.getElementById(\"f5868e2e-9205-45a1-a37f-37c15ee00c22\");\n",
       "  if (element == null) {\n",
       "    console.log(\"Bokeh: ERROR: autoload.js configured with elementid 'f5868e2e-9205-45a1-a37f-37c15ee00c22' but no matching script tag was found. \")\n",
       "    return false;\n",
       "  }\n",
       "\n",
       "  var js_urls = [\"https://cdn.pydata.org/bokeh/release/bokeh-0.12.11.min.js\", \"https://cdn.pydata.org/bokeh/release/bokeh-widgets-0.12.11.min.js\", \"https://cdn.pydata.org/bokeh/release/bokeh-tables-0.12.11.min.js\", \"https://cdn.pydata.org/bokeh/release/bokeh-gl-0.12.11.min.js\"];\n",
       "\n",
       "  var inline_js = [\n",
       "    function(Bokeh) {\n",
       "      Bokeh.set_log_level(\"info\");\n",
       "    },\n",
       "    \n",
       "    function(Bokeh) {\n",
       "      \n",
       "    },\n",
       "    function(Bokeh) {\n",
       "      console.log(\"Bokeh: injecting CSS: https://cdn.pydata.org/bokeh/release/bokeh-0.12.11.min.css\");\n",
       "      Bokeh.embed.inject_css(\"https://cdn.pydata.org/bokeh/release/bokeh-0.12.11.min.css\");\n",
       "      console.log(\"Bokeh: injecting CSS: https://cdn.pydata.org/bokeh/release/bokeh-widgets-0.12.11.min.css\");\n",
       "      Bokeh.embed.inject_css(\"https://cdn.pydata.org/bokeh/release/bokeh-widgets-0.12.11.min.css\");\n",
       "      console.log(\"Bokeh: injecting CSS: https://cdn.pydata.org/bokeh/release/bokeh-tables-0.12.11.min.css\");\n",
       "      Bokeh.embed.inject_css(\"https://cdn.pydata.org/bokeh/release/bokeh-tables-0.12.11.min.css\");\n",
       "    }\n",
       "  ];\n",
       "\n",
       "  function run_inline_js() {\n",
       "    \n",
       "    if ((root.Bokeh !== undefined) || (force === true)) {\n",
       "      for (var i = 0; i < inline_js.length; i++) {\n",
       "        inline_js[i].call(root, root.Bokeh);\n",
       "      }if (force === true) {\n",
       "        display_loaded();\n",
       "      }} else if (Date.now() < root._bokeh_timeout) {\n",
       "      setTimeout(run_inline_js, 100);\n",
       "    } else if (!root._bokeh_failed_load) {\n",
       "      console.log(\"Bokeh: BokehJS failed to load within specified timeout.\");\n",
       "      root._bokeh_failed_load = true;\n",
       "    } else if (force !== true) {\n",
       "      var cell = $(document.getElementById(\"f5868e2e-9205-45a1-a37f-37c15ee00c22\")).parents('.cell').data().cell;\n",
       "      cell.output_area.append_execute_result(NB_LOAD_WARNING)\n",
       "    }\n",
       "\n",
       "  }\n",
       "\n",
       "  if (root._bokeh_is_loading === 0) {\n",
       "    console.log(\"Bokeh: BokehJS loaded, going straight to plotting\");\n",
       "    run_inline_js();\n",
       "  } else {\n",
       "    load_libs(js_urls, function() {\n",
       "      console.log(\"Bokeh: BokehJS plotting callback run at\", now());\n",
       "      run_inline_js();\n",
       "    });\n",
       "  }\n",
       "}(window));"
      ],
      "application/vnd.bokehjs_load.v0+json": "\n(function(root) {\n  function now() {\n    return new Date();\n  }\n\n  var force = true;\n\n  if (typeof (root._bokeh_onload_callbacks) === \"undefined\" || force === true) {\n    root._bokeh_onload_callbacks = [];\n    root._bokeh_is_loading = undefined;\n  }\n\n  \n\n  \n  if (typeof (root._bokeh_timeout) === \"undefined\" || force === true) {\n    root._bokeh_timeout = Date.now() + 5000;\n    root._bokeh_failed_load = false;\n  }\n\n  var NB_LOAD_WARNING = {'data': {'text/html':\n     \"<div style='background-color: #fdd'>\\n\"+\n     \"<p>\\n\"+\n     \"BokehJS does not appear to have successfully loaded. If loading BokehJS from CDN, this \\n\"+\n     \"may be due to a slow or bad network connection. Possible fixes:\\n\"+\n     \"</p>\\n\"+\n     \"<ul>\\n\"+\n     \"<li>re-rerun `output_notebook()` to attempt to load from CDN again, or</li>\\n\"+\n     \"<li>use INLINE resources instead, as so:</li>\\n\"+\n     \"</ul>\\n\"+\n     \"<code>\\n\"+\n     \"from bokeh.resources import INLINE\\n\"+\n     \"output_notebook(resources=INLINE)\\n\"+\n     \"</code>\\n\"+\n     \"</div>\"}};\n\n  function display_loaded() {\n    var el = document.getElementById(\"f5868e2e-9205-45a1-a37f-37c15ee00c22\");\n    if (el != null) {\n      el.textContent = \"BokehJS is loading...\";\n    }\n    if (root.Bokeh !== undefined) {\n      if (el != null) {\n        el.textContent = \"BokehJS \" + root.Bokeh.version + \" successfully loaded.\";\n      }\n    } else if (Date.now() < root._bokeh_timeout) {\n      setTimeout(display_loaded, 100)\n    }\n  }\n\n\n  function run_callbacks() {\n    try {\n      root._bokeh_onload_callbacks.forEach(function(callback) { callback() });\n    }\n    finally {\n      delete root._bokeh_onload_callbacks\n    }\n    console.info(\"Bokeh: all callbacks have finished\");\n  }\n\n  function load_libs(js_urls, callback) {\n    root._bokeh_onload_callbacks.push(callback);\n    if (root._bokeh_is_loading > 0) {\n      console.log(\"Bokeh: BokehJS is being loaded, scheduling callback at\", now());\n      return null;\n    }\n    if (js_urls == null || js_urls.length === 0) {\n      run_callbacks();\n      return null;\n    }\n    console.log(\"Bokeh: BokehJS not loaded, scheduling load and callback at\", now());\n    root._bokeh_is_loading = js_urls.length;\n    for (var i = 0; i < js_urls.length; i++) {\n      var url = js_urls[i];\n      var s = document.createElement('script');\n      s.src = url;\n      s.async = false;\n      s.onreadystatechange = s.onload = function() {\n        root._bokeh_is_loading--;\n        if (root._bokeh_is_loading === 0) {\n          console.log(\"Bokeh: all BokehJS libraries loaded\");\n          run_callbacks()\n        }\n      };\n      s.onerror = function() {\n        console.warn(\"failed to load library \" + url);\n      };\n      console.log(\"Bokeh: injecting script tag for BokehJS library: \", url);\n      document.getElementsByTagName(\"head\")[0].appendChild(s);\n    }\n  };var element = document.getElementById(\"f5868e2e-9205-45a1-a37f-37c15ee00c22\");\n  if (element == null) {\n    console.log(\"Bokeh: ERROR: autoload.js configured with elementid 'f5868e2e-9205-45a1-a37f-37c15ee00c22' but no matching script tag was found. \")\n    return false;\n  }\n\n  var js_urls = [\"https://cdn.pydata.org/bokeh/release/bokeh-0.12.11.min.js\", \"https://cdn.pydata.org/bokeh/release/bokeh-widgets-0.12.11.min.js\", \"https://cdn.pydata.org/bokeh/release/bokeh-tables-0.12.11.min.js\", \"https://cdn.pydata.org/bokeh/release/bokeh-gl-0.12.11.min.js\"];\n\n  var inline_js = [\n    function(Bokeh) {\n      Bokeh.set_log_level(\"info\");\n    },\n    \n    function(Bokeh) {\n      \n    },\n    function(Bokeh) {\n      console.log(\"Bokeh: injecting CSS: https://cdn.pydata.org/bokeh/release/bokeh-0.12.11.min.css\");\n      Bokeh.embed.inject_css(\"https://cdn.pydata.org/bokeh/release/bokeh-0.12.11.min.css\");\n      console.log(\"Bokeh: injecting CSS: https://cdn.pydata.org/bokeh/release/bokeh-widgets-0.12.11.min.css\");\n      Bokeh.embed.inject_css(\"https://cdn.pydata.org/bokeh/release/bokeh-widgets-0.12.11.min.css\");\n      console.log(\"Bokeh: injecting CSS: https://cdn.pydata.org/bokeh/release/bokeh-tables-0.12.11.min.css\");\n      Bokeh.embed.inject_css(\"https://cdn.pydata.org/bokeh/release/bokeh-tables-0.12.11.min.css\");\n    }\n  ];\n\n  function run_inline_js() {\n    \n    if ((root.Bokeh !== undefined) || (force === true)) {\n      for (var i = 0; i < inline_js.length; i++) {\n        inline_js[i].call(root, root.Bokeh);\n      }if (force === true) {\n        display_loaded();\n      }} else if (Date.now() < root._bokeh_timeout) {\n      setTimeout(run_inline_js, 100);\n    } else if (!root._bokeh_failed_load) {\n      console.log(\"Bokeh: BokehJS failed to load within specified timeout.\");\n      root._bokeh_failed_load = true;\n    } else if (force !== true) {\n      var cell = $(document.getElementById(\"f5868e2e-9205-45a1-a37f-37c15ee00c22\")).parents('.cell').data().cell;\n      cell.output_area.append_execute_result(NB_LOAD_WARNING)\n    }\n\n  }\n\n  if (root._bokeh_is_loading === 0) {\n    console.log(\"Bokeh: BokehJS loaded, going straight to plotting\");\n    run_inline_js();\n  } else {\n    load_libs(js_urls, function() {\n      console.log(\"Bokeh: BokehJS plotting callback run at\", now());\n      run_inline_js();\n    });\n  }\n}(window));"
     },
     "metadata": {},
     "output_type": "display_data"
    }
   ],
   "source": [
    "\n",
    "\n",
    "tabs = Tabs(tabs=[ tab1, tab2 ])\n",
    "\n",
    "show(tabs)\n",
    "output_notebook()"
   ]
  },
  {
   "cell_type": "markdown",
   "metadata": {},
   "source": [
    "# Question 3: Clustering (15 pts)\n",
    "## Part a\n",
    "\n",
    "This problem explores scaling, clustering, and one method of evaluating the quality of a clustering. You will also examine some of the issues in k-means clustering, and some ways to mitigate these problems. You will be using Fisher's Iris dataset available in sklearn.\n",
    "\n",
    "We wish to cluster the dataset to find any similar groups of flowers. However, we are not certain that the scales of the various features are well-suited for clustering. We will use scipy's k-means clustering package for this problem.\n",
    "\n",
    "When calculating the cluster purity, use the following equations:\n",
    "\n",
    "$ClassPurity(C_i$) = $\\frac{1}{|C_i|}\\max_j(|C_i|_{class=j})$\n",
    "\n",
    "$NetPurity$ = $\\sum_{i=1}^k\\frac{|C_i|}{|D|}purity(C_i)$\n",
    "\n",
    "where $|C_i|$ is the total number of data points assigned to cluster $C_i$, $|C_i|_{class=j}$ is the number of data points from class $j$ assigned to cluster $C_i$ and $D$ refers to the whole dataset.\n",
    "\n",
    "1. Cluster the data into 4 clusters, using K-means and calculate the NetPurity for your solution.\n",
    "2. Now linearly scale each feature so that the values range from 0 to 1. Cluster the data using the k-means algorithm (as before), and calculate the cluster purity for the clustering. Report the calculations you used to scale the features, as well as the NetPurity.\n",
    "3. Linearly scale the original dataset features so that the distribution of values for each feature has a mean of 0 and a standard deviation of 1. Cluster the data as before, and report the NetPurity obtained.\n",
    "\n"
   ]
  },
  {
   "cell_type": "code",
   "execution_count": 48,
   "metadata": {
    "collapsed": true
   },
   "outputs": [],
   "source": [
    "import numpy as np\n",
    "import pandas as pd\n",
    "from sklearn.cluster import KMeans\n",
    "from sklearn import datasets"
   ]
  },
  {
   "cell_type": "code",
   "execution_count": 41,
   "metadata": {
    "collapsed": true
   },
   "outputs": [],
   "source": [
    "from sklearn.metrics import accuracy_score\n",
    "import numpy as np\n",
    "\n",
    "def purity_score(y_true, y_pred):\n",
    "    # matrix which will hold the majority-voted labels\n",
    "    y_labeled_voted = np.zeros(y_true.shape)\n",
    "    labels = np.unique(y_true)\n",
    "    # We set the number of bins to be n_classes+2 so that \n",
    "    # we count the actual occurence of classes between two consecutive bin\n",
    "    # the bigger being excluded [bin_i, bin_i+1[\n",
    "    bins = np.concatenate((labels, [np.max(labels)+1]), axis=0)\n",
    "\n",
    "    for cluster in np.unique(y_pred):\n",
    "        hist, _ = np.histogram(y_true[y_pred==cluster], bins=bins)\n",
    "        # Find the most present label in the cluster\n",
    "        winner = np.argmax(hist)\n",
    "        y_labeled_voted[y_pred==cluster] = winner\n",
    "\n",
    "    return accuracy_score(y_true, y_labeled_voted)"
   ]
  },
  {
   "cell_type": "markdown",
   "metadata": {},
   "source": [
    "## NetPurity of K-Means of 4 (No Scaling)"
   ]
  },
  {
   "cell_type": "code",
   "execution_count": 66,
   "metadata": {
    "collapsed": false
   },
   "outputs": [
    {
     "name": "stdout",
     "output_type": "stream",
     "text": [
      "Purity score of: 0.726666666667\n"
     ]
    }
   ],
   "source": [
    "iris = datasets.load_iris()\n",
    "X_iris = iris.data\n",
    "y_iris = iris.target\n",
    "k_means = KMeans(n_clusters=4)\n",
    "k_means.fit(X_iris) \n",
    "labels = k_means.labels_\n",
    "print \"Purity score of: \" + str(purity_score(labels, y_iris))"
   ]
  },
  {
   "cell_type": "markdown",
   "metadata": {},
   "source": [
    "## NetPurity of K-Means of 4 (Scaling to range from 0 to 1)"
   ]
  },
  {
   "cell_type": "markdown",
   "metadata": {},
   "source": [
    "$$z_i = \\frac{x_i - min(x)}{max(x)-min(x)}$$"
   ]
  },
  {
   "cell_type": "code",
   "execution_count": 69,
   "metadata": {
    "collapsed": false
   },
   "outputs": [
    {
     "name": "stdout",
     "output_type": "stream",
     "text": [
      "Purity score of: 0.706666666667\n"
     ]
    }
   ],
   "source": [
    "X_iris_df = pd.DataFrame(X_iris)\n",
    "y_iris_df = pd.DataFrame(y_iris)\n",
    "X_iris_df_norm = (X_iris_df - X_iris_df.min())/(X_iris_df.max()-X_iris_df.min())\n",
    "k_means = KMeans(n_clusters=4)\n",
    "k_means.fit(X_iris_df_norm)\n",
    "labels = k_means.labels_\n",
    "print \"Purity score of: \" + str(purity_score(labels, y_iris))"
   ]
  },
  {
   "cell_type": "markdown",
   "metadata": {},
   "source": [
    "## NetPurity of K-Means of 4 ($\\mu = 0$ $\\sigma=1$)"
   ]
  },
  {
   "cell_type": "markdown",
   "metadata": {},
   "source": [
    "$$z_i = \\frac{x_i - mean(x)}{std(x)}$$"
   ]
  },
  {
   "cell_type": "code",
   "execution_count": 72,
   "metadata": {
    "collapsed": false
   },
   "outputs": [
    {
     "name": "stdout",
     "output_type": "stream",
     "text": [
      "Purity score of: 0.693333333333\n"
     ]
    }
   ],
   "source": [
    "X_iris_df = pd.DataFrame(X_iris)\n",
    "y_iris_df = pd.DataFrame(y_iris)\n",
    "X_iris_df_norm = (X_iris_df - X_iris_df.mean())/(X_iris_df.std())\n",
    "k_means = KMeans(n_clusters=4)\n",
    "k_means.fit(X_iris_df_norm)\n",
    "labels = k_means.labels_\n",
    "print \"Purity score of: \" + str(purity_score(labels, y_iris))"
   ]
  },
  {
   "cell_type": "markdown",
   "metadata": {},
   "source": [
    "## Part b\n",
    "\n",
    "Run both single link and complete link hierarchical clustering algorithms on the iris dataset, and submit the two dendograms. \n",
    "\n",
    "1. For each dendogram, visually inspect it to suggest what value(s) of $k$ (between 1 and 6) seem reasonable to choose for this dataset. \n",
    "2. Do you observe any difference in the structure of the 2 dendograms? How do you explain this difference?"
   ]
  },
  {
   "cell_type": "code",
   "execution_count": 73,
   "metadata": {
    "collapsed": true
   },
   "outputs": [],
   "source": [
    "% matplotlib inline\n",
    "from matplotlib import pyplot as plt\n",
    "import numpy as np\n",
    "from scipy.cluster.hierarchy import dendrogram, linkage\n",
    "from sklearn import datasets\n",
    "\n",
    "iris = datasets.load_iris()\n",
    "X_iris = iris.data\n",
    "y_iris = iris.target"
   ]
  },
  {
   "cell_type": "markdown",
   "metadata": {},
   "source": [
    "## Single Linkage"
   ]
  },
  {
   "cell_type": "code",
   "execution_count": 82,
   "metadata": {
    "collapsed": false
   },
   "outputs": [
    {
     "data": {
      "image/png": "[encoded data removed]",
      "text/plain": [
       "<matplotlib.figure.Figure at 0xeabfba8>"
      ]
     },
     "metadata": {},
     "output_type": "display_data"
    }
   ],
   "source": [
    "Z = linkage(X_iris, 'single')\n",
    "# calculate full dendrogram\n",
    "plt.figure(figsize=(30, 10))\n",
    "plt.title('Hierarchical Clustering Dendrogram')\n",
    "plt.xlabel('Index')\n",
    "plt.ylabel('distance')\n",
    "dendrogram(\n",
    "    Z,\n",
    "    leaf_rotation=90.,  # rotates the x axis labels\n",
    "    leaf_font_size=8.,  # font size for the x axis labels\n",
    ")\n",
    "plt.show()"
   ]
  },
  {
   "cell_type": "markdown",
   "metadata": {},
   "source": [
    "### Observation\n",
    "Visually, k = 2 clusteres seems the best for a single linkage. Thye cutoff distance is around distance of 1."
   ]
  },
  {
   "cell_type": "markdown",
   "metadata": {},
   "source": [
    "## Double Linkage"
   ]
  },
  {
   "cell_type": "code",
   "execution_count": 83,
   "metadata": {
    "collapsed": false
   },
   "outputs": [
    {
     "data": {
      "image/png": "[encoded data removed]",
      "text/plain": [
       "<matplotlib.figure.Figure at 0xe7a85c0>"
      ]
     },
     "metadata": {},
     "output_type": "display_data"
    }
   ],
   "source": [
    "Z = linkage(X_iris, 'complete')\n",
    "# calculate full dendrogram\n",
    "plt.figure(figsize=(30, 10))\n",
    "plt.title('Hierarchical Clustering Dendrogram')\n",
    "plt.xlabel('Index')\n",
    "plt.ylabel('distance')\n",
    "dendrogram(\n",
    "    Z,\n",
    "    leaf_rotation=90.,  # rotates the x axis labels\n",
    "    leaf_font_size=8.,  # font size for the x axis labels\n",
    ")\n",
    "plt.show()"
   ]
  },
  {
   "cell_type": "markdown",
   "metadata": {},
   "source": [
    "### Observation\n",
    "Visually, k = 3 clusters seems the best for double linkage. Thye cutoff distance is around distance of 4 and again around 3."
   ]
  },
  {
   "cell_type": "markdown",
   "metadata": {},
   "source": [
    "## Observation of Two Dendrogram"
   ]
  },
  {
   "cell_type": "markdown",
   "metadata": {},
   "source": [
    "Single Linkages performs the **nearest** linkage on the condensed distance matrix y\n",
    "\n",
    "Complete Linkages performs **farthest** point linkage on the condensed distance matrix y.\n",
    "\n",
    "As a result, we see that the dendrogram for singlie linkages to have many clusters that are locally close to each other while the dendrogram for the complete linkage is more spread out."
   ]
  },
  {
   "cell_type": "markdown",
   "metadata": {},
   "source": [
    "## Part c\n",
    "\n",
    "1. What is the cost function minimised in the k-means clustering algorithm?\n",
    "2. Explain how this can be generalized to be of the form $J = \\sum_{i=1}^k n_i s_i$, where $s_i$ is the average squared (Euclidean) distance between pairs of points in cluster $i$ (every point is compared with every point - including itself - in the same cluster, so we have $n_i^2$ comparisions that are averaged over to get $s_i$), \n",
    "and $n_i$ is the total number of points in cluster $i$.\n",
    "3. What would the benefit of such a generalized expression be?"
   ]
  },
  {
   "cell_type": "markdown",
   "metadata": {},
   "source": [
    "1. Standard Expression, $J = \\sum_{i=1}^k \\sum_{x \\in S_i} ||x-\\mu_i||^2$, where $\\mu_i$ is the mean of the points in $S_i$\n",
    "2. Generalized expression, \n",
    "    $$J = \\sum_{i=1}^k n_i * (||x-\\mu_i||^2 /n_i)$$ where $n_i$ is the number of samples in each cluster\n",
    "    \n",
    "    $$J = \\sum_{i=1}^k n_i * s_i $$ where s_i is the variance within each cluster\n",
    "\n",
    "3. Benefit: $s_i$ can now be replaced with any similarity metric based on the clustering problem requirements"
   ]
  },
  {
   "cell_type": "code",
   "execution_count": null,
   "metadata": {
    "collapsed": true
   },
   "outputs": [],
   "source": []
  }
 ],
 "metadata": {
  "anaconda-cloud": {},
  "kernelspec": {
   "display_name": "Python 2",
   "language": "python",
   "name": "python2"
  },
  "language_info": {
   "codemirror_mode": {
    "name": "ipython",
    "version": 2
   },
   "file_extension": ".py",
   "mimetype": "text/x-python",
   "name": "python",
   "nbconvert_exporter": "python",
   "pygments_lexer": "ipython2",
   "version": "2.7.13"
  }
 },
 "nbformat": 4,
 "nbformat_minor": 1
}
